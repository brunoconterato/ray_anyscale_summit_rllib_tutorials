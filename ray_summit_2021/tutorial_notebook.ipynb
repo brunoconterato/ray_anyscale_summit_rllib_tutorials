{
 "cells": [
  {
   "cell_type": "markdown",
   "id": "green-insertion",
   "metadata": {},
   "source": [
    "# Hands-on RL with Ray’s RLlib\n",
    "## A beginner’s tutorial for working with multi-agent environments, models, and algorithms\n",
    "\n",
    "<img src=\"images/pitfall.jpg\" width=250> <img src=\"images/tesla.jpg\" width=254> <img src=\"images/forklifts.jpg\" width=169> <img src=\"images/robots.jpg\" width=252> <img src=\"images/dota2.jpg\" width=213>\n",
    "\n",
    "### Overview\n",
    "“Hands-on RL with Ray’s RLlib” is a beginners tutorial for working with reinforcement learning (RL) environments, models, and algorithms using Ray’s RLlib library. RLlib offers high scalability, a large list of algos to choose from (offline, model-based, model-free, etc..), support for TensorFlow and PyTorch, and a unified API for a variety of applications. This tutorial includes a brief introduction to provide an overview of concepts (e.g. why RL) before proceeding to RLlib (multi- and single-agent) environments, neural network models, hyperparameter tuning, debugging, student exercises, Q/A, and more. All code will be provided as .py files in a GitHub repo.\n",
    "\n",
    "### Intended Audience\n",
    "* Python programmers who want to get started with reinforcement learning and RLlib.\n",
    "\n",
    "### Prerequisites\n",
    "* Some Python programming experience.\n",
    "* Some familiarity with machine learning.\n",
    "* *Helpful, but not required:* Experience in reinforcement learning and Ray.\n",
    "* *Helpful, but not required:* Experience with TensorFlow or PyTorch.\n",
    "\n",
    "### Requirements/Dependencies\n",
    "\n",
    "Install conda (https://www.anaconda.com/products/individual)\n",
    "\n",
    "Then ...\n",
    "\n",
    "#### Quick `conda` setup instructions (Linux):\n",
    "```\n",
    "$ conda create -n rllib python=3.8\n",
    "$ conda activate rllib\n",
    "$ pip install ray[rllib]\n",
    "$ pip install tensorflow  # <- either one works!\n",
    "$ pip install torch  # <- either one works!\n",
    "$ pip install jupyterlab\n",
    "```\n",
    "\n",
    "#### Quick `conda` setup instructions (Mac):\n",
    "```\n",
    "$ conda create -n rllib python=3.8\n",
    "$ conda activate rllib\n",
    "$ pip install cmake \"ray[rllib]\"\n",
    "$ pip install tensorflow  # <- either one works!\n",
    "$ pip install torch  # <- either one works!\n",
    "$ pip install jupyterlab\n",
    "```\n",
    "\n",
    "#### Quick `conda` setup instructions (Win10):\n",
    "```\n",
    "$ conda create -n rllib python=3.8\n",
    "$ conda activate rllib\n",
    "$ pip install ray[rllib]\n",
    "$ pip install [tensorflow|torch]  # <- either one works!\n",
    "$ pip install jupyterlab\n",
    "$ conda install pywin32\n",
    "```\n",
    "\n",
    "Also, for Win10 Atari support, we have to install atari_py from a different source (gym does not support Atari envs on Windows).\n",
    "\n",
    "```\n",
    "$ pip install git+https://github.com/Kojoley/atari-py.git\n",
    "```\n",
    "\n",
    "### Opening these tutorial files:\n",
    "```\n",
    "$ git clone https://github.com/sven1977/rllib_tutorials\n",
    "$ cd rllib_tutorials\n",
    "$ jupyter-lab\n",
    "```\n",
    "\n",
    "### Key Takeaways\n",
    "* What is reinforcement learning and why RLlib?\n",
    "* Core concepts of RLlib: Environments, Trainers, Policies, and Models.\n",
    "* How to configure, hyperparameter-tune, and parallelize RLlib.\n",
    "* RLlib debugging best practices.\n",
    "\n",
    "### Tutorial Outline\n",
    "1. RL and RLlib in a nutshell.\n",
    "1. Defining an RL-solvable problem: Our first environment.\n",
    "1. **Exercise No.1**: Environment loop.\n",
    "\n",
    "(15min break)\n",
    "\n",
    "1. Picking an algorithm and training our first RLlib Trainer.\n",
    "1. Configurations and hyperparameters - Easy tuning with Ray Tune.\n",
    "1. Fixing our experiment's config - Going multi-agent.\n",
    "1. The \"infinite laptop\": Quick intro into how to use RLlib with Anyscale's product.\n",
    "1. **Exercise No.2**: Run your own Ray RLlib+Tune experiment)\n",
    "1. Neural network models - Provide your custom models using tf.keras or torch.nn.\n",
    "\n",
    "(15min break)\n",
    "\n",
    "1. Deeper dive into RLlib's parallelization architecture.\n",
    "1. Specifying different compute resources and parallelization options through our config.\n",
    "1. \"Hacking in\": Using callbacks to customize the RL loop and generate our own metrics.\n",
    "1. **Exercise No.3**: Write your own custom callback.\n",
    "1. \"Hacking in (part II)\" - Debugging with RLlib and PyCharm.\n",
    "1. Checking on the \"infinite laptop\" - Did RLlib learn to solve the problem?\n",
    "\n",
    "### Other Recommended Readings\n",
    "* [Attention Nets and More with RLlib's Trajectory View API](https://medium.com/distributed-computing-with-ray/attention-nets-and-more-with-rllibs-trajectory-view-api-d326339a6e65)\n",
    "* [Intro to RLlib: Example Environments](https://medium.com/distributed-computing-with-ray/intro-to-rllib-example-environments-3a113f532c70)\n",
    "* [Reinforcement Learning with RLlib in the Unity Game Engine](https://medium.com/distributed-computing-with-ray/reinforcement-learning-with-rllib-in-the-unity-game-engine-1a98080a7c0d)\n"
   ]
  },
  {
   "cell_type": "markdown",
   "id": "proud-yorkshire",
   "metadata": {},
   "source": [
    "<img src=\"images/rl-cycle.png\" width=800>"
   ]
  },
  {
   "cell_type": "markdown",
   "id": "62744730",
   "metadata": {},
   "source": [
    "### Coding/defining our \"problem\" via an RL environment.\n",
    "\n",
    "We will use the following (adversarial) multi-agent environment\n",
    "throughout this tutorial to demonstrate a large fraction of RLlib's\n",
    "APIs, features, and customization options."
   ]
  },
  {
   "cell_type": "markdown",
   "id": "1eb35116-efda-4799-8bae-e96d7775a0d1",
   "metadata": {},
   "source": [
    "<img src=\"images/environment.png\" width=800>"
   ]
  },
  {
   "cell_type": "markdown",
   "id": "fa1fe753-d7e0-4de1-b937-160507f75ed8",
   "metadata": {},
   "source": [
    "### A word or two on Spaces:\n",
    "\n",
    "Spaces are used in ML to describe what possible/valid values inputs and outputs of a neural network can have.\n",
    "\n",
    "RL environments also use them to describe what their valid observations and actions are.\n",
    "\n",
    "Spaces are usually defined by their shape (e.g. 84x84x3 RGB images) and datatype (e.g. uint8 for RGB values between 0 and 255).\n",
    "However, spaces could also be composed of other spaces (see Tuple or Dict spaces) or could be simply discrete with n fixed possible values\n",
    "(represented by integers). For example, in our game, where each agent can only go up/down/left/right, the action space would be \"Discrete(4)\"\n",
    "(no datatype, no shape needs to be defined here)."
   ]
  },
  {
   "cell_type": "markdown",
   "id": "023e4135-98ed-4e65-9e26-66f340747529",
   "metadata": {},
   "source": [
    "<img src=\"images/spaces.png\" width=800>"
   ]
  },
  {
   "cell_type": "code",
   "execution_count": 1,
   "id": "871a3661-2d74-4a50-b4ef-a89c27d978f3",
   "metadata": {},
   "outputs": [
    {
     "name": "stderr",
     "output_type": "stream",
     "text": [
      "/Users/sven/opt/anaconda3/envs/rllib_tutorial/lib/python3.8/site-packages/ray/autoscaler/_private/cli_logger.py:57: FutureWarning: Not all Ray CLI dependencies were found. In Ray 1.4+, the Ray CLI, autoscaler, and dashboard will only be usable via `pip install 'ray[default]'`. Please update your install command.\n",
      "  warnings.warn(\n"
     ]
    },
    {
     "name": "stdout",
     "output_type": "stream",
     "text": [
      "Agent1's x/y position=[1, 0]\n",
      "Agent2's x/y position=[8, 9]\n",
      "Env timesteps=1\n",
      "r1=1.0 r2=-0.1\n"
     ]
    }
   ],
   "source": [
    "# Let's code (parts of) our multi-agent environment.\n",
    "\n",
    "import gym\n",
    "from gym.spaces import Discrete, MultiDiscrete\n",
    "import numpy as np\n",
    "import random\n",
    "\n",
    "from ray.rllib.env.multi_agent_env import MultiAgentEnv\n",
    "\n",
    "\n",
    "class MultiAgentArena(MultiAgentEnv):\n",
    "    def __init__(self, config=None):\n",
    "        config = config or {}\n",
    "        # Dimensions of the grid.\n",
    "        self.width = config.get(\"width\", 10)\n",
    "        self.height = config.get(\"height\", 10)\n",
    "\n",
    "        # End an episode after this many timesteps.\n",
    "        self.timestep_limit = config.get(\"ts\", 100)\n",
    "\n",
    "        self.observation_space = MultiDiscrete([self.width * self.height,\n",
    "                                                self.width * self.height])\n",
    "        # 0=up, 1=right, 2=down, 3=left.\n",
    "        self.action_space = Discrete(4)\n",
    "\n",
    "        # Reset env.\n",
    "        self.reset()\n",
    "        \n",
    "    def reset(self):\n",
    "        \"\"\"Returns initial observation of next(!) episode.\"\"\"\n",
    "        # !LIVE CODING!\n",
    "        #pass\n",
    "        # Row-major coords!\n",
    "        self.agent1_pos = [0, 0]\n",
    "        self.agent2_pos = [self.height - 1, self.width - 1]\n",
    "        # Reset agent1's visited fields.\n",
    "        self.agent1_visited_fields = set()\n",
    "        # How many timesteps have we done in this episode.\n",
    "        self.timesteps = 0\n",
    "        return self._get_obs()\n",
    "\n",
    "    def step(self, action: dict):\n",
    "        \"\"\"Returns (next observation, rewards, dones, infos) after having taken the given action.\"\"\"\n",
    "        # !LIVE CODING!\n",
    "        #pass\n",
    "        # increase our time steps counter by 1.\n",
    "        self.timesteps += 1\n",
    "        # An episode is \"done\" when we reach the time step limit.\n",
    "        is_done = self.timesteps >= self.timestep_limit\n",
    "\n",
    "        # Determine, who is allowed to move first (50:50).\n",
    "        if random.random() > 0.5:\n",
    "            # events = [collision|new_field]\n",
    "            events = self._move(self.agent1_pos, action[\"agent1\"], is_agent1=True)\n",
    "            events |= self._move(self.agent2_pos, action[\"agent2\"], is_agent1=False)\n",
    "        else:\n",
    "            events = self._move(self.agent2_pos, action[\"agent2\"], is_agent1=False)\n",
    "            events |= self._move(self.agent1_pos, action[\"agent1\"], is_agent1=True)\n",
    "\n",
    "        # Get observations (based on new agent positions).\n",
    "        obs = self._get_obs()\n",
    "\n",
    "        # Determine rewards based on the collected events:\n",
    "        rewards = {\n",
    "            \"agent1\": -1.0 if \"collision\" in events else 1.0 if \"new_field\" in events else -0.5,\n",
    "            \"agent2\": 1.0 if \"collision\" in events else -0.1,\n",
    "        }\n",
    "\n",
    "        # Generate a `done` dict (per-agent and total).\n",
    "        dones = {\n",
    "            \"agent1\": is_done,\n",
    "            \"agent2\": is_done,\n",
    "            # special `__all__` key indicates that the episode is done for all agents.\n",
    "            \"__all__\": is_done,\n",
    "        }\n",
    "\n",
    "        return obs, rewards, dones, {}  # <- info dict (not needed here).\n",
    "\n",
    "    def _get_obs(self):\n",
    "        \"\"\"\n",
    "        Returns obs dict (agent name to discrete-pos tuple) using each\n",
    "        agent's current x/y-positions.\n",
    "        \"\"\"\n",
    "        ag1_discrete_pos = self.agent1_pos[0] * self.width + \\\n",
    "            (self.agent1_pos[1] % self.width)\n",
    "        ag2_discrete_pos = self.agent2_pos[0] * self.width + \\\n",
    "            (self.agent2_pos[1] % self.width)\n",
    "        return {\n",
    "            \"agent1\": np.array([ag1_discrete_pos, ag2_discrete_pos]),\n",
    "            \"agent2\": np.array([ag2_discrete_pos, ag1_discrete_pos]),\n",
    "        }\n",
    "\n",
    "    def _move(self, coords, action, is_agent1):\n",
    "        \"\"\"\n",
    "        Moves an agent (agent1 iff is_agent1=True, else agent2) from `coords` (x/y) using the\n",
    "        given action (0=up, 1=right, etc..) and returns a resulting events dict:\n",
    "        Agent1: \"new\" when entering a new field. \"bumped\" when having been bumped into by agent2.\n",
    "        Agent2: \"bumped\" when bumping into agent1 (agent1 then gets -1.0).\n",
    "        \"\"\"\n",
    "        orig_coords = coords[:]\n",
    "        # Change the row: 0=up (-1), 2=down (+1)\n",
    "        coords[0] += -1 if action == 0 else 1 if action == 2 else 0\n",
    "        # Change the column: 1=right (+1), 3=left (-1)\n",
    "        coords[1] += 1 if action == 1 else -1 if action == 3 else 0\n",
    "\n",
    "        # Solve collisions.\n",
    "        # Make sure, we don't end up on the other agent's position.\n",
    "        # If yes, don't move (we are blocked).\n",
    "        if (is_agent1 and coords == self.agent2_pos) or (not is_agent1 and coords == self.agent1_pos):\n",
    "            coords[0], coords[1] = orig_coords\n",
    "            # Agent2 blocked agent1 (agent1 tried to run into agent2)\n",
    "            # OR Agent2 bumped into agent1 (agent2 tried to run into agent1)\n",
    "            return {\"collision\"}\n",
    "\n",
    "        # No agent blocking -> check walls.\n",
    "        if coords[0] < 0:\n",
    "            coords[0] = 0\n",
    "        elif coords[0] >= self.height:\n",
    "            coords[0] = self.height - 1\n",
    "        if coords[1] < 0:\n",
    "            coords[1] = 0\n",
    "        elif coords[1] >= self.width:\n",
    "            coords[1] = self.width - 1\n",
    "\n",
    "        # If agent1 -> \"new\" if new tile covered.\n",
    "        if is_agent1 and not tuple(coords) in self.agent1_visited_fields:\n",
    "            self.agent1_visited_fields.add(tuple(coords))\n",
    "            return {\"new_field\"}\n",
    "        # No new tile for agent1.\n",
    "        return set()\n",
    "\n",
    "    # Optionally: Add `render` method returning some img.\n",
    "    def render(self, mode=None):\n",
    "        field_size = 40\n",
    "\n",
    "        if not hasattr(self, \"viewer\"):\n",
    "            from gym.envs.classic_control import rendering\n",
    "            self.viewer = rendering.Viewer(400, 400)\n",
    "            self.fields = {}\n",
    "            # Add our grid, and the two agents to the viewer.\n",
    "            for i in range(self.width):\n",
    "                l = i * field_size\n",
    "                r = l + field_size\n",
    "                for j in range(self.height):\n",
    "                    b = 400 - j * field_size - field_size\n",
    "                    t = b + field_size\n",
    "                    field = rendering.PolyLine([(l, b), (l, t), (r, t), (r, b)], close=True)\n",
    "                    field.set_color(.0, .0, .0)\n",
    "                    field.set_linewidth(1.0)\n",
    "                    self.fields[(j, i)] = field\n",
    "                    self.viewer.add_geom(field)\n",
    "            \n",
    "            agent1 = rendering.make_circle(radius=field_size // 2 - 4)\n",
    "            agent1.set_color(.0, 0.8, 0.1)\n",
    "            self.agent1_trans = rendering.Transform()\n",
    "            agent1.add_attr(self.agent1_trans)\n",
    "            agent2 = rendering.make_circle(radius=field_size // 2 - 4)\n",
    "            agent2.set_color(.5, 0.1, 0.1)\n",
    "            self.agent2_trans = rendering.Transform()\n",
    "            agent2.add_attr(self.agent2_trans)\n",
    "            self.viewer.add_geom(agent1)\n",
    "            self.viewer.add_geom(agent2)\n",
    "\n",
    "        # Mark those fields green that have been covered by agent1,\n",
    "        # all others black.\n",
    "        for i in range(self.width):\n",
    "            for j in range(self.height):\n",
    "                self.fields[(j, i)].set_color(.0, .0, .0)\n",
    "                self.fields[(j, i)].set_linewidth(1.0)\n",
    "        for (j, i) in self.agent1_visited_fields:\n",
    "            self.fields[(j, i)].set_color(.1, .5, .1)\n",
    "            self.fields[(j, i)].set_linewidth(5.0)\n",
    "        \n",
    "        # Edit the pole polygon vertex\n",
    "        self.agent1_trans.set_translation(self.agent1_pos[1] * field_size + field_size / 2, 400 - (self.agent1_pos[0] * field_size + field_size / 2))\n",
    "        self.agent2_trans.set_translation(self.agent2_pos[1] * field_size + field_size / 2, 400 - (self.agent2_pos[0] * field_size + field_size / 2))\n",
    "\n",
    "        return self.viewer.render(return_rgb_array=mode == 'rgb_array')\n",
    "\n",
    "dummy_env = MultiAgentArena()\n",
    "\n",
    "obs = dummy_env.reset()\n",
    "\n",
    "# Agent1 will move down, Agent2 moves up.\n",
    "obs, rewards, dones, infos = dummy_env.step(action={\"agent1\": 2, \"agent2\": 0})\n",
    "\n",
    "print(\"Agent1's x/y position={}\".format(dummy_env.agent1_pos))\n",
    "print(\"Agent2's x/y position={}\".format(dummy_env.agent2_pos))\n",
    "print(\"Env timesteps={}\".format(dummy_env.timesteps))\n",
    "print(\"r1={} r2={}\".format(rewards[\"agent1\"], rewards[\"agent2\"]))"
   ]
  },
  {
   "cell_type": "markdown",
   "id": "first-sussex",
   "metadata": {},
   "source": [
    "## Exercise No 1\n",
    "\n",
    "<hr />\n",
    "\n",
    "<img src=\"images/exercise1.png\" width=400>\n",
    "\n",
    "In the cell above, we performed a `reset()` and a single `step()` call. To walk through an entire episode, one would normally call `step()` repeatedly (with different actions) until the returned `done` dict has the \"agent1\" or \"agent2\" (or \"__all__\") key set to True. Your task is to write an \"environment loop\" that runs for exactly one episode using our `MultiAgentArena` class.\n",
    "\n",
    "Follow these instructions here to get this done.\n",
    "\n",
    "1. Create an env object.\n",
    "1. `reset` your environment to get the first (initial) observation.\n",
    "1. Compute the actions for \"agent1\" and \"agent2\" calling `DummyTrainer.compute_action([obs])` twice and putting the results into an action dict to be passed into `step()`, just like it's done in the above cell (where we do a single `step()`).\n",
    "1. Repeat this, `step`ing through an entire episode.\n",
    "1. When an episode is done, `step()` will return a done dict with key `__all__` set to True.\n",
    "1. If you feel, this is way too easy for you ;) , try to extract each agent's reward, sum it up over the episode and - at the end of the episode - print out each agent's accumulated reward (also called the \"return\" of an episode).\n",
    "\n",
    "**Good luck! :)**\n"
   ]
  },
  {
   "cell_type": "code",
   "execution_count": 2,
   "id": "spatial-geography",
   "metadata": {},
   "outputs": [
    {
     "name": "stdout",
     "output_type": "stream",
     "text": [
      "action_agent1=2\n",
      "action_agent2=1\n",
      "\n",
      "action_agent1=1\n",
      "action_agent2=1\n",
      "\n",
      "action_agent1=2\n",
      "action_agent2=3\n",
      "\n"
     ]
    }
   ],
   "source": [
    "class DummyTrainer:\n",
    "    \"\"\"Dummy Trainer class used in Exercise #1.\n",
    "\n",
    "    Use its `compute_action` method to get a new action for one of the agents,\n",
    "    given the agent's observation (a single discrete value encoding the field\n",
    "    the agent is currently in).\n",
    "    \"\"\"\n",
    "\n",
    "    def compute_action(self, single_agent_obs=None):\n",
    "        # Returns a random action for a single agent.\n",
    "        return np.random.randint(4)  # Discrete(4) -> return rand int between 0 and 3 (incl. 3).\n",
    "\n",
    "dummy_trainer = DummyTrainer()\n",
    "# Check, whether it's working.\n",
    "for _ in range(3):\n",
    "    # Get action for agent1 (providing agent1's and agent2's positions).\n",
    "    print(\"action_agent1={}\".format(dummy_trainer.compute_action(np.array([0, 99]))))\n",
    "\n",
    "    # Get action for agent2 (providing agent2's and agent1's positions).\n",
    "    print(\"action_agent2={}\".format(dummy_trainer.compute_action(np.array([99, 0]))))\n",
    "\n",
    "    print()"
   ]
  },
  {
   "cell_type": "markdown",
   "id": "9baa8a1d-7d82-4b79-b2d4-3ce7ffa6fae1",
   "metadata": {},
   "source": [
    "Write your solution code into this cell here:"
   ]
  },
  {
   "cell_type": "code",
   "execution_count": 4,
   "id": "6e2dd582-cb12-4619-9fc9-6eb51653eb45",
   "metadata": {},
   "outputs": [
    {
     "name": "stdout",
     "output_type": "stream",
     "text": [
      "episode is done r1=-7.0 r2=-8.89999999999998!\n",
      "episode is done r1=-1.0 r2=1.0!\n",
      "episode is done r1=1.0 r2=-0.1!\n",
      "episode is done r1=-1.0 r2=1.0!\n",
      "episode is done r1=1.0 r2=-0.1!\n",
      "episode is done r1=1.0 r2=-0.1!\n",
      "episode is done r1=1.0 r2=-0.1!\n",
      "episode is done r1=-0.5 r2=-0.1!\n",
      "episode is done r1=-0.5 r2=-0.1!\n",
      "episode is done r1=1.0 r2=-0.1!\n"
     ]
    }
   ],
   "source": [
    "# Solution to Exercise #1\n",
    "import time\n",
    "\n",
    "env = MultiAgentArena()\n",
    "\n",
    "obs = env.reset()\n",
    "\n",
    "num_episodes = 0\n",
    "\n",
    "r1 = r2 = 0.0\n",
    "\n",
    "while num_episodes < 10:\n",
    "    action1 = dummy_trainer.compute_action(single_agent_obs=obs[\"agent1\"])\n",
    "    action2 = dummy_trainer.compute_action(single_agent_obs=obs[\"agent2\"])\n",
    "\n",
    "    actions = {\"agent1\": action1, \"agent2\": action2}\n",
    "    \n",
    "    obs, reward, done, info = env.step(actions)\n",
    "    r1 += reward[\"agent1\"]\n",
    "    r2 += reward[\"agent2\"]\n",
    "\n",
    "    if done[\"__all__\"] is True:\n",
    "        num_episodes += 1\n",
    "        print(f\"episode is done r1={r1} r2={r2}!\")\n",
    "        r1 = r2 = 0.0\n",
    "\n",
    "    #env.render()\n",
    "        \n",
    "# !LIVE CODING!"
   ]
  },
  {
   "cell_type": "markdown",
   "id": "f14be65e-f4ba-4e2d-ab58-99807d1f324e",
   "metadata": {},
   "source": [
    "#### Exercise 1: Results video\n",
    "If you added the env.render() call after each step, you should expect to see something like this:\n"
   ]
  },
  {
   "cell_type": "code",
   "execution_count": 5,
   "id": "c2c32c20-1da2-409d-a580-0eaec6e07526",
   "metadata": {},
   "outputs": [
    {
     "data": {
      "text/html": [
       "<video width=\"320\" height=\"240\" controls>\n",
       "  <source src=\"videos/random_walk.mov\" type=\"video/mp4\">\n",
       "</video>\n"
      ],
      "text/plain": [
       "<IPython.core.display.HTML object>"
      ]
     },
     "metadata": {},
     "output_type": "display_data"
    }
   ],
   "source": [
    "%%HTML\n",
    "<video width=\"320\" height=\"240\" controls>\n",
    "  <source src=\"videos/random_walk.mov\" type=\"video/mp4\">\n",
    "</video>"
   ]
  },
  {
   "cell_type": "markdown",
   "id": "7e4196a5-7e7a-442a-8100-96bc7393c59d",
   "metadata": {},
   "source": [
    "------------------\n",
    "## 15 min break :)\n",
    "------------------"
   ]
  },
  {
   "cell_type": "markdown",
   "id": "5b20ac75-f3e6-4975-a209-2bf110b4ee13",
   "metadata": {},
   "source": [
    "### And now for something completely different:\n",
    "#### Plugging in RLlib!"
   ]
  },
  {
   "cell_type": "code",
   "execution_count": 6,
   "id": "bd830b90-5762-4d22-8fa9-0abf0777a240",
   "metadata": {},
   "outputs": [
    {
     "name": "stderr",
     "output_type": "stream",
     "text": [
      "2021-06-18 19:01:54,546\tINFO services.py:1272 -- View the Ray dashboard at \u001b[1m\u001b[32mhttp://127.0.0.1:8265\u001b[39m\u001b[22m\n"
     ]
    },
    {
     "data": {
      "text/plain": [
       "{'node_ip_address': '192.168.0.100',\n",
       " 'raylet_ip_address': '192.168.0.100',\n",
       " 'redis_address': '192.168.0.100:6379',\n",
       " 'object_store_address': '/tmp/ray/session_2021-06-18_19-01-52_951008_15020/sockets/plasma_store',\n",
       " 'raylet_socket_name': '/tmp/ray/session_2021-06-18_19-01-52_951008_15020/sockets/raylet',\n",
       " 'webui_url': '127.0.0.1:8265',\n",
       " 'session_dir': '/tmp/ray/session_2021-06-18_19-01-52_951008_15020',\n",
       " 'metrics_export_port': 60637,\n",
       " 'node_id': '952e326ec77df0bee4624ea5d808aac5a372bb18a68d2a067c74aee7'}"
      ]
     },
     "execution_count": 6,
     "metadata": {},
     "output_type": "execute_result"
    }
   ],
   "source": [
    "import numpy as np\n",
    "import pprint\n",
    "import ray\n",
    "\n",
    "# Start a new instance of Ray (when running this tutorial locally) or\n",
    "# connect to an already running one (when running this tutorial through Anyscale).\n",
    "\n",
    "ray.init()  # Hear the engine humming? ;)\n",
    "\n",
    "# In case you encounter the following error during our tutorial: `RuntimeError: Maybe you called ray.init twice by accident?`\n",
    "# Try: `ray.shutdown() + ray.init()` or `ray.init(ignore_reinit_error=True)`"
   ]
  },
  {
   "cell_type": "markdown",
   "id": "8a76f02f-ef66-484d-8a1a-074a6e25c84a",
   "metadata": {},
   "source": [
    "### Picking an RLlib algorithm - We'll use PPO throughout this tutorial (one-size-fits-all-kind-of-algo)"
   ]
  },
  {
   "cell_type": "markdown",
   "id": "0194b33a-e031-49ce-9ff2-b32e328f9955",
   "metadata": {},
   "source": [
    "<img src=\"images/rllib_algos.png\" width=800>"
   ]
  },
  {
   "cell_type": "markdown",
   "id": "65aa24b2-ac17-44a3-b7b1-274ce2f50a87",
   "metadata": {},
   "source": [
    "https://docs.ray.io/en/master/rllib-algorithms.html#available-algorithms-overview"
   ]
  },
  {
   "cell_type": "code",
   "execution_count": 7,
   "id": "4bcc1116-a14c-4479-87c0-6ece58ab0464",
   "metadata": {},
   "outputs": [
    {
     "name": "stderr",
     "output_type": "stream",
     "text": [
      "2021-06-18 19:04:56,856\tINFO trainer.py:671 -- Tip: set framework=tfe or the --eager flag to enable TensorFlow eager execution\n",
      "2021-06-18 19:04:56,858\tINFO trainer.py:696 -- Current log_level is WARN. For more information, set 'log_level': 'INFO' / 'DEBUG' or use the -v and -vv flags.\n",
      "2021-06-18 19:05:07,149\tINFO trainable.py:101 -- Trainable.setup took 10.295 seconds. If your trainable is slow to initialize, consider setting reuse_actors=True to reduce actor creation overheads.\n",
      "2021-06-18 19:05:07,151\tWARNING util.py:53 -- Install gputil for GPU system monitoring.\n"
     ]
    },
    {
     "data": {
      "text/plain": [
       "PPO"
      ]
     },
     "execution_count": 7,
     "metadata": {},
     "output_type": "execute_result"
    }
   ],
   "source": [
    "# Import a Trainable (one of RLlib's built-in algorithms):\n",
    "# We use the PPO algorithm here b/c its very flexible wrt its supported\n",
    "# action spaces and model types and b/c it learns well almost any problem.\n",
    "from ray.rllib.agents.ppo import PPOTrainer\n",
    "\n",
    "# Specify a very simple config, defining our environment and some environment\n",
    "# options (see environment.py).\n",
    "config = {\n",
    "    \"env\": MultiAgentArena,  # \"my_env\" <- if we previously have registered the env with `tune.register_env(\"[name]\", lambda config: [returns env object])`.\n",
    "    \"env_config\": {\n",
    "        \"config\": {\n",
    "            \"width\": 10,\n",
    "            \"height\": 10,\n",
    "            \"ts\": 100,\n",
    "        },\n",
    "    },\n",
    "\n",
    "    # !PyTorch users!\n",
    "    #\"framework\": \"torch\",  # If users have chosen to install torch instead of tf.\n",
    "\n",
    "    \"create_env_on_driver\": True,\n",
    "}\n",
    "# Instantiate the Trainer object using above config.\n",
    "rllib_trainer = PPOTrainer(config=config)\n",
    "rllib_trainer"
   ]
  },
  {
   "cell_type": "markdown",
   "id": "1d2ae150-c0a3-477f-8d78-d0a34f147958",
   "metadata": {},
   "source": [
    "### Ready to train with RLlib's PPO algorithm\n",
    "\n",
    "That's it, we are ready to train.\n",
    "Calling `Trainer.train()` will execute a single \"training iteration\".\n",
    "\n",
    "One iteration for most algos involves:\n",
    "\n",
    "1) sampling from the environment(s)\n",
    "2) using the sampled data (observations, actions taken, rewards) to update the policy model (neural network), such that it would pick better actions in the future, leading to higher rewards.\n",
    "\n",
    "Let's try it out:"
   ]
  },
  {
   "cell_type": "code",
   "execution_count": 8,
   "id": "0f6c94d4-6871-4d20-81af-3d4081f05f4a",
   "metadata": {},
   "outputs": [
    {
     "name": "stdout",
     "output_type": "stream",
     "text": [
      "{'agent_timesteps_total': 4000,\n",
      " 'custom_metrics': {},\n",
      " 'date': '2021-06-18_19-06-06',\n",
      " 'done': False,\n",
      " 'episode_len_mean': 100.0,\n",
      " 'episode_media': {},\n",
      " 'episode_reward_max': 15.9,\n",
      " 'episode_reward_mean': -5.399999999999995,\n",
      " 'episode_reward_min': -33.00000000000003,\n",
      " 'episodes_this_iter': 20,\n",
      " 'episodes_total': 20,\n",
      " 'experiment_id': 'd1c9826afaea4f9d8a902daa946ab921',\n",
      " 'hist_stats': {'episode_lengths': [100,\n",
      "                                    100,\n",
      "                                    100,\n",
      "                                    100,\n",
      "                                    100,\n",
      "                                    100,\n",
      "                                    100,\n",
      "                                    100,\n",
      "                                    100,\n",
      "                                    100,\n",
      "                                    100,\n",
      "                                    100,\n",
      "                                    100,\n",
      "                                    100,\n",
      "                                    100,\n",
      "                                    100,\n",
      "                                    100,\n",
      "                                    100,\n",
      "                                    100,\n",
      "                                    100],\n",
      "                'episode_reward': [-2.9999999999999907,\n",
      "                                   -33.00000000000003,\n",
      "                                   6.000000000000002,\n",
      "                                   -21.9,\n",
      "                                   -14.39999999999998,\n",
      "                                   -11.999999999999991,\n",
      "                                   -3.0000000000000044,\n",
      "                                   -0.8999999999999908,\n",
      "                                   -0.8999999999999835,\n",
      "                                   1.5000000000000084,\n",
      "                                   -22.500000000000007,\n",
      "                                   13.200000000000003,\n",
      "                                   -6.899999999999977,\n",
      "                                   14.399999999999975,\n",
      "                                   12.000000000000027,\n",
      "                                   15.9,\n",
      "                                   -27.000000000000007,\n",
      "                                   -10.499999999999988,\n",
      "                                   -19.5,\n",
      "                                   4.500000000000025]},\n",
      " 'hostname': 'Svens-MacBook-Pro.local',\n",
      " 'info': {'learner': {'default_policy': {'learner_stats': {'cur_kl_coeff': 0.20000000298023224,\n",
      "                                                           'cur_lr': 4.999999873689376e-05,\n",
      "                                                           'entropy': 1.3691974,\n",
      "                                                           'entropy_coeff': 0.0,\n",
      "                                                           'kl': 0.017283907,\n",
      "                                                           'model': {},\n",
      "                                                           'policy_loss': -0.054344825,\n",
      "                                                           'total_loss': 29.863428,\n",
      "                                                           'vf_explained_var': 0.13401048,\n",
      "                                                           'vf_loss': 29.91432}}},\n",
      "          'num_agent_steps_sampled': 4000,\n",
      "          'num_agent_steps_trained': 4000,\n",
      "          'num_steps_sampled': 4000,\n",
      "          'num_steps_trained': 4000},\n",
      " 'iterations_since_restore': 1,\n",
      " 'node_ip': '192.168.0.100',\n",
      " 'num_healthy_workers': 2,\n",
      " 'off_policy_estimator': {},\n",
      " 'perf': {'cpu_util_percent': 14.9, 'ram_util_percent': 65.5023529411765},\n",
      " 'pid': 15020,\n",
      " 'policy_reward_max': {},\n",
      " 'policy_reward_mean': {},\n",
      " 'policy_reward_min': {},\n",
      " 'sampler_perf': {'mean_action_processing_ms': 0.0598312734247564,\n",
      "                  'mean_env_render_ms': 0.0,\n",
      "                  'mean_env_wait_ms': 0.033242838246958104,\n",
      "                  'mean_inference_ms': 0.6530332517671539,\n",
      "                  'mean_raw_obs_processing_ms': 0.1551845333316586},\n",
      " 'time_since_restore': 3.5719871520996094,\n",
      " 'time_this_iter_s': 3.5719871520996094,\n",
      " 'time_total_s': 3.5719871520996094,\n",
      " 'timers': {'learn_throughput': 1539.059,\n",
      "            'learn_time_ms': 2598.991,\n",
      "            'load_throughput': 104049.913,\n",
      "            'load_time_ms': 38.443,\n",
      "            'sample_throughput': 4304.739,\n",
      "            'sample_time_ms': 929.208,\n",
      "            'update_time_ms': 1.725},\n",
      " 'timestamp': 1624035966,\n",
      " 'timesteps_since_restore': 0,\n",
      " 'timesteps_total': 4000,\n",
      " 'training_iteration': 1}\n"
     ]
    }
   ],
   "source": [
    "results = rllib_trainer.train()\n",
    "\n",
    "# Delete the config from the results for clarity.\n",
    "# Only the stats will remain, then.\n",
    "del results[\"config\"]\n",
    "# Pretty print the stats.\n",
    "pprint.pprint(results)"
   ]
  },
  {
   "cell_type": "code",
   "execution_count": 10,
   "id": "f3381a70-4b44-44e7-a9b3-852340c94b79",
   "metadata": {},
   "outputs": [
    {
     "name": "stdout",
     "output_type": "stream",
     "text": [
      "Iteration=12: R(\"return\")=5.46\n",
      "Iteration=13: R(\"return\")=6.374999999999997\n",
      "Iteration=14: R(\"return\")=7.640999999999991\n",
      "Iteration=15: R(\"return\")=8.957999999999984\n",
      "Iteration=16: R(\"return\")=9.914999999999981\n",
      "Iteration=17: R(\"return\")=10.739999999999975\n",
      "Iteration=18: R(\"return\")=12.131999999999966\n",
      "Iteration=19: R(\"return\")=12.500999999999966\n",
      "Iteration=20: R(\"return\")=13.562999999999958\n",
      "Iteration=21: R(\"return\")=14.138999999999955\n"
     ]
    }
   ],
   "source": [
    "# Run `train()` n times. Try to repeatedly call this to see rewards increase.\n",
    "# Move on once you see episode rewards of 10.0 or more.\n",
    "for _ in range(10):\n",
    "    results = rllib_trainer.train()\n",
    "    print(f\"Iteration={rllib_trainer.iteration}: R(\\\"return\\\")={results['episode_reward_mean']}\")"
   ]
  },
  {
   "cell_type": "markdown",
   "id": "ac80ad33-a55b-4e18-857b-b884eedda0a4",
   "metadata": {},
   "source": [
    "#### !OPTIONAL HACK! (<-- we will not do these during the tutorial, but feel free to try cells marked like this)\n",
    "\n",
    "Use the above solution of Exercise #1 and replace our `dummy_trainer` in that solution\n",
    "with the now trained `rllib_trainer`. You should see a better performance of the two agents.\n",
    "\n",
    "However, keep in mind that we are mostly training agent1 as we only trian a single policy and agent1\n",
    "is the \"easier\" one to collect high rewards with."
   ]
  },
  {
   "cell_type": "markdown",
   "id": "f409efcd-9c5c-4d91-a1ae-121b1b2fa698",
   "metadata": {},
   "source": [
    "#### !OPTIONAL HACK!\n",
    "\n",
    "Feel free to play around with the following code in order to learn how RLlib - under the hood - calculates actions from the environment's observations using Policies and their model(s) inside our Trainer object):"
   ]
  },
  {
   "cell_type": "code",
   "execution_count": null,
   "id": "aff679e8-74b4-4603-9d5c-4cc0c6ebe45a",
   "metadata": {},
   "outputs": [],
   "source": [
    "# Let's actually \"look inside\" our Trainer to see what's in there.\n",
    "from ray.rllib.utils.numpy import softmax\n",
    "\n",
    "# To get to one of the policies inside the Trainer, use `Trainer.get_policy()`:\n",
    "policy = rllib_trainer.get_policy()\n",
    "print(f\"Our (only!) Policy right now is: {policy}\")\n",
    "\n",
    "# To get to the model inside any policy, do:\n",
    "model = policy.model\n",
    "#print(f\"Our Policy's model is: {model}\")\n",
    "\n",
    "# Print out the policy's action and observation spaces.\n",
    "print(f\"Our Policy's observation space is: {policy.observation_space}\")\n",
    "print(f\"Our Policy's action space is: {policy.action_space}\")\n",
    "\n",
    "# Produce a random obervation (B=1; batch of size 1).\n",
    "obs = np.array([policy.observation_space.sample()])\n",
    "# Alternatively for PyTorch:\n",
    "#import torch\n",
    "#obs = torch.from_numpy(obs)\n",
    "\n",
    "# Get the action logits (as tf tensor).\n",
    "# If you are using torch, you would get a torch tensor here.\n",
    "logits, _ = model({\"obs\": obs})\n",
    "logits\n",
    "\n",
    "# Numpyize the tensor by running `logits` through the Policy's own tf.Session.\n",
    "logits_np = policy.get_session().run(logits)\n",
    "# For torch, you can simply do: `logits_np = logits.detach().cpu().numpy()`.\n",
    "\n",
    "# Convert logits into action probabilities and remove the B=1.\n",
    "action_probs = np.squeeze(softmax(logits_np))\n",
    "\n",
    "# Sample an action, using the probabilities.\n",
    "action = np.random.choice([0, 1, 2, 3], p=action_probs)\n",
    "\n",
    "# Print out the action.\n",
    "print(f\"samped action={action}\")"
   ]
  },
  {
   "cell_type": "markdown",
   "id": "47dd66c3-f07a-4795-84ea-6b232ba6a047",
   "metadata": {},
   "source": [
    "### Saving and restoring a trained Trainer.\n",
    "Currently, `rllib_trainer` is in an already trained state.\n",
    "It holds optimized weights in its Policy's model that allow it to act\n",
    "already somewhat smart in our environment when given an observation.\n",
    "\n",
    "However, if we closed this notebook right now, all the effort would have been for nothing.\n",
    "Let's therefore save the state of our trainer to disk for later!"
   ]
  },
  {
   "cell_type": "code",
   "execution_count": 11,
   "id": "57eae1e4-3cc4-4282-9a83-bc374bdad978",
   "metadata": {},
   "outputs": [
    {
     "name": "stdout",
     "output_type": "stream",
     "text": [
      "Trainer (at iteration 21 was saved in '/Users/sven/ray_results/PPO_MultiAgentArena_2021-06-18_19-04-5642yoh49e/checkpoint_000021/checkpoint-21'!\n",
      "The checkpoint directory contains the following files:\n"
     ]
    },
    {
     "data": {
      "text/plain": [
       "['checkpoint-21', 'checkpoint-21.tune_metadata', '.is_checkpoint']"
      ]
     },
     "execution_count": 11,
     "metadata": {},
     "output_type": "execute_result"
    }
   ],
   "source": [
    "# We use the `Trainer.save()` method to create a checkpoint.\n",
    "checkpoint_file = rllib_trainer.save()\n",
    "print(f\"Trainer (at iteration {rllib_trainer.iteration} was saved in '{checkpoint_file}'!\")\n",
    "\n",
    "# Here is what a checkpoint directory contains:\n",
    "print(\"The checkpoint directory contains the following files:\")\n",
    "import os\n",
    "os.listdir(os.path.dirname(checkpoint_file))"
   ]
  },
  {
   "cell_type": "markdown",
   "id": "5fc1e0ab-2c10-469a-97b1-4aadf1a1ec97",
   "metadata": {},
   "source": [
    "### Restoring and evaluating a Trainer\n",
    "In the following cell, we'll learn how to restore a saved Trainer from a checkpoint file.\n",
    "\n",
    "We'll also evaluate a completely new Trainer (should act more or less randomly) vs an already trained one (the one we just restored from the created checkpoint file)."
   ]
  },
  {
   "cell_type": "code",
   "execution_count": 12,
   "id": "74ceedb9-c225-46f2-ad1d-f902c81d3256",
   "metadata": {},
   "outputs": [
    {
     "name": "stderr",
     "output_type": "stream",
     "text": [
      "2021-06-18 19:14:22,166\tINFO trainable.py:101 -- Trainable.setup took 10.086 seconds. If your trainable is slow to initialize, consider setting reuse_actors=True to reduce actor creation overheads.\n",
      "2021-06-18 19:14:22,167\tWARNING util.py:53 -- Install gputil for GPU system monitoring.\n",
      "2021-06-18 19:14:23,964\tINFO trainable.py:377 -- Restored on 192.168.0.100 from checkpoint: /Users/sven/ray_results/PPO_MultiAgentArena_2021-06-18_19-04-5642yoh49e/checkpoint_000021/checkpoint-21\n",
      "2021-06-18 19:14:23,965\tINFO trainable.py:385 -- Current state after restoring: {'_iteration': 21, '_timesteps_total': None, '_time_total': 70.34251928329468, '_episodes_total': 420}\n"
     ]
    },
    {
     "name": "stdout",
     "output_type": "stream",
     "text": [
      "Evaluating new trainer: R=-11.280000000000008\n",
      "Before restoring: Trainer is at iteration=0\n",
      "After restoring: Trainer is at iteration=21\n",
      "Evaluating restored trainer: R=17.03999999999994\n"
     ]
    }
   ],
   "source": [
    "# Pretend, we wanted to pick up training from a previous run:\n",
    "new_trainer = PPOTrainer(config=config)\n",
    "# Evaluate the new trainer (this should yield random results).\n",
    "results = new_trainer.evaluate()\n",
    "print(f\"Evaluating new trainer: R={results['evaluation']['episode_reward_mean']}\")\n",
    "\n",
    "# Restoring the trained state into the `new_trainer` object.\n",
    "print(f\"Before restoring: Trainer is at iteration={new_trainer.iteration}\")\n",
    "new_trainer.restore(checkpoint_file)\n",
    "print(f\"After restoring: Trainer is at iteration={new_trainer.iteration}\")\n",
    "\n",
    "# Evaluate again (this should yield results we saw after having trained our saved agent).\n",
    "results = new_trainer.evaluate()\n",
    "print(f\"Evaluating restored trainer: R={results['evaluation']['episode_reward_mean']}\")"
   ]
  },
  {
   "cell_type": "markdown",
   "id": "de603d14-f0cb-4363-a72b-8f147c094071",
   "metadata": {},
   "source": [
    "In order to release all resources from a Trainer, you can use a Trainer's `stop()` method.\n",
    "You should definitley run this cell as it frees resources that we'll need later in this tutorial, when we'll do parallel hyperparameter sweeps."
   ]
  },
  {
   "cell_type": "code",
   "execution_count": 13,
   "id": "737dca4f-942f-4fda-abcc-0052263a103b",
   "metadata": {},
   "outputs": [],
   "source": [
    "rllib_trainer.stop()\n",
    "new_trainer.stop()"
   ]
  },
  {
   "cell_type": "markdown",
   "id": "fd3c1e4c-cb02-4719-ac5a-0106172a6c6c",
   "metadata": {
    "tags": []
   },
   "source": [
    "### Moving stuff to the professional level: RLlib in connection w/ Ray Tune\n",
    "\n",
    "Running any experiments through Ray Tune is the recommended way of doing things with RLlib. If you look at our\n",
    "<a href=\"https://github.com/ray-project/ray/tree/master/rllib/examples\">examples scripts folder</a>, you will see that almost all of the scripts use Ray Tune to run the particular RLlib workload demonstrated in each script.\n",
    "\n",
    "<img src=\"images/rllib_and_tune.png\" width=400>"
   ]
  },
  {
   "cell_type": "markdown",
   "id": "7bdacebb-d27f-4174-9002-35c5657f146c",
   "metadata": {
    "tags": []
   },
   "source": [
    "When setting up hyperparameter sweeps for Tune, we'll do this in our already familiar config dict.\n",
    "\n",
    "So let's take a quick look at our PPO algo's default config to understand, which hyperparameters we may want to play around with:"
   ]
  },
  {
   "cell_type": "code",
   "execution_count": 14,
   "id": "e1b32582-52bd-4585-9009-2f877a0723a3",
   "metadata": {
    "tags": []
   },
   "outputs": [
    {
     "name": "stdout",
     "output_type": "stream",
     "text": [
      "PPO's default config is:\n",
      "{'_fake_gpus': False,\n",
      " 'batch_mode': 'truncate_episodes',\n",
      " 'callbacks': <class 'ray.rllib.agents.callbacks.DefaultCallbacks'>,\n",
      " 'clip_actions': True,\n",
      " 'clip_param': 0.3,\n",
      " 'clip_rewards': None,\n",
      " 'collect_metrics_timeout': 180,\n",
      " 'compress_observations': False,\n",
      " 'create_env_on_driver': False,\n",
      " 'custom_eval_function': None,\n",
      " 'custom_resources_per_worker': {},\n",
      " 'eager_tracing': False,\n",
      " 'entropy_coeff': 0.0,\n",
      " 'entropy_coeff_schedule': None,\n",
      " 'env': None,\n",
      " 'env_config': {},\n",
      " 'env_task_fn': None,\n",
      " 'evaluation_config': {},\n",
      " 'evaluation_interval': None,\n",
      " 'evaluation_num_episodes': 10,\n",
      " 'evaluation_num_workers': 0,\n",
      " 'evaluation_parallel_to_training': False,\n",
      " 'exploration_config': {'type': 'StochasticSampling'},\n",
      " 'explore': True,\n",
      " 'extra_python_environs_for_driver': {},\n",
      " 'extra_python_environs_for_worker': {},\n",
      " 'fake_sampler': False,\n",
      " 'framework': 'tf',\n",
      " 'gamma': 0.99,\n",
      " 'grad_clip': None,\n",
      " 'horizon': None,\n",
      " 'ignore_worker_failures': False,\n",
      " 'in_evaluation': False,\n",
      " 'input': 'sampler',\n",
      " 'input_evaluation': ['is', 'wis'],\n",
      " 'kl_coeff': 0.2,\n",
      " 'kl_target': 0.01,\n",
      " 'lambda': 1.0,\n",
      " 'local_tf_session_args': {'inter_op_parallelism_threads': 8,\n",
      "                           'intra_op_parallelism_threads': 8},\n",
      " 'log_level': 'WARN',\n",
      " 'log_sys_usage': True,\n",
      " 'logger_config': None,\n",
      " 'lr': 5e-05,\n",
      " 'lr_schedule': None,\n",
      " 'metrics_smoothing_episodes': 100,\n",
      " 'min_iter_time_s': 0,\n",
      " 'model': {'_time_major': False,\n",
      "           '_use_default_native_models': False,\n",
      "           'attention_dim': 64,\n",
      "           'attention_head_dim': 32,\n",
      "           'attention_init_gru_gate_bias': 2.0,\n",
      "           'attention_memory_inference': 50,\n",
      "           'attention_memory_training': 50,\n",
      "           'attention_num_heads': 1,\n",
      "           'attention_num_transformer_units': 1,\n",
      "           'attention_position_wise_mlp_dim': 32,\n",
      "           'attention_use_n_prev_actions': 0,\n",
      "           'attention_use_n_prev_rewards': 0,\n",
      "           'conv_activation': 'relu',\n",
      "           'conv_filters': None,\n",
      "           'custom_action_dist': None,\n",
      "           'custom_model': None,\n",
      "           'custom_model_config': {},\n",
      "           'custom_preprocessor': None,\n",
      "           'dim': 84,\n",
      "           'fcnet_activation': 'tanh',\n",
      "           'fcnet_hiddens': [256, 256],\n",
      "           'framestack': True,\n",
      "           'free_log_std': False,\n",
      "           'grayscale': False,\n",
      "           'lstm_cell_size': 256,\n",
      "           'lstm_use_prev_action': False,\n",
      "           'lstm_use_prev_action_reward': -1,\n",
      "           'lstm_use_prev_reward': False,\n",
      "           'max_seq_len': 20,\n",
      "           'no_final_linear': False,\n",
      "           'num_framestacks': 'auto',\n",
      "           'post_fcnet_activation': 'relu',\n",
      "           'post_fcnet_hiddens': [],\n",
      "           'use_attention': False,\n",
      "           'use_lstm': False,\n",
      "           'vf_share_layers': False,\n",
      "           'zero_mean': True},\n",
      " 'monitor': -1,\n",
      " 'multiagent': {'count_steps_by': 'env_steps',\n",
      "                'observation_fn': None,\n",
      "                'policies': {},\n",
      "                'policies_to_train': None,\n",
      "                'policy_mapping_fn': None,\n",
      "                'replay_mode': 'independent'},\n",
      " 'no_done_at_end': False,\n",
      " 'normalize_actions': False,\n",
      " 'num_cpus_for_driver': 1,\n",
      " 'num_cpus_per_worker': 1,\n",
      " 'num_envs_per_worker': 1,\n",
      " 'num_gpus': 0,\n",
      " 'num_gpus_per_worker': 0,\n",
      " 'num_sgd_iter': 30,\n",
      " 'num_workers': 2,\n",
      " 'observation_filter': 'NoFilter',\n",
      " 'optimizer': {},\n",
      " 'output': None,\n",
      " 'output_compress_columns': ['obs', 'new_obs'],\n",
      " 'output_max_file_size': 67108864,\n",
      " 'placement_strategy': 'PACK',\n",
      " 'postprocess_inputs': False,\n",
      " 'preprocessor_pref': 'deepmind',\n",
      " 'record_env': False,\n",
      " 'remote_env_batch_wait_ms': 0,\n",
      " 'remote_worker_envs': False,\n",
      " 'render_env': False,\n",
      " 'rollout_fragment_length': 200,\n",
      " 'sample_async': False,\n",
      " 'sample_collector': <class 'ray.rllib.evaluation.collectors.simple_list_collector.SimpleListCollector'>,\n",
      " 'seed': None,\n",
      " 'sgd_minibatch_size': 128,\n",
      " 'shuffle_buffer_size': 0,\n",
      " 'shuffle_sequences': True,\n",
      " 'simple_optimizer': -1,\n",
      " 'soft_horizon': False,\n",
      " 'synchronize_filters': True,\n",
      " 'tf_session_args': {'allow_soft_placement': True,\n",
      "                     'device_count': {'CPU': 1},\n",
      "                     'gpu_options': {'allow_growth': True},\n",
      "                     'inter_op_parallelism_threads': 2,\n",
      "                     'intra_op_parallelism_threads': 2,\n",
      "                     'log_device_placement': False},\n",
      " 'timesteps_per_iteration': 0,\n",
      " 'train_batch_size': 4000,\n",
      " 'use_critic': True,\n",
      " 'use_gae': True,\n",
      " 'vf_clip_param': 10.0,\n",
      " 'vf_loss_coeff': 1.0,\n",
      " 'vf_share_layers': -1}\n"
     ]
    }
   ],
   "source": [
    "# Configuration dicts and Ray Tune.\n",
    "# Where are the default configuration dicts stored?\n",
    "\n",
    "# PPO algorithm:\n",
    "from ray.rllib.agents.ppo import DEFAULT_CONFIG as PPO_DEFAULT_CONFIG\n",
    "print(f\"PPO's default config is:\")\n",
    "pprint.pprint(PPO_DEFAULT_CONFIG)\n",
    "\n",
    "# DQN algorithm:\n",
    "#from ray.rllib.agents.dqn import DEFAULT_CONFIG as DQN_DEFAULT_CONFIG\n",
    "#print(f\"DQN's default config is:\")\n",
    "#pprint.pprint(DQN_DEFAULT_CONFIG)\n",
    "\n",
    "# Common (all algorithms).\n",
    "#from ray.rllib.agents.trainer import COMMON_CONFIG\n",
    "#print(f\"RLlib Trainer's default config is:\")\n",
    "#pprint.pprint(COMMON_CONFIG)"
   ]
  },
  {
   "cell_type": "code",
   "execution_count": 15,
   "id": "latest-feature",
   "metadata": {
    "tags": []
   },
   "outputs": [
    {
     "data": {
      "text/html": [
       "== Status ==<br>Memory usage on this node: 10.0/16.0 GiB<br>Using FIFO scheduling algorithm.<br>Resources requested: 0/16 CPUs, 0/0 GPUs, 0.0/3.35 GiB heap, 0.0/1.67 GiB objects<br>Result logdir: /Users/sven/ray_results/PPO<br>Number of trials: 1/1 (1 PENDING)<br><table>\n",
       "<thead>\n",
       "<tr><th>Trial name                     </th><th>status  </th><th>loc  </th></tr>\n",
       "</thead>\n",
       "<tbody>\n",
       "<tr><td>PPO_MultiAgentArena_2ca9a_00000</td><td>PENDING </td><td>     </td></tr>\n",
       "</tbody>\n",
       "</table><br><br>"
      ],
      "text/plain": [
       "<IPython.core.display.HTML object>"
      ]
     },
     "metadata": {},
     "output_type": "display_data"
    },
    {
     "name": "stderr",
     "output_type": "stream",
     "text": [
      "\u001b[2m\u001b[36m(pid=15528)\u001b[0m 2021-06-18 19:18:23,928\tINFO trainer.py:671 -- Tip: set framework=tfe or the --eager flag to enable TensorFlow eager execution\n",
      "\u001b[2m\u001b[36m(pid=15528)\u001b[0m 2021-06-18 19:18:23,928\tINFO trainer.py:696 -- Current log_level is WARN. For more information, set 'log_level': 'INFO' / 'DEBUG' or use the -v and -vv flags.\n",
      "\u001b[2m\u001b[36m(pid=15528)\u001b[0m 2021-06-18 19:18:32,611\tWARNING util.py:53 -- Install gputil for GPU system monitoring.\n"
     ]
    },
    {
     "name": "stdout",
     "output_type": "stream",
     "text": [
      "Result for PPO_MultiAgentArena_2ca9a_00000:\n",
      "  agent_timesteps_total: 4000\n",
      "  custom_metrics: {}\n",
      "  date: 2021-06-18_19-18-36\n",
      "  done: false\n",
      "  episode_len_mean: 100.0\n",
      "  episode_media: {}\n",
      "  episode_reward_max: 13.79999999999996\n",
      "  episode_reward_mean: -7.5299999999999985\n",
      "  episode_reward_min: -33.900000000000034\n",
      "  episodes_this_iter: 20\n",
      "  episodes_total: 20\n",
      "  experiment_id: 26c3946481d24f7d9b8cf823a462505c\n",
      "  hostname: Svens-MacBook-Pro.local\n",
      "  info:\n",
      "    learner:\n",
      "      default_policy:\n",
      "        learner_stats:\n",
      "          cur_kl_coeff: 0.20000000298023224\n",
      "          cur_lr: 4.999999873689376e-05\n",
      "          entropy: 1.369903326034546\n",
      "          entropy_coeff: 0.0\n",
      "          kl: 0.01663612760603428\n",
      "          model: {}\n",
      "          policy_loss: -0.049911659210920334\n",
      "          total_loss: 21.39533805847168\n",
      "          vf_explained_var: 0.10548873990774155\n",
      "          vf_loss: 21.441926956176758\n",
      "    num_agent_steps_sampled: 4000\n",
      "    num_agent_steps_trained: 4000\n",
      "    num_steps_sampled: 4000\n",
      "    num_steps_trained: 4000\n",
      "  iterations_since_restore: 1\n",
      "  node_ip: 192.168.0.100\n",
      "  num_healthy_workers: 2\n",
      "  off_policy_estimator: {}\n",
      "  perf:\n",
      "    cpu_util_percent: 32.71666666666667\n",
      "    ram_util_percent: 65.63333333333334\n",
      "  pid: 15528\n",
      "  policy_reward_max: {}\n",
      "  policy_reward_mean: {}\n",
      "  policy_reward_min: {}\n",
      "  sampler_perf:\n",
      "    mean_action_processing_ms: 0.05625773381281803\n",
      "    mean_env_render_ms: 0.0\n",
      "    mean_env_wait_ms: 0.03058474499743421\n",
      "    mean_inference_ms: 0.6026920381483141\n",
      "    mean_raw_obs_processing_ms: 0.14756490419675541\n",
      "  time_since_restore: 3.5710549354553223\n",
      "  time_this_iter_s: 3.5710549354553223\n",
      "  time_total_s: 3.5710549354553223\n",
      "  timers:\n",
      "    learn_throughput: 1500.389\n",
      "    learn_time_ms: 2665.976\n",
      "    load_throughput: 107796.399\n",
      "    load_time_ms: 37.107\n",
      "    sample_throughput: 4636.997\n",
      "    sample_time_ms: 862.627\n",
      "    update_time_ms: 1.653\n",
      "  timestamp: 1624036716\n",
      "  timesteps_since_restore: 0\n",
      "  timesteps_total: 4000\n",
      "  training_iteration: 1\n",
      "  trial_id: 2ca9a_00000\n",
      "  \n"
     ]
    },
    {
     "data": {
      "text/html": [
       "== Status ==<br>Memory usage on this node: 10.5/16.0 GiB<br>Using FIFO scheduling algorithm.<br>Resources requested: 3.0/16 CPUs, 0/0 GPUs, 0.0/3.35 GiB heap, 0.0/1.67 GiB objects<br>Result logdir: /Users/sven/ray_results/PPO<br>Number of trials: 1/1 (1 RUNNING)<br><table>\n",
       "<thead>\n",
       "<tr><th>Trial name                     </th><th>status  </th><th>loc                </th><th style=\"text-align: right;\">  iter</th><th style=\"text-align: right;\">  total time (s)</th><th style=\"text-align: right;\">  ts</th><th style=\"text-align: right;\">  reward</th><th style=\"text-align: right;\">  episode_reward_max</th><th style=\"text-align: right;\">  episode_reward_min</th><th style=\"text-align: right;\">  episode_len_mean</th></tr>\n",
       "</thead>\n",
       "<tbody>\n",
       "<tr><td>PPO_MultiAgentArena_2ca9a_00000</td><td>RUNNING </td><td>192.168.0.100:15528</td><td style=\"text-align: right;\">     1</td><td style=\"text-align: right;\">         3.57105</td><td style=\"text-align: right;\">4000</td><td style=\"text-align: right;\">   -7.53</td><td style=\"text-align: right;\">                13.8</td><td style=\"text-align: right;\">               -33.9</td><td style=\"text-align: right;\">               100</td></tr>\n",
       "</tbody>\n",
       "</table><br><br>"
      ],
      "text/plain": [
       "<IPython.core.display.HTML object>"
      ]
     },
     "metadata": {},
     "output_type": "display_data"
    },
    {
     "name": "stdout",
     "output_type": "stream",
     "text": [
      "Result for PPO_MultiAgentArena_2ca9a_00000:\n",
      "  agent_timesteps_total: 8000\n",
      "  custom_metrics: {}\n",
      "  date: 2021-06-18_19-18-40\n",
      "  done: true\n",
      "  episode_len_mean: 100.0\n",
      "  episode_media: {}\n",
      "  episode_reward_max: 17.699999999999974\n",
      "  episode_reward_mean: -4.019999999999991\n",
      "  episode_reward_min: -33.900000000000034\n",
      "  episodes_this_iter: 20\n",
      "  episodes_total: 40\n",
      "  experiment_id: 26c3946481d24f7d9b8cf823a462505c\n",
      "  hostname: Svens-MacBook-Pro.local\n",
      "  info:\n",
      "    learner:\n",
      "      default_policy:\n",
      "        learner_stats:\n",
      "          cur_kl_coeff: 0.20000000298023224\n",
      "          cur_lr: 4.999999873689376e-05\n",
      "          entropy: 1.3351209163665771\n",
      "          entropy_coeff: 0.0\n",
      "          kl: 0.022036012262105942\n",
      "          model: {}\n",
      "          policy_loss: -0.06060592457652092\n",
      "          total_loss: 13.240772247314453\n",
      "          vf_explained_var: 0.2622607350349426\n",
      "          vf_loss: 13.29697036743164\n",
      "    num_agent_steps_sampled: 8000\n",
      "    num_agent_steps_trained: 8000\n",
      "    num_steps_sampled: 8000\n",
      "    num_steps_trained: 8000\n",
      "  iterations_since_restore: 2\n",
      "  node_ip: 192.168.0.100\n",
      "  num_healthy_workers: 2\n",
      "  off_policy_estimator: {}\n",
      "  perf:\n",
      "    cpu_util_percent: 43.720000000000006\n",
      "    ram_util_percent: 65.72\n",
      "  pid: 15528\n",
      "  policy_reward_max: {}\n",
      "  policy_reward_mean: {}\n",
      "  policy_reward_min: {}\n",
      "  sampler_perf:\n",
      "    mean_action_processing_ms: 0.05570574071048904\n",
      "    mean_env_render_ms: 0.0\n",
      "    mean_env_wait_ms: 0.030342262323930835\n",
      "    mean_inference_ms: 0.5910209586162574\n",
      "    mean_raw_obs_processing_ms: 0.14721796596795353\n",
      "  time_since_restore: 7.610746145248413\n",
      "  time_this_iter_s: 4.039691209793091\n",
      "  time_total_s: 7.610746145248413\n",
      "  timers:\n",
      "    learn_throughput: 1363.364\n",
      "    learn_time_ms: 2933.92\n",
      "    load_throughput: 202388.728\n",
      "    load_time_ms: 19.764\n",
      "    sample_throughput: 4787.253\n",
      "    sample_time_ms: 835.552\n",
      "    update_time_ms: 1.803\n",
      "  timestamp: 1624036720\n",
      "  timesteps_since_restore: 0\n",
      "  timesteps_total: 8000\n",
      "  training_iteration: 2\n",
      "  trial_id: 2ca9a_00000\n",
      "  \n"
     ]
    },
    {
     "data": {
      "text/html": [
       "== Status ==<br>Memory usage on this node: 10.5/16.0 GiB<br>Using FIFO scheduling algorithm.<br>Resources requested: 0/16 CPUs, 0/0 GPUs, 0.0/3.35 GiB heap, 0.0/1.67 GiB objects<br>Result logdir: /Users/sven/ray_results/PPO<br>Number of trials: 1/1 (1 TERMINATED)<br><table>\n",
       "<thead>\n",
       "<tr><th>Trial name                     </th><th>status    </th><th>loc  </th><th style=\"text-align: right;\">  iter</th><th style=\"text-align: right;\">  total time (s)</th><th style=\"text-align: right;\">  ts</th><th style=\"text-align: right;\">  reward</th><th style=\"text-align: right;\">  episode_reward_max</th><th style=\"text-align: right;\">  episode_reward_min</th><th style=\"text-align: right;\">  episode_len_mean</th></tr>\n",
       "</thead>\n",
       "<tbody>\n",
       "<tr><td>PPO_MultiAgentArena_2ca9a_00000</td><td>TERMINATED</td><td>     </td><td style=\"text-align: right;\">     2</td><td style=\"text-align: right;\">         7.61075</td><td style=\"text-align: right;\">8000</td><td style=\"text-align: right;\">   -4.02</td><td style=\"text-align: right;\">                17.7</td><td style=\"text-align: right;\">               -33.9</td><td style=\"text-align: right;\">               100</td></tr>\n",
       "</tbody>\n",
       "</table><br><br>"
      ],
      "text/plain": [
       "<IPython.core.display.HTML object>"
      ]
     },
     "metadata": {},
     "output_type": "display_data"
    },
    {
     "name": "stderr",
     "output_type": "stream",
     "text": [
      "2021-06-18 19:18:40,464\tINFO tune.py:549 -- Total run time: 21.98 seconds (21.75 seconds for the tuning loop).\n"
     ]
    },
    {
     "data": {
      "text/plain": [
       "<ray.tune.analysis.experiment_analysis.ExperimentAnalysis at 0x7fbf1bf35340>"
      ]
     },
     "execution_count": 15,
     "metadata": {},
     "output_type": "execute_result"
    }
   ],
   "source": [
    "# Plugging in Ray Tune.\n",
    "# Note that this is the recommended way to run any experiments with RLlib.\n",
    "# Reasons:\n",
    "# - Tune allows you to do hyperparameter tuning in a user-friendly way\n",
    "#   and at large scale!\n",
    "# - Tune automatically allocates needed resources for the different\n",
    "#   hyperparam trials and experiment runs on a cluster.\n",
    "\n",
    "from ray import tune\n",
    "\n",
    "# Now that we will run things \"automatically\" through tune, we have to\n",
    "# define one or more stopping criteria.\n",
    "# Tune will stop the run, once any single one of the criteria is matched (not all of them!).\n",
    "stop = {\n",
    "    # Note that the keys used here can be anything present in the above `rllib_trainer.train()` output dict.\n",
    "    \"training_iteration\": 2,\n",
    "    \"episode_reward_mean\": 20.0,\n",
    "}\n",
    "\n",
    "# \"PPO\" is a registered name that points to RLlib's PPOTrainer.\n",
    "# See `ray/rllib/agents/registry.py`\n",
    "\n",
    "# Run a simple experiment until one of the stopping criteria is met.\n",
    "tune.run(\"PPO\", config=config, stop=stop)\n"
   ]
  },
  {
   "cell_type": "markdown",
   "id": "9f66499c-e4f6-4272-8146-dde3d807f544",
   "metadata": {
    "tags": []
   },
   "source": [
    "### Let's do a very simple grid-search over two learning rates with tune.run().\n",
    "\n",
    "In particular, we will try the learning rates 0.0001 and 0.5 (ouch!) using `tune.grid_search([...])`\n",
    "inside our config dict:"
   ]
  },
  {
   "cell_type": "code",
   "execution_count": 16,
   "id": "23a2e9d6-6f55-41c0-a5f0-f3f498ec425e",
   "metadata": {
    "tags": []
   },
   "outputs": [
    {
     "data": {
      "text/html": [
       "== Status ==<br>Memory usage on this node: 10.2/16.0 GiB<br>Using FIFO scheduling algorithm.<br>Resources requested: 0/16 CPUs, 0/0 GPUs, 0.0/3.35 GiB heap, 0.0/1.67 GiB objects<br>Result logdir: /Users/sven/ray_results/PPO<br>Number of trials: 2/2 (2 PENDING)<br><table>\n",
       "<thead>\n",
       "<tr><th>Trial name                     </th><th>status  </th><th>loc  </th><th style=\"text-align: right;\">    lr</th></tr>\n",
       "</thead>\n",
       "<tbody>\n",
       "<tr><td>PPO_MultiAgentArena_af18f_00000</td><td>PENDING </td><td>     </td><td style=\"text-align: right;\">0.0001</td></tr>\n",
       "<tr><td>PPO_MultiAgentArena_af18f_00001</td><td>PENDING </td><td>     </td><td style=\"text-align: right;\">0.5   </td></tr>\n",
       "</tbody>\n",
       "</table><br><br>"
      ],
      "text/plain": [
       "<IPython.core.display.HTML object>"
      ]
     },
     "metadata": {},
     "output_type": "display_data"
    },
    {
     "name": "stderr",
     "output_type": "stream",
     "text": [
      "\u001b[2m\u001b[36m(pid=15531)\u001b[0m 2021-06-18 19:22:02,947\tINFO trainer.py:671 -- Tip: set framework=tfe or the --eager flag to enable TensorFlow eager execution\n",
      "\u001b[2m\u001b[36m(pid=15531)\u001b[0m 2021-06-18 19:22:02,947\tINFO trainer.py:696 -- Current log_level is WARN. For more information, set 'log_level': 'INFO' / 'DEBUG' or use the -v and -vv flags.\n",
      "\u001b[2m\u001b[36m(pid=15530)\u001b[0m 2021-06-18 19:22:02,947\tINFO trainer.py:671 -- Tip: set framework=tfe or the --eager flag to enable TensorFlow eager execution\n",
      "\u001b[2m\u001b[36m(pid=15530)\u001b[0m 2021-06-18 19:22:02,947\tINFO trainer.py:696 -- Current log_level is WARN. For more information, set 'log_level': 'INFO' / 'DEBUG' or use the -v and -vv flags.\n",
      "\u001b[2m\u001b[36m(pid=15530)\u001b[0m 2021-06-18 19:22:13,167\tINFO trainable.py:101 -- Trainable.setup took 10.221 seconds. If your trainable is slow to initialize, consider setting reuse_actors=True to reduce actor creation overheads.\n",
      "\u001b[2m\u001b[36m(pid=15530)\u001b[0m 2021-06-18 19:22:13,167\tWARNING util.py:53 -- Install gputil for GPU system monitoring.\n",
      "\u001b[2m\u001b[36m(pid=15531)\u001b[0m 2021-06-18 19:22:13,188\tINFO trainable.py:101 -- Trainable.setup took 10.243 seconds. If your trainable is slow to initialize, consider setting reuse_actors=True to reduce actor creation overheads.\n",
      "\u001b[2m\u001b[36m(pid=15531)\u001b[0m 2021-06-18 19:22:13,189\tWARNING util.py:53 -- Install gputil for GPU system monitoring.\n"
     ]
    },
    {
     "name": "stdout",
     "output_type": "stream",
     "text": [
      "Result for PPO_MultiAgentArena_af18f_00000:\n",
      "  agent_timesteps_total: 4000\n",
      "  custom_metrics: {}\n",
      "  date: 2021-06-18_19-22-19\n",
      "  done: false\n",
      "  episode_len_mean: 100.0\n",
      "  episode_media: {}\n",
      "  episode_reward_max: 14.69999999999993\n",
      "  episode_reward_mean: -7.004999999999998\n",
      "  episode_reward_min: -31.50000000000005\n",
      "  episodes_this_iter: 20\n",
      "  episodes_total: 20\n",
      "  experiment_id: bd4e956183a249a399618e76a3fc6d40\n",
      "  hostname: Svens-MacBook-Pro.local\n",
      "  info:\n",
      "    learner:\n",
      "      default_policy:\n",
      "        learner_stats:\n",
      "          cur_kl_coeff: 0.20000000298023224\n",
      "          cur_lr: 9.999999747378752e-05\n",
      "          entropy: 1.3468706607818604\n",
      "          entropy_coeff: 0.0\n",
      "          kl: 0.04043907672166824\n",
      "          model: {}\n",
      "          policy_loss: -0.07337543368339539\n",
      "          total_loss: 18.143760681152344\n",
      "          vf_explained_var: 0.17624105513095856\n",
      "          vf_loss: 18.20905113220215\n",
      "    num_agent_steps_sampled: 4000\n",
      "    num_agent_steps_trained: 4000\n",
      "    num_steps_sampled: 4000\n",
      "    num_steps_trained: 4000\n",
      "  iterations_since_restore: 1\n",
      "  node_ip: 192.168.0.100\n",
      "  num_healthy_workers: 2\n",
      "  off_policy_estimator: {}\n",
      "  perf:\n",
      "    cpu_util_percent: 52.25555555555556\n",
      "    ram_util_percent: 66.26666666666667\n",
      "  pid: 15530\n",
      "  policy_reward_max: {}\n",
      "  policy_reward_mean: {}\n",
      "  policy_reward_min: {}\n",
      "  sampler_perf:\n",
      "    mean_action_processing_ms: 0.07989570930168463\n",
      "    mean_env_render_ms: 0.0\n",
      "    mean_env_wait_ms: 0.04343255297406451\n",
      "    mean_inference_ms: 0.8952323492471275\n",
      "    mean_raw_obs_processing_ms: 0.20172784140298178\n",
      "  time_since_restore: 6.266657829284668\n",
      "  time_this_iter_s: 6.266657829284668\n",
      "  time_total_s: 6.266657829284668\n",
      "  timers:\n",
      "    learn_throughput: 813.341\n",
      "    learn_time_ms: 4917.984\n",
      "    load_throughput: 82654.935\n",
      "    load_time_ms: 48.394\n",
      "    sample_throughput: 3186.014\n",
      "    sample_time_ms: 1255.487\n",
      "    update_time_ms: 4.002\n",
      "  timestamp: 1624036939\n",
      "  timesteps_since_restore: 0\n",
      "  timesteps_total: 4000\n",
      "  training_iteration: 1\n",
      "  trial_id: af18f_00000\n",
      "  \n"
     ]
    },
    {
     "data": {
      "text/html": [
       "== Status ==<br>Memory usage on this node: 10.6/16.0 GiB<br>Using FIFO scheduling algorithm.<br>Resources requested: 6.0/16 CPUs, 0/0 GPUs, 0.0/3.35 GiB heap, 0.0/1.67 GiB objects<br>Result logdir: /Users/sven/ray_results/PPO<br>Number of trials: 2/2 (2 RUNNING)<br><table>\n",
       "<thead>\n",
       "<tr><th>Trial name                     </th><th>status  </th><th>loc                </th><th style=\"text-align: right;\">    lr</th><th style=\"text-align: right;\">  iter</th><th style=\"text-align: right;\">  total time (s)</th><th style=\"text-align: right;\">  ts</th><th style=\"text-align: right;\">  reward</th><th style=\"text-align: right;\">  episode_reward_max</th><th style=\"text-align: right;\">  episode_reward_min</th><th style=\"text-align: right;\">  episode_len_mean</th></tr>\n",
       "</thead>\n",
       "<tbody>\n",
       "<tr><td>PPO_MultiAgentArena_af18f_00000</td><td>RUNNING </td><td>192.168.0.100:15530</td><td style=\"text-align: right;\">0.0001</td><td style=\"text-align: right;\">     1</td><td style=\"text-align: right;\">         6.26666</td><td style=\"text-align: right;\">4000</td><td style=\"text-align: right;\">  -7.005</td><td style=\"text-align: right;\">                14.7</td><td style=\"text-align: right;\">               -31.5</td><td style=\"text-align: right;\">               100</td></tr>\n",
       "<tr><td>PPO_MultiAgentArena_af18f_00001</td><td>RUNNING </td><td>                   </td><td style=\"text-align: right;\">0.5   </td><td style=\"text-align: right;\">      </td><td style=\"text-align: right;\">                </td><td style=\"text-align: right;\">    </td><td style=\"text-align: right;\">        </td><td style=\"text-align: right;\">                    </td><td style=\"text-align: right;\">                    </td><td style=\"text-align: right;\">                  </td></tr>\n",
       "</tbody>\n",
       "</table><br><br>"
      ],
      "text/plain": [
       "<IPython.core.display.HTML object>"
      ]
     },
     "metadata": {},
     "output_type": "display_data"
    },
    {
     "name": "stdout",
     "output_type": "stream",
     "text": [
      "Result for PPO_MultiAgentArena_af18f_00001:\n",
      "  agent_timesteps_total: 4000\n",
      "  custom_metrics: {}\n",
      "  date: 2021-06-18_19-22-19\n",
      "  done: false\n",
      "  episode_len_mean: 100.0\n",
      "  episode_media: {}\n",
      "  episode_reward_max: 14.999999999999986\n",
      "  episode_reward_mean: -7.140000000000001\n",
      "  episode_reward_min: -36.000000000000064\n",
      "  episodes_this_iter: 20\n",
      "  episodes_total: 20\n",
      "  experiment_id: 5682a43e8f814e299c87ba817748e989\n",
      "  hostname: Svens-MacBook-Pro.local\n",
      "  info:\n",
      "    learner:\n",
      "      default_policy:\n",
      "        learner_stats:\n",
      "          cur_kl_coeff: 0.20000000298023224\n",
      "          cur_lr: 0.5\n",
      "          entropy: 0.11902828514575958\n",
      "          entropy_coeff: 0.0\n",
      "          kl: 21.256975173950195\n",
      "          model: {}\n",
      "          policy_loss: 0.4013426601886749\n",
      "          total_loss: 43.357704162597656\n",
      "          vf_explained_var: -0.09640281647443771\n",
      "          vf_loss: 38.704959869384766\n",
      "    num_agent_steps_sampled: 4000\n",
      "    num_agent_steps_trained: 4000\n",
      "    num_steps_sampled: 4000\n",
      "    num_steps_trained: 4000\n",
      "  iterations_since_restore: 1\n",
      "  node_ip: 192.168.0.100\n",
      "  num_healthy_workers: 2\n",
      "  off_policy_estimator: {}\n",
      "  perf:\n",
      "    cpu_util_percent: 48.66666666666667\n",
      "    ram_util_percent: 66.26666666666667\n",
      "  pid: 15531\n",
      "  policy_reward_max: {}\n",
      "  policy_reward_mean: {}\n",
      "  policy_reward_min: {}\n",
      "  sampler_perf:\n",
      "    mean_action_processing_ms: 0.08213555777108635\n",
      "    mean_env_render_ms: 0.0\n",
      "    mean_env_wait_ms: 0.04383710238126132\n",
      "    mean_inference_ms: 0.9103940797971557\n",
      "    mean_raw_obs_processing_ms: 0.20243714263031892\n",
      "  time_since_restore: 6.257838249206543\n",
      "  time_this_iter_s: 6.257838249206543\n",
      "  time_total_s: 6.257838249206543\n",
      "  timers:\n",
      "    learn_throughput: 815.043\n",
      "    learn_time_ms: 4907.717\n",
      "    load_throughput: 90526.175\n",
      "    load_time_ms: 44.186\n",
      "    sample_throughput: 3152.2\n",
      "    sample_time_ms: 1268.955\n",
      "    update_time_ms: 3.224\n",
      "  timestamp: 1624036939\n",
      "  timesteps_since_restore: 0\n",
      "  timesteps_total: 4000\n",
      "  training_iteration: 1\n",
      "  trial_id: af18f_00001\n",
      "  \n",
      "Result for PPO_MultiAgentArena_af18f_00000:\n",
      "  agent_timesteps_total: 8000\n",
      "  custom_metrics: {}\n",
      "  date: 2021-06-18_19-22-25\n",
      "  done: true\n",
      "  episode_len_mean: 100.0\n",
      "  episode_media: {}\n",
      "  episode_reward_max: 14.69999999999993\n",
      "  episode_reward_mean: -6.352499999999999\n",
      "  episode_reward_min: -31.50000000000005\n",
      "  episodes_this_iter: 20\n",
      "  episodes_total: 40\n",
      "  experiment_id: bd4e956183a249a399618e76a3fc6d40\n",
      "  hostname: Svens-MacBook-Pro.local\n",
      "  info:\n",
      "    learner:\n",
      "      default_policy:\n",
      "        learner_stats:\n",
      "          cur_kl_coeff: 0.30000001192092896\n",
      "          cur_lr: 9.999999747378752e-05\n",
      "          entropy: 1.301629662513733\n",
      "          entropy_coeff: 0.0\n",
      "          kl: 0.035673316568136215\n",
      "          model: {}\n",
      "          policy_loss: -0.07502524554729462\n",
      "          total_loss: 15.855927467346191\n",
      "          vf_explained_var: 0.2233630120754242\n",
      "          vf_loss: 15.92025089263916\n",
      "    num_agent_steps_sampled: 8000\n",
      "    num_agent_steps_trained: 8000\n",
      "    num_steps_sampled: 8000\n",
      "    num_steps_trained: 8000\n",
      "  iterations_since_restore: 2\n",
      "  node_ip: 192.168.0.100\n",
      "  num_healthy_workers: 2\n",
      "  off_policy_estimator: {}\n",
      "  perf:\n",
      "    cpu_util_percent: 67.31\n",
      "    ram_util_percent: 66.24\n",
      "  pid: 15530\n",
      "  policy_reward_max: {}\n",
      "  policy_reward_mean: {}\n",
      "  policy_reward_min: {}\n",
      "  sampler_perf:\n",
      "    mean_action_processing_ms: 0.07897555221067751\n",
      "    mean_env_render_ms: 0.0\n",
      "    mean_env_wait_ms: 0.04306459895551298\n",
      "    mean_inference_ms: 0.8813034125876049\n",
      "    mean_raw_obs_processing_ms: 0.20163023442687616\n",
      "  time_since_restore: 12.704059839248657\n",
      "  time_this_iter_s: 6.437402009963989\n",
      "  time_total_s: 12.704059839248657\n",
      "  timers:\n",
      "    learn_throughput: 788.223\n",
      "    learn_time_ms: 5074.708\n",
      "    load_throughput: 151947.579\n",
      "    load_time_ms: 26.325\n",
      "    sample_throughput: 3270.357\n",
      "    sample_time_ms: 1223.108\n",
      "    update_time_ms: 3.785\n",
      "  timestamp: 1624036945\n",
      "  timesteps_since_restore: 0\n",
      "  timesteps_total: 8000\n",
      "  training_iteration: 2\n",
      "  trial_id: af18f_00000\n",
      "  \n"
     ]
    },
    {
     "data": {
      "text/html": [
       "== Status ==<br>Memory usage on this node: 10.5/16.0 GiB<br>Using FIFO scheduling algorithm.<br>Resources requested: 6.0/16 CPUs, 0/0 GPUs, 0.0/3.35 GiB heap, 0.0/1.67 GiB objects<br>Result logdir: /Users/sven/ray_results/PPO<br>Number of trials: 2/2 (2 RUNNING)<br><table>\n",
       "<thead>\n",
       "<tr><th>Trial name                     </th><th>status  </th><th>loc                </th><th style=\"text-align: right;\">    lr</th><th style=\"text-align: right;\">  iter</th><th style=\"text-align: right;\">  total time (s)</th><th style=\"text-align: right;\">  ts</th><th style=\"text-align: right;\">  reward</th><th style=\"text-align: right;\">  episode_reward_max</th><th style=\"text-align: right;\">  episode_reward_min</th><th style=\"text-align: right;\">  episode_len_mean</th></tr>\n",
       "</thead>\n",
       "<tbody>\n",
       "<tr><td>PPO_MultiAgentArena_af18f_00000</td><td>RUNNING </td><td>192.168.0.100:15530</td><td style=\"text-align: right;\">0.0001</td><td style=\"text-align: right;\">     2</td><td style=\"text-align: right;\">        12.7041 </td><td style=\"text-align: right;\">8000</td><td style=\"text-align: right;\"> -6.3525</td><td style=\"text-align: right;\">                14.7</td><td style=\"text-align: right;\">               -31.5</td><td style=\"text-align: right;\">               100</td></tr>\n",
       "<tr><td>PPO_MultiAgentArena_af18f_00001</td><td>RUNNING </td><td>192.168.0.100:15531</td><td style=\"text-align: right;\">0.5   </td><td style=\"text-align: right;\">     1</td><td style=\"text-align: right;\">         6.25784</td><td style=\"text-align: right;\">4000</td><td style=\"text-align: right;\"> -7.14  </td><td style=\"text-align: right;\">                15  </td><td style=\"text-align: right;\">               -36  </td><td style=\"text-align: right;\">               100</td></tr>\n",
       "</tbody>\n",
       "</table><br><br>"
      ],
      "text/plain": [
       "<IPython.core.display.HTML object>"
      ]
     },
     "metadata": {},
     "output_type": "display_data"
    },
    {
     "name": "stdout",
     "output_type": "stream",
     "text": [
      "Result for PPO_MultiAgentArena_af18f_00001:\n",
      "  agent_timesteps_total: 8000\n",
      "  custom_metrics: {}\n",
      "  date: 2021-06-18_19-22-25\n",
      "  done: true\n",
      "  episode_len_mean: 100.0\n",
      "  episode_media: {}\n",
      "  episode_reward_max: 14.999999999999986\n",
      "  episode_reward_mean: -26.857500000000034\n",
      "  episode_reward_min: -54.000000000000085\n",
      "  episodes_this_iter: 20\n",
      "  episodes_total: 40\n",
      "  experiment_id: 5682a43e8f814e299c87ba817748e989\n",
      "  hostname: Svens-MacBook-Pro.local\n",
      "  info:\n",
      "    learner:\n",
      "      default_policy:\n",
      "        learner_stats:\n",
      "          cur_kl_coeff: 0.30000001192092896\n",
      "          cur_lr: 0.5\n",
      "          entropy: 0.00425629923120141\n",
      "          entropy_coeff: 0.0\n",
      "          kl: 0.4869486689567566\n",
      "          model: {}\n",
      "          policy_loss: 0.00938626192510128\n",
      "          total_loss: 161.44923400878906\n",
      "          vf_explained_var: 0.11229164153337479\n",
      "          vf_loss: 161.29376220703125\n",
      "    num_agent_steps_sampled: 8000\n",
      "    num_agent_steps_trained: 8000\n",
      "    num_steps_sampled: 8000\n",
      "    num_steps_trained: 8000\n",
      "  iterations_since_restore: 2\n",
      "  node_ip: 192.168.0.100\n",
      "  num_healthy_workers: 2\n",
      "  off_policy_estimator: {}\n",
      "  perf:\n",
      "    cpu_util_percent: 54.92\n",
      "    ram_util_percent: 66.24\n",
      "  pid: 15531\n",
      "  policy_reward_max: {}\n",
      "  policy_reward_mean: {}\n",
      "  policy_reward_min: {}\n",
      "  sampler_perf:\n",
      "    mean_action_processing_ms: 0.08298718044613067\n",
      "    mean_env_render_ms: 0.0\n",
      "    mean_env_wait_ms: 0.04427076958026092\n",
      "    mean_inference_ms: 0.9153810595030031\n",
      "    mean_raw_obs_processing_ms: 0.20526751925520617\n",
      "  time_since_restore: 12.722851037979126\n",
      "  time_this_iter_s: 6.465012788772583\n",
      "  time_total_s: 12.722851037979126\n",
      "  timers:\n",
      "    learn_throughput: 795.428\n",
      "    learn_time_ms: 5028.741\n",
      "    load_throughput: 163860.803\n",
      "    load_time_ms: 24.411\n",
      "    sample_throughput: 3111.368\n",
      "    sample_time_ms: 1285.608\n",
      "    update_time_ms: 2.947\n",
      "  timestamp: 1624036945\n",
      "  timesteps_since_restore: 0\n",
      "  timesteps_total: 8000\n",
      "  training_iteration: 2\n",
      "  trial_id: af18f_00001\n",
      "  \n"
     ]
    },
    {
     "data": {
      "text/html": [
       "== Status ==<br>Memory usage on this node: 10.5/16.0 GiB<br>Using FIFO scheduling algorithm.<br>Resources requested: 0/16 CPUs, 0/0 GPUs, 0.0/3.35 GiB heap, 0.0/1.67 GiB objects<br>Result logdir: /Users/sven/ray_results/PPO<br>Number of trials: 2/2 (2 TERMINATED)<br><table>\n",
       "<thead>\n",
       "<tr><th>Trial name                     </th><th>status    </th><th>loc  </th><th style=\"text-align: right;\">    lr</th><th style=\"text-align: right;\">  iter</th><th style=\"text-align: right;\">  total time (s)</th><th style=\"text-align: right;\">  ts</th><th style=\"text-align: right;\">  reward</th><th style=\"text-align: right;\">  episode_reward_max</th><th style=\"text-align: right;\">  episode_reward_min</th><th style=\"text-align: right;\">  episode_len_mean</th></tr>\n",
       "</thead>\n",
       "<tbody>\n",
       "<tr><td>PPO_MultiAgentArena_af18f_00000</td><td>TERMINATED</td><td>     </td><td style=\"text-align: right;\">0.0001</td><td style=\"text-align: right;\">     2</td><td style=\"text-align: right;\">         12.7041</td><td style=\"text-align: right;\">8000</td><td style=\"text-align: right;\"> -6.3525</td><td style=\"text-align: right;\">                14.7</td><td style=\"text-align: right;\">               -31.5</td><td style=\"text-align: right;\">               100</td></tr>\n",
       "<tr><td>PPO_MultiAgentArena_af18f_00001</td><td>TERMINATED</td><td>     </td><td style=\"text-align: right;\">0.5   </td><td style=\"text-align: right;\">     2</td><td style=\"text-align: right;\">         12.7229</td><td style=\"text-align: right;\">8000</td><td style=\"text-align: right;\">-26.8575</td><td style=\"text-align: right;\">                15  </td><td style=\"text-align: right;\">               -54  </td><td style=\"text-align: right;\">               100</td></tr>\n",
       "</tbody>\n",
       "</table><br><br>"
      ],
      "text/plain": [
       "<IPython.core.display.HTML object>"
      ]
     },
     "metadata": {},
     "output_type": "display_data"
    },
    {
     "name": "stderr",
     "output_type": "stream",
     "text": [
      "2021-06-18 19:22:26,684\tINFO tune.py:549 -- Total run time: 29.36 seconds (28.77 seconds for the tuning loop).\n"
     ]
    },
    {
     "name": "stdout",
     "output_type": "stream",
     "text": [
      "<ray.tune.analysis.experiment_analysis.ExperimentAnalysis object at 0x7fbf13eb40d0>\n"
     ]
    }
   ],
   "source": [
    "# Updating an algo's default config dict and adding hyperparameter tuning\n",
    "# options to it.\n",
    "# Note: Hyperparameter tuning options (e.g. grid_search) will only work,\n",
    "# if we run these configs via `tune.run`.\n",
    "config.update(\n",
    "    {\n",
    "        # Try 2 different learning rates.\n",
    "        \"lr\": tune.grid_search([0.0001, 0.5, 0.00003]),\n",
    "\n",
    "        # NN model config to tweak the default model\n",
    "        # that'll be created by RLlib for the policy.\n",
    "        \"model\": {\n",
    "            # e.g. change the dense layer stack (default is 2 layers: [256, 256]).\n",
    "            \"fcnet_hiddens\": [256, 256, 256],\n",
    "\n",
    "            # Alternatively, you can specify a custom model here\n",
    "            # (we'll cover that later).\n",
    "            # \"custom_model\": ...\n",
    "            # Pass kwargs to your custom model.\n",
    "            # \"custom_model_config\": {}\n",
    "        },\n",
    "    }\n",
    ")\n",
    "\n",
    "# Repeat our experiment using tune's grid-search feature.\n",
    "results = tune.run(\n",
    "    \"PPO\",\n",
    "    config=config,\n",
    "    stop=stop,\n",
    "    # Note that no trainers will be returned from this call here.\n",
    "    # Tune will create n Trainers internally, run them in parallel and destroy them at the end.\n",
    "    # However, you can\n",
    "    checkpoint_at_end=True,  # create a checkpoint when done.\n",
    "    checkpoint_freq=10,  # create a checkpoint every 10th iteration.\n",
    ")\n",
    "print(results)"
   ]
  },
  {
   "cell_type": "markdown",
   "id": "ff96f682-fc7d-46a0-b136-f5d62cd7ad67",
   "metadata": {},
   "source": [
    "### Going multi-policy:\n",
    "\n",
    "So far, our experiment has been ill-configured, because both\n",
    "agents, which should behave differently due to their different\n",
    "tasks and reward functions, learn the same policy: the \"default_policy\",\n",
    "which RLlib always provides if you don't configure anything else.\n",
    "Remember that RLlib does not know at Trainer setup time, how many and which agents\n",
    "the environment will \"produce\". Agent control (adding agents, removing them, terminating\n",
    "episodes for agents) is entirely in the Env's hands.\n",
    "Let's fix our single policy problem and introduce the \"multiagent\" API."
   ]
  },
  {
   "cell_type": "markdown",
   "id": "13900163-f520-40f1-87be-d759760bd3a5",
   "metadata": {},
   "source": [
    "<img src=\"images/from_single_agent_to_multi_agent.png\" width=800>"
   ]
  },
  {
   "cell_type": "markdown",
   "id": "a813b988-e40f-4890-8c9c-f5f7d0f49cc9",
   "metadata": {},
   "source": [
    "In order to turn on RLlib's multi-agent functionality, we need two things:\n",
    "\n",
    "1. A policy mapping function, mapping agent IDs (e.g. a string like \"agent1\", produced by the environment in the returned observation/rewards/dones-dicts) to a policy ID (another string, e.g. \"pol1\", which is under our control).\n",
    "1. A policies definition dict, mapping policy IDs (e.g. \"pol1\") to 4-tuples consisting of 1) policy class (None for using the default class), 2) observation space, 3) action space, and 4) config overrides (empty dict for no overrides and using the Trainer's main config dict).\n",
    "\n",
    "Let's take a closer look:"
   ]
  },
  {
   "cell_type": "code",
   "execution_count": 17,
   "id": "7dff7017-f1b9-41e8-94fd-266bbe56cf63",
   "metadata": {},
   "outputs": [],
   "source": [
    "# Define an agent->policy mapping function.\n",
    "# Which agents (defined by the environment) use which policies (defined by us)?\n",
    "# The mapping here is M (agents) -> N (policies), where M >= N.\n",
    "def policy_mapping_fn(agent: str):\n",
    "    # Make sure agent ID is valid.\n",
    "    assert agent in [\"agent1\", \"agent2\"], f\"ERROR: invalid agent {agent}!\"\n",
    "    # Map agent1 to pol1, and agent2 to pol2.\n",
    "    return \"pol1\" if agent == \"agent1\" else \"pol2\"\n",
    "\n",
    "# Get the spaces for our two policies from our already existing Trainer object:\n",
    "observation_space = dummy_env.observation_space\n",
    "action_space = dummy_env.action_space\n",
    "\n",
    "# Define the policies definition dict:\n",
    "# Each policy in there is defined by its ID mapping to a 4-tuple:\n",
    "# - Policy class (None for using the default class)\n",
    "# - obs-space\n",
    "# - act-space\n",
    "# - config-overrides dict (leave empty for using the Trainer's config as-is)\n",
    "policies = {\n",
    "    \"pol1\": (None, observation_space, action_space, {\"lr\": 0.0002}),\n",
    "    \"pol2\": (None, observation_space, action_space, {}),\n",
    "}\n",
    "# Note that now we won't have a \"default_policy\" anymore, just \"pol1\" and \"pol2\".\n",
    "\n",
    "# We could - if we wanted - specify, which policies should be learnt (by default, RLlib learns all).\n",
    "# Non-learnt policies will be frozen and not updated:\n",
    "# policies_to_train = [\"pol1\", \"pol2\"]\n",
    "\n",
    "# Adding the above to our config.\n",
    "config.update({\n",
    "    \"multiagent\": {\n",
    "        \"policies\": policies,\n",
    "        \"policy_mapping_fn\": policy_mapping_fn,\n",
    "        # We'll leave this empty: Means, we train both pol1 and pol2.\n",
    "        # \"policies_to_train\": policies_to_train,\n",
    "    },\n",
    "})"
   ]
  },
  {
   "cell_type": "markdown",
   "id": "d6a74ec7-a6c1-431d-83aa-35df56d93185",
   "metadata": {
    "tags": []
   },
   "source": [
    "## Exercise No 2\n",
    "\n",
    "<hr />\n",
    "\n",
    "Using the `config` that we have built so far (the one we just updated to include a multi-agent setup),\n",
    "try learning our environment using Ray tune.run and a simple hyperparameter grid_search over 2 different hyperparameters:\n",
    "- 2 learning rates (pick your own values).\n",
    "- AND 2 `train_batch_size`s: use 2000 and 3000.\n",
    "\n",
    "Also set the `num_workers` config parameter to 1. This will make sure that 3 trials at a time will run in parallel.\n",
    "Btw, how many trials in total are we expecting to be created by tune?\n",
    "\n",
    "Background: PPO - by default - uses 2 workers (`num_workers=2`), which makes each trial use 3 CPUs (2 workers + 1 \"driver\" CPU).\n",
    "Using only 1 worker would lower this to 2 CPUs per trial. We have 6 CPUs available in this tutorial (if you run this locally, you may have more), so 3 trials can run simultaneously. Tune will run trials in sequence in case it cannot allocate enough CPUs at once\n",
    "(which is also fine, but then takes longer).\n",
    "\n",
    "Try to reach a total reward (sum of agent1 and agent2) of 15.0.\n",
    "\n",
    "**Good luck! :)**\n"
   ]
  },
  {
   "cell_type": "code",
   "execution_count": 21,
   "id": "ff184330-4229-4476-a9e0-1fdbaed948d3",
   "metadata": {
    "scrolled": true,
    "tags": []
   },
   "outputs": [
    {
     "data": {
      "text/html": [
       "== Status ==<br>Memory usage on this node: 10.1/16.0 GiB<br>Using FIFO scheduling algorithm.<br>Resources requested: 0/16 CPUs, 0/0 GPUs, 0.0/3.35 GiB heap, 0.0/1.67 GiB objects<br>Result logdir: /Users/sven/ray_results/PPO<br>Number of trials: 4/4 (4 PENDING)<br><br>"
      ],
      "text/plain": [
       "<IPython.core.display.HTML object>"
      ]
     },
     "metadata": {},
     "output_type": "display_data"
    },
    {
     "name": "stderr",
     "output_type": "stream",
     "text": [
      "\u001b[2m\u001b[36m(pid=15770)\u001b[0m 2021-06-18 19:38:11,463\tINFO trainer.py:671 -- Tip: set framework=tfe or the --eager flag to enable TensorFlow eager execution\n",
      "\u001b[2m\u001b[36m(pid=15770)\u001b[0m 2021-06-18 19:38:11,463\tINFO trainer.py:696 -- Current log_level is WARN. For more information, set 'log_level': 'INFO' / 'DEBUG' or use the -v and -vv flags.\n",
      "\u001b[2m\u001b[36m(pid=15772)\u001b[0m 2021-06-18 19:38:11,463\tINFO trainer.py:671 -- Tip: set framework=tfe or the --eager flag to enable TensorFlow eager execution\n",
      "\u001b[2m\u001b[36m(pid=15772)\u001b[0m 2021-06-18 19:38:11,463\tINFO trainer.py:696 -- Current log_level is WARN. For more information, set 'log_level': 'INFO' / 'DEBUG' or use the -v and -vv flags.\n",
      "\u001b[2m\u001b[36m(pid=15779)\u001b[0m 2021-06-18 19:38:11,463\tINFO trainer.py:671 -- Tip: set framework=tfe or the --eager flag to enable TensorFlow eager execution\n",
      "\u001b[2m\u001b[36m(pid=15779)\u001b[0m 2021-06-18 19:38:11,463\tINFO trainer.py:696 -- Current log_level is WARN. For more information, set 'log_level': 'INFO' / 'DEBUG' or use the -v and -vv flags.\n",
      "\u001b[2m\u001b[36m(pid=15778)\u001b[0m 2021-06-18 19:38:11,463\tINFO trainer.py:671 -- Tip: set framework=tfe or the --eager flag to enable TensorFlow eager execution\n",
      "\u001b[2m\u001b[36m(pid=15778)\u001b[0m 2021-06-18 19:38:11,463\tINFO trainer.py:696 -- Current log_level is WARN. For more information, set 'log_level': 'INFO' / 'DEBUG' or use the -v and -vv flags.\n",
      "\u001b[2m\u001b[36m(pid=15779)\u001b[0m 2021-06-18 19:38:29,146\tINFO trainable.py:101 -- Trainable.setup took 17.683 seconds. If your trainable is slow to initialize, consider setting reuse_actors=True to reduce actor creation overheads.\n",
      "\u001b[2m\u001b[36m(pid=15779)\u001b[0m 2021-06-18 19:38:29,146\tWARNING util.py:53 -- Install gputil for GPU system monitoring.\n",
      "\u001b[2m\u001b[36m(pid=15770)\u001b[0m 2021-06-18 19:38:29,180\tINFO trainable.py:101 -- Trainable.setup took 17.718 seconds. If your trainable is slow to initialize, consider setting reuse_actors=True to reduce actor creation overheads.\n",
      "\u001b[2m\u001b[36m(pid=15770)\u001b[0m 2021-06-18 19:38:29,181\tWARNING util.py:53 -- Install gputil for GPU system monitoring.\n",
      "\u001b[2m\u001b[36m(pid=15772)\u001b[0m 2021-06-18 19:38:29,219\tINFO trainable.py:101 -- Trainable.setup took 17.757 seconds. If your trainable is slow to initialize, consider setting reuse_actors=True to reduce actor creation overheads.\n",
      "\u001b[2m\u001b[36m(pid=15772)\u001b[0m 2021-06-18 19:38:29,220\tWARNING util.py:53 -- Install gputil for GPU system monitoring.\n",
      "\u001b[2m\u001b[36m(pid=15778)\u001b[0m 2021-06-18 19:38:29,212\tINFO trainable.py:101 -- Trainable.setup took 17.750 seconds. If your trainable is slow to initialize, consider setting reuse_actors=True to reduce actor creation overheads.\n",
      "\u001b[2m\u001b[36m(pid=15778)\u001b[0m 2021-06-18 19:38:29,213\tWARNING util.py:53 -- Install gputil for GPU system monitoring.\n"
     ]
    },
    {
     "name": "stdout",
     "output_type": "stream",
     "text": [
      "Trial PPO_MultiAgentArena_f007c_00001 reported episode_reward_max=10.500000000000025,episode_reward_min=-27.000000000000064,episode_reward_mean=-9.01499999999999,episode_len_mean=100.0,episode_media={},episodes_this_iter=20,policy_reward_min={'pol1': -17.0, 'pol2': -9.99999999999998},policy_reward_max={'pol1': 20.5, 'pol2': -4.500000000000001},policy_reward_mean={'pol1': 0.05, 'pol2': -9.06499999999998},custom_metrics={},sampler_perf={'mean_raw_obs_processing_ms': 0.20385634476157918, 'mean_inference_ms': 1.6513334280964371, 'mean_action_processing_ms': 0.09069843092064805, 'mean_env_wait_ms': 0.04387926543015115, 'mean_env_render_ms': 0.0},off_policy_estimator={},num_healthy_workers=1,agent_timesteps_total=4000,timers={'sample_time_ms': 4028.55, 'sample_throughput': 496.457, 'load_time_ms': 163.764, 'load_throughput': 12212.696, 'learn_time_ms': 6836.038, 'learn_throughput': 292.567, 'update_time_ms': 11.994},info={'learner': {'pol1': {'learner_stats': {'cur_kl_coeff': 0.20000000298023224, 'cur_lr': 0.00019999999494757503, 'total_loss': 23.826866, 'policy_loss': -0.10587504, 'vf_loss': 23.920713, 'vf_explained_var': 0.26829988, 'kl': 0.06012879, 'entropy': 1.3284365, 'entropy_coeff': 0.0, 'model': {}}}, 'pol2': {'learner_stats': {'cur_kl_coeff': 0.20000000298023224, 'cur_lr': 9.999999747378752e-06, 'total_loss': 11.864908, 'policy_loss': -0.0043512676, 'vf_loss': 11.869254, 'vf_explained_var': 0.07351314, 'kl': 3.3942502e-05, 'entropy': 1.386259, 'entropy_coeff': 0.0, 'model': {}}}}, 'num_steps_sampled': 2000, 'num_agent_steps_sampled': 4000, 'num_steps_trained': 2000, 'num_agent_steps_trained': 4000},perf={'cpu_util_percent': 55.05882352941177, 'ram_util_percent': 66.37058823529412} with parameters={'env': <class '__main__.MultiAgentArena'>, 'env_config': {'config': {'width': 10, 'height': 10, 'ts': 100}}, 'create_env_on_driver': True, 'lr': 1e-05, 'model': {'fcnet_hiddens': [256, 256, 256]}, 'multiagent': {'policies': {'pol1': (None, MultiDiscrete([100 100]), Discrete(4), {'lr': 0.0002}), 'pol2': (None, MultiDiscrete([100 100]), Discrete(4), {})}, 'policy_mapping_fn': <function policy_mapping_fn at 0x7fbf14e1aee0>}, 'train_batch_size': 2000, 'num_workers': 1}.\n"
     ]
    },
    {
     "data": {
      "text/html": [
       "== Status ==<br>Memory usage on this node: 10.6/16.0 GiB<br>Using FIFO scheduling algorithm.<br>Resources requested: 8.0/16 CPUs, 0/0 GPUs, 0.0/3.35 GiB heap, 0.0/1.67 GiB objects<br>Result logdir: /Users/sven/ray_results/PPO<br>Number of trials: 4/4 (4 RUNNING)<br><br>"
      ],
      "text/plain": [
       "<IPython.core.display.HTML object>"
      ]
     },
     "metadata": {},
     "output_type": "display_data"
    },
    {
     "name": "stdout",
     "output_type": "stream",
     "text": [
      "Trial PPO_MultiAgentArena_f007c_00000 reported episode_reward_max=14.09999999999998,episode_reward_min=-21.000000000000007,episode_reward_mean=-1.6499999999999944,episode_len_mean=100.0,episode_media={},episodes_this_iter=20,policy_reward_min={'pol1': -11.0, 'pol2': -9.99999999999998},policy_reward_max={'pol1': 23.0, 'pol2': -1.1999999999999855},policy_reward_mean={'pol1': 6.975, 'pol2': -8.624999999999982},custom_metrics={},sampler_perf={'mean_raw_obs_processing_ms': 0.21032867641344125, 'mean_inference_ms': 1.662782762480759, 'mean_action_processing_ms': 0.09154630029040653, 'mean_env_wait_ms': 0.044714743229581494, 'mean_env_render_ms': 0.0},off_policy_estimator={},num_healthy_workers=1,agent_timesteps_total=4000,timers={'sample_time_ms': 4069.719, 'sample_throughput': 491.434, 'load_time_ms': 167.373, 'load_throughput': 11949.346, 'learn_time_ms': 6881.159, 'learn_throughput': 290.649, 'update_time_ms': 14.418},info={'learner': {'pol1': {'learner_stats': {'cur_kl_coeff': 0.20000000298023224, 'cur_lr': 0.00019999999494757503, 'total_loss': 27.888775, 'policy_loss': -0.10867054, 'vf_loss': 27.985853, 'vf_explained_var': 0.28933105, 'kl': 0.05797791, 'entropy': 1.3304048, 'entropy_coeff': 0.0, 'model': {}}}, 'pol2': {'learner_stats': {'cur_kl_coeff': 0.20000000298023224, 'cur_lr': 9.999999747378752e-05, 'total_loss': 2.2677124, 'policy_loss': -0.10537657, 'vf_loss': 2.3646815, 'vf_explained_var': 0.49640223, 'kl': 0.04203709, 'entropy': 1.3448257, 'entropy_coeff': 0.0, 'model': {}}}}, 'num_steps_sampled': 2000, 'num_agent_steps_sampled': 4000, 'num_steps_trained': 2000, 'num_agent_steps_trained': 4000},perf={'cpu_util_percent': 61.252941176470586, 'ram_util_percent': 66.37058823529412} with parameters={'env': <class '__main__.MultiAgentArena'>, 'env_config': {'config': {'width': 10, 'height': 10, 'ts': 100}}, 'create_env_on_driver': True, 'lr': 0.0001, 'model': {'fcnet_hiddens': [256, 256, 256]}, 'multiagent': {'policies': {'pol1': (None, MultiDiscrete([100 100]), Discrete(4), {'lr': 0.0002}), 'pol2': (None, MultiDiscrete([100 100]), Discrete(4), {})}, 'policy_mapping_fn': <function policy_mapping_fn at 0x7fbf14e1aee0>}, 'train_batch_size': 2000, 'num_workers': 1}.\n",
      "Trial PPO_MultiAgentArena_f007c_00003 reported episode_reward_max=9.300000000000011,episode_reward_min=-40.500000000000064,episode_reward_mean=-10.889999999999997,episode_len_mean=100.0,episode_media={},episodes_this_iter=30,policy_reward_min={'pol1': -30.5, 'pol2': -9.99999999999998},policy_reward_max={'pol1': 19.0, 'pol2': -5.599999999999982},policy_reward_mean={'pol1': -1.9166666666666667, 'pol2': -8.973333333333317},custom_metrics={},sampler_perf={'mean_raw_obs_processing_ms': 0.24712232699675474, 'mean_inference_ms': 1.9637699406848508, 'mean_action_processing_ms': 0.11153278331762945, 'mean_env_wait_ms': 0.051172603491503814, 'mean_env_render_ms': 0.0},off_policy_estimator={},num_healthy_workers=1,agent_timesteps_total=6000,timers={'sample_time_ms': 7201.389, 'sample_throughput': 416.586, 'load_time_ms': 169.592, 'load_throughput': 17689.549, 'learn_time_ms': 9801.329, 'learn_throughput': 306.081, 'update_time_ms': 8.012},info={'learner': {'pol1': {'learner_stats': {'cur_kl_coeff': 0.20000000298023224, 'cur_lr': 0.00019999999494757503, 'total_loss': 43.63823, 'policy_loss': -0.08379575, 'vf_loss': 43.71233, 'vf_explained_var': 0.14429925, 'kl': 0.048466947, 'entropy': 1.3394016, 'entropy_coeff': 0.0, 'model': {}}}, 'pol2': {'learner_stats': {'cur_kl_coeff': 0.20000000298023224, 'cur_lr': 9.999999747378752e-06, 'total_loss': 6.4696074, 'policy_loss': 0.0031643105, 'vf_loss': 6.4664288, 'vf_explained_var': 0.14214106, 'kl': 7.419203e-05, 'entropy': 1.3862201, 'entropy_coeff': 0.0, 'model': {}}}}, 'num_steps_sampled': 3000, 'num_agent_steps_sampled': 6000, 'num_steps_trained': 3000, 'num_agent_steps_trained': 6000},perf={'cpu_util_percent': 64.512, 'ram_util_percent': 66.324} with parameters={'env': <class '__main__.MultiAgentArena'>, 'env_config': {'config': {'width': 10, 'height': 10, 'ts': 100}}, 'create_env_on_driver': True, 'lr': 1e-05, 'model': {'fcnet_hiddens': [256, 256, 256]}, 'multiagent': {'policies': {'pol1': (None, MultiDiscrete([100 100]), Discrete(4), {'lr': 0.0002}), 'pol2': (None, MultiDiscrete([100 100]), Discrete(4), {})}, 'policy_mapping_fn': <function policy_mapping_fn at 0x7fbf14e1aee0>}, 'train_batch_size': 3000, 'num_workers': 1}.\n"
     ]
    },
    {
     "data": {
      "text/html": [
       "== Status ==<br>Memory usage on this node: 10.6/16.0 GiB<br>Using FIFO scheduling algorithm.<br>Resources requested: 8.0/16 CPUs, 0/0 GPUs, 0.0/3.35 GiB heap, 0.0/1.67 GiB objects<br>Result logdir: /Users/sven/ray_results/PPO<br>Number of trials: 4/4 (4 RUNNING)<br><br>"
      ],
      "text/plain": [
       "<IPython.core.display.HTML object>"
      ]
     },
     "metadata": {},
     "output_type": "display_data"
    },
    {
     "name": "stdout",
     "output_type": "stream",
     "text": [
      "Trial PPO_MultiAgentArena_f007c_00002 reported episode_reward_max=19.500000000000007,episode_reward_min=-33.00000000000006,episode_reward_mean=-4.319999999999999,episode_len_mean=100.0,episode_media={},episodes_this_iter=30,policy_reward_min={'pol1': -32.0, 'pol2': -9.99999999999998},policy_reward_max={'pol1': 29.5, 'pol2': -0.0999999999999869},policy_reward_mean={'pol1': 4.433333333333334, 'pol2': -8.753333333333314},custom_metrics={},sampler_perf={'mean_raw_obs_processing_ms': 0.24494120614681977, 'mean_inference_ms': 1.995622853524126, 'mean_action_processing_ms': 0.11405298130705294, 'mean_env_wait_ms': 0.05140069404152065, 'mean_env_render_ms': 0.0},off_policy_estimator={},num_healthy_workers=1,agent_timesteps_total=6000,timers={'sample_time_ms': 7297.943, 'sample_throughput': 411.075, 'load_time_ms': 162.855, 'load_throughput': 18421.278, 'learn_time_ms': 10036.045, 'learn_throughput': 298.923, 'update_time_ms': 7.767},info={'learner': {'pol1': {'learner_stats': {'cur_kl_coeff': 0.20000000298023224, 'cur_lr': 0.00019999999494757503, 'total_loss': 44.487263, 'policy_loss': -0.08536119, 'vf_loss': 44.562252, 'vf_explained_var': 0.19221172, 'kl': 0.051858164, 'entropy': 1.3361723, 'entropy_coeff': 0.0, 'model': {}}}, 'pol2': {'learner_stats': {'cur_kl_coeff': 0.20000000298023224, 'cur_lr': 9.999999747378752e-05, 'total_loss': 2.1549416, 'policy_loss': -0.07721898, 'vf_loss': 2.2245119, 'vf_explained_var': 0.5308775, 'kl': 0.038243733, 'entropy': 1.3489943, 'entropy_coeff': 0.0, 'model': {}}}}, 'num_steps_sampled': 3000, 'num_agent_steps_sampled': 6000, 'num_steps_trained': 3000, 'num_agent_steps_trained': 6000},perf={'cpu_util_percent': 58.76923076923077, 'ram_util_percent': 66.31923076923077} with parameters={'env': <class '__main__.MultiAgentArena'>, 'env_config': {'config': {'width': 10, 'height': 10, 'ts': 100}}, 'create_env_on_driver': True, 'lr': 0.0001, 'model': {'fcnet_hiddens': [256, 256, 256]}, 'multiagent': {'policies': {'pol1': (None, MultiDiscrete([100 100]), Discrete(4), {'lr': 0.0002}), 'pol2': (None, MultiDiscrete([100 100]), Discrete(4), {})}, 'policy_mapping_fn': <function policy_mapping_fn at 0x7fbf14e1aee0>}, 'train_batch_size': 3000, 'num_workers': 1}.\n",
      "Trial PPO_MultiAgentArena_f007c_00001 reported episode_reward_max=10.500000000000025,episode_reward_min=-27.000000000000064,episode_reward_mean=-7.10249999999999,episode_len_mean=100.0,episode_media={},episodes_this_iter=20,policy_reward_min={'pol1': -17.0, 'pol2': -9.99999999999998},policy_reward_max={'pol1': 20.5, 'pol2': -4.500000000000001},policy_reward_mean={'pol1': 2.1, 'pol2': -9.202499999999983},custom_metrics={},sampler_perf={'mean_raw_obs_processing_ms': 0.24165921747901212, 'mean_inference_ms': 1.949358236893902, 'mean_action_processing_ms': 0.11156909685700978, 'mean_env_wait_ms': 0.051610678889384046, 'mean_env_render_ms': 0.0},off_policy_estimator={},num_healthy_workers=1,agent_timesteps_total=8000,timers={'sample_time_ms': 5492.591, 'sample_throughput': 364.127, 'load_time_ms': 83.784, 'load_throughput': 23871.013, 'learn_time_ms': 6095.171, 'learn_throughput': 328.129, 'update_time_ms': 9.674},info={'learner': {'pol1': {'learner_stats': {'cur_kl_coeff': 0.30000001192092896, 'cur_lr': 0.00019999999494757503, 'total_loss': 30.361586, 'policy_loss': -0.122368835, 'vf_loss': 30.467337, 'vf_explained_var': 0.38114533, 'kl': 0.055396557, 'entropy': 1.2684194, 'entropy_coeff': 0.0, 'model': {}}}, 'pol2': {'learner_stats': {'cur_kl_coeff': 0.10000000149011612, 'cur_lr': 9.999999747378752e-06, 'total_loss': 3.7188697, 'policy_loss': -0.0038971116, 'vf_loss': 3.7227616, 'vf_explained_var': 0.17387524, 'kl': 5.7747926e-05, 'entropy': 1.3861885, 'entropy_coeff': 0.0, 'model': {}}}}, 'num_steps_sampled': 4000, 'num_agent_steps_sampled': 8000, 'num_steps_trained': 4000, 'num_agent_steps_trained': 8000},perf={'cpu_util_percent': 69.66470588235295, 'ram_util_percent': 66.35882352941177} with parameters={'env': <class '__main__.MultiAgentArena'>, 'env_config': {'config': {'width': 10, 'height': 10, 'ts': 100}}, 'create_env_on_driver': True, 'lr': 1e-05, 'model': {'fcnet_hiddens': [256, 256, 256]}, 'multiagent': {'policies': {'pol1': (None, MultiDiscrete([100 100]), Discrete(4), {'lr': 0.0002}), 'pol2': (None, MultiDiscrete([100 100]), Discrete(4), {})}, 'policy_mapping_fn': <function policy_mapping_fn at 0x7fbf14e1aee0>}, 'train_batch_size': 2000, 'num_workers': 1}. This trial completed.\n"
     ]
    },
    {
     "data": {
      "text/html": [
       "== Status ==<br>Memory usage on this node: 10.6/16.0 GiB<br>Using FIFO scheduling algorithm.<br>Resources requested: 8.0/16 CPUs, 0/0 GPUs, 0.0/3.35 GiB heap, 0.0/1.67 GiB objects<br>Result logdir: /Users/sven/ray_results/PPO<br>Number of trials: 4/4 (4 RUNNING)<br><br>"
      ],
      "text/plain": [
       "<IPython.core.display.HTML object>"
      ]
     },
     "metadata": {},
     "output_type": "display_data"
    },
    {
     "name": "stdout",
     "output_type": "stream",
     "text": [
      "Trial PPO_MultiAgentArena_f007c_00000 reported episode_reward_max=16.5,episode_reward_min=-21.000000000000007,episode_reward_mean=-3.1574999999999926,episode_len_mean=100.0,episode_media={},episodes_this_iter=20,policy_reward_min={'pol1': -11.0, 'pol2': -9.99999999999998},policy_reward_max={'pol1': 26.5, 'pol2': -1.1999999999999855},policy_reward_mean={'pol1': 5.4125, 'pol2': -8.569999999999983},custom_metrics={},sampler_perf={'mean_raw_obs_processing_ms': 0.2500196248580802, 'mean_inference_ms': 1.9589582637144787, 'mean_action_processing_ms': 0.1124810715725918, 'mean_env_wait_ms': 0.0524420600202498, 'mean_env_render_ms': 0.0},off_policy_estimator={},num_healthy_workers=1,agent_timesteps_total=8000,timers={'sample_time_ms': 5535.318, 'sample_throughput': 361.316, 'load_time_ms': 87.398, 'load_throughput': 22883.805, 'learn_time_ms': 6095.418, 'learn_throughput': 328.115, 'update_time_ms': 10.716},info={'learner': {'pol1': {'learner_stats': {'cur_kl_coeff': 0.30000001192092896, 'cur_lr': 0.00019999999494757503, 'total_loss': 28.00896, 'policy_loss': -0.11966487, 'vf_loss': 28.114555, 'vf_explained_var': 0.37216234, 'kl': 0.046900652, 'entropy': 1.2779797, 'entropy_coeff': 0.0, 'model': {}}}, 'pol2': {'learner_stats': {'cur_kl_coeff': 0.30000001192092896, 'cur_lr': 9.999999747378752e-05, 'total_loss': 2.3448756, 'policy_loss': -0.10654473, 'vf_loss': 2.4398808, 'vf_explained_var': 0.35086113, 'kl': 0.03846399, 'entropy': 1.2933929, 'entropy_coeff': 0.0, 'model': {}}}}, 'num_steps_sampled': 4000, 'num_agent_steps_sampled': 8000, 'num_steps_trained': 4000, 'num_agent_steps_trained': 8000},perf={'cpu_util_percent': 68.04117647058824, 'ram_util_percent': 66.36470588235294} with parameters={'env': <class '__main__.MultiAgentArena'>, 'env_config': {'config': {'width': 10, 'height': 10, 'ts': 100}}, 'create_env_on_driver': True, 'lr': 0.0001, 'model': {'fcnet_hiddens': [256, 256, 256]}, 'multiagent': {'policies': {'pol1': (None, MultiDiscrete([100 100]), Discrete(4), {'lr': 0.0002}), 'pol2': (None, MultiDiscrete([100 100]), Discrete(4), {})}, 'policy_mapping_fn': <function policy_mapping_fn at 0x7fbf14e1aee0>}, 'train_batch_size': 2000, 'num_workers': 1}. This trial completed.\n",
      "Trial PPO_MultiAgentArena_f007c_00003 reported episode_reward_max=17.099999999999977,episode_reward_min=-40.500000000000064,episode_reward_mean=-5.434999999999996,episode_len_mean=100.0,episode_media={},episodes_this_iter=30,policy_reward_min={'pol1': -30.5, 'pol2': -9.99999999999998},policy_reward_max={'pol1': 26.0, 'pol2': -2.299999999999996},policy_reward_mean={'pol1': 3.1166666666666667, 'pol2': -8.55166666666665},custom_metrics={},sampler_perf={'mean_raw_obs_processing_ms': 0.263832177899623, 'mean_inference_ms': 2.0837577685673083, 'mean_action_processing_ms': 0.12032427081386361, 'mean_env_wait_ms': 0.05553645874981731, 'mean_env_render_ms': 0.0},off_policy_estimator={},num_healthy_workers=1,agent_timesteps_total=12000,timers={'sample_time_ms': 8098.726, 'sample_throughput': 370.429, 'load_time_ms': 86.392, 'load_throughput': 34725.515, 'learn_time_ms': 8201.017, 'learn_throughput': 365.808, 'update_time_ms': 6.657},info={'learner': {'pol1': {'learner_stats': {'cur_kl_coeff': 0.30000001192092896, 'cur_lr': 0.00019999999494757503, 'total_loss': 24.273363, 'policy_loss': -0.095110446, 'vf_loss': 24.3533, 'vf_explained_var': 0.28756478, 'kl': 0.050563972, 'entropy': 1.2746918, 'entropy_coeff': 0.0, 'model': {}}}, 'pol2': {'learner_stats': {'cur_kl_coeff': 0.10000000149011612, 'cur_lr': 9.999999747378752e-06, 'total_loss': 2.442393, 'policy_loss': -0.0060129315, 'vf_loss': 2.4483657, 'vf_explained_var': 0.23484002, 'kl': 0.00040133734, 'entropy': 1.3857067, 'entropy_coeff': 0.0, 'model': {}}}}, 'num_steps_sampled': 6000, 'num_agent_steps_sampled': 12000, 'num_steps_trained': 6000, 'num_agent_steps_trained': 12000},perf={'cpu_util_percent': 64.71818181818183, 'ram_util_percent': 64.27272727272727} with parameters={'env': <class '__main__.MultiAgentArena'>, 'env_config': {'config': {'width': 10, 'height': 10, 'ts': 100}}, 'create_env_on_driver': True, 'lr': 1e-05, 'model': {'fcnet_hiddens': [256, 256, 256]}, 'multiagent': {'policies': {'pol1': (None, MultiDiscrete([100 100]), Discrete(4), {'lr': 0.0002}), 'pol2': (None, MultiDiscrete([100 100]), Discrete(4), {})}, 'policy_mapping_fn': <function policy_mapping_fn at 0x7fbf14e1aee0>}, 'train_batch_size': 3000, 'num_workers': 1}. This trial completed.\n"
     ]
    },
    {
     "data": {
      "text/html": [
       "== Status ==<br>Memory usage on this node: 9.9/16.0 GiB<br>Using FIFO scheduling algorithm.<br>Resources requested: 4.0/16 CPUs, 0/0 GPUs, 0.0/3.35 GiB heap, 0.0/1.67 GiB objects<br>Result logdir: /Users/sven/ray_results/PPO<br>Number of trials: 4/4 (2 RUNNING, 2 TERMINATED)<br><br>"
      ],
      "text/plain": [
       "<IPython.core.display.HTML object>"
      ]
     },
     "metadata": {},
     "output_type": "display_data"
    },
    {
     "name": "stdout",
     "output_type": "stream",
     "text": [
      "Trial PPO_MultiAgentArena_f007c_00002 reported episode_reward_max=19.500000000000007,episode_reward_min=-33.00000000000006,episode_reward_mean=-3.039999999999994,episode_len_mean=100.0,episode_media={},episodes_this_iter=30,policy_reward_min={'pol1': -32.0, 'pol2': -9.99999999999998},policy_reward_max={'pol1': 29.5, 'pol2': -0.0999999999999869},policy_reward_mean={'pol1': 5.566666666666666, 'pol2': -8.60666666666665},custom_metrics={},sampler_perf={'mean_raw_obs_processing_ms': 0.26534294653247337, 'mean_inference_ms': 2.111634136837117, 'mean_action_processing_ms': 0.12251351096840844, 'mean_env_wait_ms': 0.05533979705967596, 'mean_env_render_ms': 0.0},off_policy_estimator={},num_healthy_workers=1,agent_timesteps_total=12000,timers={'sample_time_ms': 8196.839, 'sample_throughput': 365.995, 'load_time_ms': 83.957, 'load_throughput': 35732.494, 'learn_time_ms': 8304.951, 'learn_throughput': 361.23, 'update_time_ms': 6.379},info={'learner': {'pol1': {'learner_stats': {'cur_kl_coeff': 0.30000001192092896, 'cur_lr': 0.00019999999494757503, 'total_loss': 28.992792, 'policy_loss': -0.08392837, 'vf_loss': 29.063292, 'vf_explained_var': 0.24703965, 'kl': 0.044780336, 'entropy': 1.2900528, 'entropy_coeff': 0.0, 'model': {}}}, 'pol2': {'learner_stats': {'cur_kl_coeff': 0.30000001192092896, 'cur_lr': 9.999999747378752e-05, 'total_loss': 2.3750782, 'policy_loss': -0.091457024, 'vf_loss': 2.4555218, 'vf_explained_var': 0.38463193, 'kl': 0.03671178, 'entropy': 1.3044184, 'entropy_coeff': 0.0, 'model': {}}}}, 'num_steps_sampled': 6000, 'num_agent_steps_sampled': 12000, 'num_steps_trained': 6000, 'num_agent_steps_trained': 12000},perf={'cpu_util_percent': 64.14545454545454, 'ram_util_percent': 64.01363636363637} with parameters={'env': <class '__main__.MultiAgentArena'>, 'env_config': {'config': {'width': 10, 'height': 10, 'ts': 100}}, 'create_env_on_driver': True, 'lr': 0.0001, 'model': {'fcnet_hiddens': [256, 256, 256]}, 'multiagent': {'policies': {'pol1': (None, MultiDiscrete([100 100]), Discrete(4), {'lr': 0.0002}), 'pol2': (None, MultiDiscrete([100 100]), Discrete(4), {})}, 'policy_mapping_fn': <function policy_mapping_fn at 0x7fbf14e1aee0>}, 'train_batch_size': 3000, 'num_workers': 1}. This trial completed.\n"
     ]
    },
    {
     "data": {
      "text/html": [
       "== Status ==<br>Memory usage on this node: 9.6/16.0 GiB<br>Using FIFO scheduling algorithm.<br>Resources requested: 0/16 CPUs, 0/0 GPUs, 0.0/3.35 GiB heap, 0.0/1.67 GiB objects<br>Result logdir: /Users/sven/ray_results/PPO<br>Number of trials: 4/4 (4 TERMINATED)<br><table>\n",
       "<thead>\n",
       "<tr><th>Trial name                     </th><th>status    </th><th>loc  </th><th style=\"text-align: right;\">    lr</th><th style=\"text-align: right;\">  train_batch_size</th><th style=\"text-align: right;\">  iter</th><th style=\"text-align: right;\">  total time (s)</th><th style=\"text-align: right;\">  ts</th><th style=\"text-align: right;\">  reward</th><th style=\"text-align: right;\">  episode_reward_max</th><th style=\"text-align: right;\">  episode_reward_min</th><th style=\"text-align: right;\">  episode_len_mean</th></tr>\n",
       "</thead>\n",
       "<tbody>\n",
       "<tr><td>PPO_MultiAgentArena_f007c_00000</td><td>TERMINATED</td><td>     </td><td style=\"text-align: right;\">0.0001</td><td style=\"text-align: right;\">              2000</td><td style=\"text-align: right;\">     2</td><td style=\"text-align: right;\">         23.719 </td><td style=\"text-align: right;\">4000</td><td style=\"text-align: right;\"> -3.1575</td><td style=\"text-align: right;\">                16.5</td><td style=\"text-align: right;\">               -21  </td><td style=\"text-align: right;\">               100</td></tr>\n",
       "<tr><td>PPO_MultiAgentArena_f007c_00001</td><td>TERMINATED</td><td>     </td><td style=\"text-align: right;\">1e-05 </td><td style=\"text-align: right;\">              2000</td><td style=\"text-align: right;\">     2</td><td style=\"text-align: right;\">         23.6519</td><td style=\"text-align: right;\">4000</td><td style=\"text-align: right;\"> -7.1025</td><td style=\"text-align: right;\">                10.5</td><td style=\"text-align: right;\">               -27  </td><td style=\"text-align: right;\">               100</td></tr>\n",
       "<tr><td>PPO_MultiAgentArena_f007c_00002</td><td>TERMINATED</td><td>     </td><td style=\"text-align: right;\">0.0001</td><td style=\"text-align: right;\">              3000</td><td style=\"text-align: right;\">     2</td><td style=\"text-align: right;\">         33.3586</td><td style=\"text-align: right;\">6000</td><td style=\"text-align: right;\"> -3.04  </td><td style=\"text-align: right;\">                19.5</td><td style=\"text-align: right;\">               -33  </td><td style=\"text-align: right;\">               100</td></tr>\n",
       "<tr><td>PPO_MultiAgentArena_f007c_00003</td><td>TERMINATED</td><td>     </td><td style=\"text-align: right;\">1e-05 </td><td style=\"text-align: right;\">              3000</td><td style=\"text-align: right;\">     2</td><td style=\"text-align: right;\">         32.9821</td><td style=\"text-align: right;\">6000</td><td style=\"text-align: right;\"> -5.435 </td><td style=\"text-align: right;\">                17.1</td><td style=\"text-align: right;\">               -40.5</td><td style=\"text-align: right;\">               100</td></tr>\n",
       "</tbody>\n",
       "</table><br><br>"
      ],
      "text/plain": [
       "<IPython.core.display.HTML object>"
      ]
     },
     "metadata": {},
     "output_type": "display_data"
    },
    {
     "name": "stderr",
     "output_type": "stream",
     "text": [
      "2021-06-18 19:39:03,148\tINFO tune.py:549 -- Total run time: 57.89 seconds (57.60 seconds for the tuning loop).\n"
     ]
    }
   ],
   "source": [
    "# Solution to Exercise #2\n",
    "del config[\"num_worker\"]\n",
    "\n",
    "config.update({\n",
    "    \"lr\": tune.grid_search([0.0001, 0.00001]),\n",
    "    \"train_batch_size\": tune.grid_search([2000, 3000]),\n",
    "    \"num_workers\": 1, # 2 CPUs per trial (why? 1 \"local worker\" (learner), \"rollout\" 1 worker (num_workers=1))\n",
    "})\n",
    "\n",
    "analysis = tune.run(\"PPO\", config=config, stop=stop, checkpoint_freq=3, checkpoint_at_end=True, verbose=2)"
   ]
  },
  {
   "cell_type": "code",
   "execution_count": null,
   "id": "03b8d19b-08de-4a36-9bd0-c1f3d66b3fe4",
   "metadata": {
    "scrolled": true,
    "tags": []
   },
   "outputs": [],
   "source": [
    "print(analysis)\n",
    "\n",
    "best_checkpoint = analysis.get_best_checkpoint()"
   ]
  },
  {
   "cell_type": "markdown",
   "id": "069d282a-4ad1-4d5f-9dec-00afb8154048",
   "metadata": {},
   "source": [
    "------------------\n",
    "## 15 min break :)\n",
    "------------------"
   ]
  },
  {
   "cell_type": "markdown",
   "id": "86c60785-83d9-40fd-9ca6-77583d34c768",
   "metadata": {},
   "source": [
    "## Let's talk about customization options\n",
    "\n",
    "### Deep Dive: Providing your custom Models in tf or torch."
   ]
  },
  {
   "cell_type": "code",
   "execution_count": null,
   "id": "5516d36d",
   "metadata": {},
   "outputs": [],
   "source": [
    "# Custom Neural Network Models.\n",
    "\n",
    "import tensorflow as tf\n",
    "\n",
    "\n",
    "class MyModel(tf.keras.Model):\n",
    "    def __init__(self,\n",
    "                input_space,\n",
    "                action_space,\n",
    "                num_outputs,\n",
    "                name=\"\",\n",
    "                *,\n",
    "                layers = (256, 256)):\n",
    "        super().__init__(name=name)\n",
    "\n",
    "        self.dense_layers = []\n",
    "        for i, layer_size in enumerate(layers):\n",
    "            self.dense_layers.append(tf.keras.layers.Dense(\n",
    "                layer_size, activation=tf.nn.relu, name=f\"dense_{i}\"))\n",
    "\n",
    "        self.logits = tf.keras.layers.Dense(\n",
    "            num_outputs,\n",
    "            activation=tf.keras.activations.linear,\n",
    "            name=\"logits\")\n",
    "        self.values = tf.keras.layers.Dense(\n",
    "            1, activation=None, name=\"values\")\n",
    "\n",
    "    def call(self, inputs, training=None, mask=None):\n",
    "        # Standardized input args:\n",
    "        # - input_dict (RLlib `SampleBatch` object, which is basically a dict with numpy arrays\n",
    "        # in it)\n",
    "        out = inputs[\"obs\"]\n",
    "        for l in self.dense_layers:\n",
    "            out = l(out)\n",
    "        logits = self.logits(out)\n",
    "        values = self.values(out)\n",
    "\n",
    "        # Standardized output:\n",
    "        # - \"normal\" model output tensor (e.g. action logits).\n",
    "        # - list of internal state outputs (only needed for RNN-/memory enhanced models).\n",
    "        # - \"extra outs\", such as model's side branches, e.g. value function outputs.\n",
    "        return logits, [], {\"vf_preds\": tf.reshape(values, [-1])}"
   ]
  },
  {
   "cell_type": "code",
   "execution_count": null,
   "id": "controversial-repair",
   "metadata": {},
   "outputs": [],
   "source": [
    "# Do a quick test on the custom model class.\n",
    "from gym.spaces import Box\n",
    "test_model = MyModel(\n",
    "    input_space=Box(-1.0, 1.0, (2, )),\n",
    "    action_space=None,\n",
    "    num_outputs=2,\n",
    ")\n",
    "test_model({\"obs\": np.array([[0.5, 0.5]])})"
   ]
  },
  {
   "cell_type": "code",
   "execution_count": null,
   "id": "2237526a",
   "metadata": {},
   "outputs": [],
   "source": [
    "# Set up our custom model and re-run the experiment.\n",
    "config.update({\n",
    "    \"model\": {\n",
    "        \"custom_model\": MyModel,\n",
    "        \"custom_model_config\": {\n",
    "            \"layers\": [128, 128],\n",
    "        },\n",
    "    },\n",
    "    # Revert these to single trials (and use those hyperparams that performed well in our Exercise #2).\n",
    "    \"lr\": 0.0005,\n",
    "    \"train_batch_size\": 2000,\n",
    "})\n",
    "\n",
    "tune.run(\"PPO\", config=config, stop=stop)"
   ]
  },
  {
   "cell_type": "markdown",
   "id": "eb3f940b-697c-4d1d-af28-1d174331dc3c",
   "metadata": {},
   "source": [
    "### Deep Dive: How do we customize RLlib's RL loop?\n",
    "\n",
    "RLlib offers a callbacks API that allows you to add custom behavior to\n",
    "all major events during the environment sampling- and learning process.\n",
    "\n",
    "**Our problem:** So far, we can only see the total reward (sum for both agents).\n",
    "This does not give us enough insights into the question of which agent\n",
    "learns what (maybe agent2 doesn't learn anything and the reward we are observing\n",
    "is mostly due to agent1's progress in covering the map!).\n",
    "\n",
    "In the following cell, we will create some custom callback \"hooks\" that will allow us to\n",
    "add each agents single reward to the returned metrics (which will then be displayed in tensorboard!).\n",
    "\n",
    "For that we will override RLlib's DefaultCallbacks class and implement the\n",
    "`on_episode_start`, `on_episode_step`, and `on_episode_end` methods therein:\n"
   ]
  },
  {
   "cell_type": "code",
   "execution_count": null,
   "id": "adcb9733-01bc-426b-ad57-7983fc7db8ae",
   "metadata": {},
   "outputs": [],
   "source": [
    "# Override the DefaultCallbacks with your own and implement any methods (hooks)\n",
    "# that you need.\n",
    "from ray.rllib.agents.callbacks import DefaultCallbacks\n",
    "from ray.rllib.evaluation.episode import MultiAgentEpisode\n",
    "\n",
    "\n",
    "class MyCallbacks(DefaultCallbacks):\n",
    "    def on_episode_start(self,\n",
    "                         *,\n",
    "                         worker,\n",
    "                         base_env,\n",
    "                         policies,\n",
    "                         episode: MultiAgentEpisode,\n",
    "                         env_index,\n",
    "                         **kwargs):\n",
    "        # We will use the `MultiAgentEpisode` object being passed into\n",
    "        # all episode-related callbacks. It comes with a user_data property (dict),\n",
    "        # which we can write arbitrary data into.\n",
    "\n",
    "        # At the end of an episode, we'll transfer that data into the `hist_data`, and `custom_metrics`\n",
    "        # properties to make sure our custom data is displayed in TensorBoard.\n",
    "\n",
    "        # The episode is starting:\n",
    "        # Wipe out the rewards-lists for individual agents 1 and 2.\n",
    "        episode.user_data[\"agent1_rewards\"] = []\n",
    "        episode.user_data[\"agent2_rewards\"] = []\n",
    "\n",
    "    def on_episode_step(self,\n",
    "                        *,\n",
    "                        worker,\n",
    "                        base_env,\n",
    "                        episode: MultiAgentEpisode,\n",
    "                        env_index,\n",
    "                        **kwargs):\n",
    "        # Get the last rewards for individual agents 1 and 2\n",
    "        # from the MultiAgentEpisode object (`episode`).\n",
    "        ag1_r = episode.prev_reward_for(\"agent1\")\n",
    "        ag2_r = episode.prev_reward_for(\"agent2\")\n",
    "        #print(\"ag1_r={} ag2_r={}\".format(ag1_r, ag2_r))\n",
    "\n",
    "        # Add individual rewards to our lists.\n",
    "        episode.user_data[\"agent1_rewards\"].append(ag1_r)\n",
    "        episode.user_data[\"agent2_rewards\"].append(ag2_r)\n",
    "\n",
    "    def on_episode_end(self,\n",
    "                       *,\n",
    "                       worker,\n",
    "                       base_env,\n",
    "                       policies,\n",
    "                       episode: MultiAgentEpisode,\n",
    "                       env_index,\n",
    "                       **kwargs):\n",
    "        # Episode is done:\n",
    "        # Write scalar values (sum over rewards) to `custom_metrics` and\n",
    "        # time-series data (rewards per time step) to `hist_data`.\n",
    "        # Both will be visible then in TensorBoard.\n",
    "\n",
    "        # Put scalar values (one per episode) under `custom_metrics`.\n",
    "        episode.custom_metrics[\"ag1_R\"] = sum(episode.user_data[\"agent1_rewards\"])\n",
    "        episode.custom_metrics[\"ag2_R\"] = sum(episode.user_data[\"agent2_rewards\"])\n",
    "        # Time series data goes into `hist_data`.\n",
    "        episode.hist_data[\"agent1_rewards\"] = episode.user_data[\"agent1_rewards\"]\n",
    "        episode.hist_data[\"agent2_rewards\"] = episode.user_data[\"agent2_rewards\"]"
   ]
  },
  {
   "cell_type": "code",
   "execution_count": null,
   "id": "bd2fe8eb-c52f-4a26-9067-96ad9fe160a4",
   "metadata": {
    "scrolled": true,
    "tags": []
   },
   "outputs": [],
   "source": [
    "# Setting up our config to point to our new custom callbacks class:\n",
    "config.update({\n",
    "    \"env\": MultiAgentArena,  # force \"reload\"\n",
    "    \"callbacks\": MyCallbacks,  # by default, this would point to `rllib.agents.callbacks.DefaultCallbacks`, which does nothing.\n",
    "})\n",
    "\n",
    "results = tune.run(\n",
    "    \"PPO\",\n",
    "    config=config,\n",
    "    stop={\"training_iteration\": 20},\n",
    "    checkpoint_at_end=True,\n",
    "    # If you'd like to restore the tune run from an existing checkpoint file, you can do the following:\n",
    "    #restore=\"/Users/sven/ray_results/PPO/PPO_MultiAgentArena_fd451_00000_0_2021-05-25_15-13-26/checkpoint_000010/checkpoint-10\",\n",
    ")"
   ]
  },
  {
   "cell_type": "markdown",
   "id": "9efa6a24",
   "metadata": {},
   "source": [
    "### Let's check tensorboard for the new custom metrics!\n",
    "\n",
    "1. Head over to ~/ray_results/PPO/PPO_MultiAgentArena_[some key]_00000_0_[date]_[time]/\n",
    "1. In that directory, you should see a `event.out....` file.\n",
    "1. Run `tensorboard --logdir .` and head to https://localhost:6006\n",
    "\n",
    "<img src=\"images/tensorboard.png\" width=800>\n"
   ]
  },
  {
   "cell_type": "markdown",
   "id": "cd73713f-581a-493d-9198-3c9a98109176",
   "metadata": {},
   "source": [
    "## !Optional Hack! (Exercise No 3)\n",
    "\n",
    "<hr />\n",
    "\n",
    "Assume we would like to know exactly how much (new) ground agent1 \n",
    "covers on average in an episode.\n",
    "Write your own custom callback class (sub-class\n",
    "ray.rllib.agents.callback::DefaultCallbacks) and override one or more methods\n",
    "therein to collect the following data:\n",
    "- The number of (unique) fields agent1 has covered in an episode.\n",
    "- The number of times agent2 has blocked agent1.\n",
    "\n",
    "Remember that you can get the last rewards for both agents via the `MultiAgentEpisode` object (`episode`) and its\n",
    "`prev_reward_for([agent name])` method. From these, you should be able to infer, whether a collision happened or whether agent1\n",
    "discovered a new field in the grid.\n",
    "\n",
    "Run a simple experiment using tune.run (and your custom callbacks class)\n",
    "and confirm the new metric shows up in tensorboard.\n",
    "\n",
    "**Good luck! :)**"
   ]
  },
  {
   "cell_type": "code",
   "execution_count": null,
   "id": "d904ad01-7d6c-43c4-aa89-2bf1ff58e7e1",
   "metadata": {
    "scrolled": true,
    "tags": []
   },
   "outputs": [],
   "source": [
    "# Solution Exercise #3\n",
    "\n",
    "import ray\n",
    "from ray.rllib.agents.callbacks import DefaultCallbacks\n",
    "from ray import tune\n",
    "\n",
    "\n",
    "class MyCallback(DefaultCallbacks):\n",
    "    def on_episode_start(self, *, worker, base_env,\n",
    "                         policies, episode,\n",
    "                         env_index, **kwargs):\n",
    "        # Set per-episode object to capture, which states (observations)\n",
    "        # have been visited by agent1.\n",
    "        episode.user_data[\"new_fields_discovered\"] = 0\n",
    "        # Set per-episode agent2-blocks counter (how many times has agent2 blocked agent1?).\n",
    "        episode.user_data[\"num_collisions\"] = 0\n",
    "\n",
    "    def on_episode_step(self, *, worker, base_env,\n",
    "                        episode, env_index, **kwargs):\n",
    "        # Get both rewards.\n",
    "        ag1_r = episode.prev_reward_for(\"agent1\")\n",
    "        ag2_r = episode.prev_reward_for(\"agent2\")\n",
    "\n",
    "        # Agent1 discovered a new field.\n",
    "        if ag1_r == 1.0:\n",
    "            episode.user_data[\"new_fields_discovered\"] += 1\n",
    "        # Collision.\n",
    "        elif ag2_r == 1.0:\n",
    "            episode.user_data[\"num_collisions\"] += 1\n",
    "\n",
    "    def on_episode_end(self, *, worker, base_env,\n",
    "                       policies, episode,\n",
    "                       env_index, **kwargs):\n",
    "        # Store everything in `episode.custom_metrics`:\n",
    "        episode.custom_metrics[\"new_fields_discovered\"] = episode.user_data[\"new_fields_discovered\"]\n",
    "        episode.custom_metrics[\"num_collisions\"] = episode.user_data[\"num_collisions\"]\n",
    "\n",
    "\n",
    "stop = {\"training_iteration\": 10}\n",
    "# Specify env and custom callbacks in our config (leave everything else\n",
    "# as-is (defaults)).\n",
    "config = {\n",
    "    \"env\": MultiAgentArena,\n",
    "    \"callbacks\": MyCallback,\n",
    "}\n",
    "\n",
    "# Run for a few iterations.\n",
    "tune.run(\"PPO\", stop=stop, config=config)\n",
    "\n",
    "# Check tensorboard.\n",
    "\n"
   ]
  },
  {
   "cell_type": "markdown",
   "id": "bb85ad95",
   "metadata": {},
   "source": [
    "## A closer look at RLlib's APIs and structure\n",
    "### (Depending on time left and amount of questions having been accumulated :)\n",
    "\n",
    "We already took a quick look inside an RLlib Trainer object and extracted its Policy(ies) and the Policy's model (neural network). Here is a much more detailed overview of what's inside a Trainer object.\n",
    "\n",
    "At the core is the so-called `WorkerSet` sitting under `Trainer.workers`. A WorkerSet is a group of `RolloutWorker` (`rllib.evaluation.rollout_worker.py`) objects that always consists of a \"local worker\" (`Trainer.workers.local_worker()`) and n \"remote workers\" (`Trainer.workers.remote_workers()`).\n",
    "\n"
   ]
  },
  {
   "cell_type": "markdown",
   "id": "a8f37549",
   "metadata": {},
   "source": [
    "<img src=\"images/rllib_structure.png\" width=1000>"
   ]
  },
  {
   "cell_type": "markdown",
   "id": "f4d72883",
   "metadata": {},
   "source": [
    "### Scaling RLlib\n",
    "\n",
    "Scaling RLlib works by parallelizing the \"jobs\" that the remote `RolloutWorkers` do. In a vanilla RL algorithm, like PPO, DQN, and many others, the `@ray.remote` labeled RolloutWorkers in the figure above are responsible for interacting with one or more environments and thereby collecting experiences. Observations are produced by the environment, actions are then computed by the Policy(ies) copy located on the remote worker and sent to the environment in order to produce yet another observation. This cycle is repeated endlessly and only sometimes interrupted to send experience batches (\"train batches\") of a certain size to the \"local worker\". There these batches are used to call `Policy.learn_on_batch()`, which performs a loss calculation, followed by a model weights update, and a subsequent weights broadcast back to all the remote workers.\n",
    "\n"
   ]
  },
  {
   "cell_type": "markdown",
   "id": "e00f8e5a-d8a8-451d-bb97-b2000dbb2f9d",
   "metadata": {},
   "source": [
    "## Thank you for listening and participating!\n",
    "\n",
    "TODO: add links here!!\n",
    "\n",
    "github, slack, documents(!)\n",
    "- examples script folder\n",
    "- blog posts! (Unity environments)\n",
    "\n",
    "## Time for Q&A :)"
   ]
  },
  {
   "cell_type": "code",
   "execution_count": null,
   "id": "1f13abd3-3ac0-490d-8040-63110e26677a",
   "metadata": {},
   "outputs": [],
   "source": []
  }
 ],
 "metadata": {
  "kernelspec": {
   "display_name": "Python 3",
   "language": "python",
   "name": "python3"
  },
  "language_info": {
   "codemirror_mode": {
    "name": "ipython",
    "version": 3
   },
   "file_extension": ".py",
   "mimetype": "text/x-python",
   "name": "python",
   "nbconvert_exporter": "python",
   "pygments_lexer": "ipython3",
   "version": "3.8.10"
  }
 },
 "nbformat": 4,
 "nbformat_minor": 5
}
