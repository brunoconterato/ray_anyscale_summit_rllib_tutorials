{
 "cells": [
  {
   "cell_type": "markdown",
   "id": "6aa06051",
   "metadata": {},
   "source": [
    "# Reinforcement Learning for Recommender Systems\n",
    "## From Contextual Bandits to Slate-Q\n",
    "\n",
    "<table>\n",
    "<tr>\n",
    "    <td> <img src=\"images/youtube.png\" style=\"width: 230px;\"/> </td>\n",
    "    <td> <img src=\"images/dota2.jpg\" style=\"width: 213px;\"/> </td>\n",
    "    <td> <img src=\"images/forklifts.jpg\" style=\"width: 169px;\"/> </td>\n",
    "    <td> <img src=\"images/spotify.jpg\" style=\"width: 254px;\"/> </td>\n",
    "    <td> <img src=\"images/robots.jpg\" style=\"width: 252px;\"/> </td>\n",
    "</tr>\n",
    "</table>\n",
    "\n",
    "\n",
    "### Overview\n",
    "“Reinforcement Learning for Recommender Systems, From Contextual Bandits to Slate-Q” is a tutorial for industry researchers, domain-experts, and ML-engineers, showcasing ...\n",
    "\n",
    "1) .. how you can use RLlib to build a recommender system **simulator** for your industry applications and run Bandit algorithms and the Slate-Q algorithm against this simulator.\n",
    "\n",
    "2) .. how RLlib's offline algorithms pose solutions in case you **don't have a simulator** of your problem environment at hand.\n",
    "\n",
    "We will further explore how to deploy trained models to production using Ray Serve.\n",
    "\n",
    "During the live-coding phases, we will using a recommender system simulating environment by google's RecSim and configure and run 2 RLlib algorithms against it. We'll also demonstrate how you may use offline RL as a solution for recommender systems and how to deploy a learned policy into production.\n",
    "\n",
    "RLlib offers industry-grade scalability, a large list of algos to choose from (offline, model-based, model-free, etc..), support for TensorFlow and PyTorch, and a unified API for a variety of applications. This tutorial includes a brief introduction to provide an overview of concepts (e.g. why RL?) before proceeding to RLlib (recommender system) environments, neural network models, offline RL, student exercises, Q/A, and more. All code will be provided as .py files in a GitHub repo."
   ]
  },
  {
   "cell_type": "markdown",
   "id": "green-insertion",
   "metadata": {},
   "source": [
    "### Intended Audience\n",
    "* Python programmers who are interested in using RL to solve their specific industry decision making problems and who want to get started with RLlib.\n",
    "\n",
    "### Prerequisites\n",
    "* Some Python programming experience.\n",
    "* Some familiarity with machine learning.\n",
    "* *Helpful, but not required:* Experience in reinforcement learning and Ray.\n",
    "* *Helpful, but not required:* Experience with TensorFlow or PyTorch.\n",
    "\n",
    "### Requirements/Dependencies\n",
    "\n",
    "To get this very notebook up and running on your local machine, you can follow these steps here:\n",
    "\n",
    "Install conda (https://www.anaconda.com/products/individual)\n",
    "\n",
    "Then ...\n",
    "\n",
    "#### Quick `conda` setup instructions (Linux):\n",
    "```\n",
    "$ conda create -n rllib_tutorial python=3.9\n",
    "$ conda activate rllib_tutorial\n",
    "$ pip install \"ray[rllib,serve]\" recsim jupyterlab tensorflow torch\n",
    "```\n",
    "\n",
    "#### Quick `conda` setup instructions (Mac):\n",
    "```\n",
    "$ conda create -n rllib_tutorial python=3.9\n",
    "$ conda activate rllib_tutorial\n",
    "$ pip install cmake \"ray[rllib,serve]\" recsim jupyterlab tensorflow torch\n",
    "$ pip install grpcio # <- extra install only on apple M1 mac\n",
    "$ # **Note:** In case you are getting a \"requires TensorFlow version >= 2.8\" error at some point in the notebook, try the following:\n",
    "$ pip uninstall -y tensorflow\n",
    "$ python -m pip install tensorflow-macos --no-cache-dir\n",
    "```\n",
    "\n",
    "#### Quick `conda` setup instructions (Win10):\n",
    "```\n",
    "$ conda create -n rllib_tutorial python=3.9\n",
    "$ conda activate rllib_tutorial\n",
    "$ pip install \"ray[rllib,serve]\" recsim jupyterlab tensorflow torch\n",
    "$ pip install pywin32 # <- extra install only on Win10.\n",
    "```\n",
    "\n",
    "### Opening these tutorial files:\n",
    "```\n",
    "$ git clone https://github.com/sven1977/rllib_tutorials\n",
    "$ cd rllib_tutorials/production_rl_2022\n",
    "$ jupyter-lab\n",
    "```\n",
    "\n",
    "\n",
    "### Key Takeaways\n",
    "* What is reinforcement learning and RLlib?\n",
    "* How do recommender systems work? How do we build our own?\n",
    "* How do we train RLlib's different algorithms on a recommender system problem?\n",
    "* What's offline RL and how can I use it with RLlib?\n",
    "* How do I deploy an already trained policy into production using Ray Serve.\n",
    "\n",
    "\n",
    "### Tutorial Outline\n",
    "\n",
    "1. Reinforcement learning (RL) in a nutshell.\n",
    "1. How to formulate any problem as an RL-solvable one?\n",
    "1. Recommender systems - How they work.\n",
    "1. Why you should use RLlib.\n",
    "\n",
    "(15min break)\n",
    "\n",
    "1. [Google RecSim - Build your own recom sys simulator.](#recsim)\n",
    "1. [Dissecting the \"long term satisfaction\" (LTE) environment.](#dissecting_lte)\n",
    "1. [Using a contextual Bandit algorithm with RLlib and starting our first training run on the LTE env.](#rllib)\n",
    "1. [What did the Bandit learn?](#bandit_results)\n",
    "1. [Intro to Slate-Q.](#slateq)\n",
    "1. [Starting a Slate-Q training run.](#slateq_experiment)\n",
    "\n",
    "(15min break)\n",
    "\n",
    "1. [Analyzing the results of the SlateQ run.](#slateq_results)\n",
    "1. [Intro to Offline RL - What if we don't have an environment?](#offline_rl)\n",
    "1. [BC (behavior cloning) and MARWIL: Quick how-to and setup instructions.](#bc_and_marwil)\n",
    "1. [Off policy evaluation (OPE) as a means to estimate how well an offline-RL trained policy will perform in production.](#ope)\n",
    "1. [Ray Serve example: How can we deploy a trained policy into our production environment?](#ray_serve)\n",
    "\n",
    "\n",
    "### Other Recommended Readings\n",
    "* [Intro to RLlib: Example Environments](https://medium.com/distributed-computing-with-ray/intro-to-rllib-example-environments-3a113f532c70)* [Reinforcement Learning with RLlib in the Unity Game Engine](https://medium.com/distributed-computing-with-ray/reinforcement-learning-with-rllib-in-the-unity-game-engine-1a98080a7c0d)\n",
    "\n",
    "<img src=\"images/unity3d_blog_post.png\" width=400>\n",
    "\n",
    "* [Attention Nets and More with RLlib's Trajectory View API](https://medium.com/distributed-computing-with-ray/attention-nets-and-more-with-rllibs-trajectory-view-api-d326339a6e65)"
   ]
  },
  {
   "cell_type": "markdown",
   "id": "e9f7e21f-f3de-4bad-a3a7-4bbd0b015559",
   "metadata": {},
   "source": [
    "# Let's start!"
   ]
  },
  {
   "cell_type": "code",
   "execution_count": 1,
   "id": "930deb27-e739-4507-bc24-e39ded9caeb4",
   "metadata": {},
   "outputs": [
    {
     "name": "stdout",
     "output_type": "stream",
     "text": [
      "ok\n"
     ]
    }
   ],
   "source": [
    "# Let's get started with some basic imports.\n",
    "\n",
    "import ray  # .. of course\n",
    "from ray import serve\n",
    "from ray import tune\n",
    "\n",
    "from collections import OrderedDict\n",
    "import gym  # RL environments and action/observation spaces\n",
    "import matplotlib.pyplot as plt\n",
    "import numpy as np\n",
    "import os\n",
    "import pandas\n",
    "from pprint import pprint\n",
    "import re\n",
    "import recsim  # google's RecSim package.\n",
    "import requests\n",
    "from scipy.interpolate import make_interp_spline, BSpline\n",
    "from scipy.stats import linregress, sem\n",
    "from starlette.requests import Request\n",
    "import tree  # dm_tree\n",
    "\n",
    "print(\"ok\")"
   ]
  },
  {
   "cell_type": "markdown",
   "id": "90f010a6-7ee3-49b3-814a-2b9455c66c8f",
   "metadata": {},
   "source": [
    "<a id='recsim'></a>\n",
    "## Introducing google RecSim\n",
    "\n",
    "<img src=\"images/recsim_documentation.png\" width=600 style=\"float:right;\">\n",
    "\n",
    "<a href=\"https://github.com/google-research/recsim\">Google's RecSim package</a> offers a flexible way for you to <a href=\"https://github.com/google-research/recsim/blob/master/recsim/colab/RecSim_Developing_an_Environment.ipynb\">define the different building blocks of a recommender system</a>:\n",
    "\n",
    "\n",
    "- User model (how do users change their preferences when having been faced with, selected, and consumed certain items?).\n",
    "- Document model: Features of documents and how do documents get pre-selected/sampled.\n",
    "- Reward functions.\n",
    "\n",
    "RLlib comes with 3 off-the-shelf RecSim environments that are ready for training (with RLlib):\n",
    "* Long Term Satisfaction (<- the \"env\" we will use in this tutorial)\n",
    "* Interest Evolution\n",
    "* Interest Exploration\n",
    "\n",
    "<a id='dissecting_lte'></a>"
   ]
  },
  {
   "cell_type": "code",
   "execution_count": 2,
   "id": "c3363126-0f38-4f92-a031-1ea791b9a747",
   "metadata": {},
   "outputs": [
    {
     "name": "stdout",
     "output_type": "stream",
     "text": [
      "WARNING:tensorflow:From /home/bruno/anaconda3/envs/rllib_tutorial/lib/python3.9/site-packages/tensorflow/python/util/deprecation.py:561: calling function (from tensorflow.python.eager.def_function) with experimental_relax_shapes is deprecated and will be removed in a future version.\n",
      "Instructions for updating:\n",
      "experimental_relax_shapes is deprecated, use reduce_retracing instead\n",
      "action space = Discrete(10)\n"
     ]
    }
   ],
   "source": [
    "# Import the built-in RecSim exapmle environment: \"Long Term Satisfaction\", ready to be trained by RLlib.\n",
    "from ray.rllib.examples.env.recommender_system_envs_with_recsim import LongTermSatisfactionRecSimEnv\n",
    "\n",
    "# Create a RecSim instance using the following config parameters (very similar to what we used above in our own recommender system env):\n",
    "lts_10_1_env = LongTermSatisfactionRecSimEnv({\n",
    "    \"num_candidates\": 10,  # action_sapce = Discrete(10) -> int 0-9\n",
    "    \"slate_size\": 1,\n",
    "    # Set to False for re-using the same candidate doecuments each timestep.\n",
    "    \"resample_documents\": False,\n",
    "    # Convert MultiDiscrete actions to Discrete (flatten action space).\n",
    "    # e.g. slate_size=2 and num_candidates=10 -> MultiDiscrete([10, 10]) -> Discrete(100)  # 10x10\n",
    "    \"convert_to_discrete_action_space\": True,\n",
    "})\n",
    "\n",
    "# What are our spaces?\n",
    "#print(f\"observation space = {lts_10_1_env.observation_space}\")\n",
    "print(f\"action space = {lts_10_1_env.action_space}\")"
   ]
  },
  {
   "cell_type": "markdown",
   "id": "a3eac27a-bc9a-47dd-b3f9-cffd3e590e3b",
   "metadata": {},
   "source": [
    "Let's make use of our knowledge on the gym.Env API and call our new environment's `reset()` and `step()` methods.\n",
    "First: `reset()` to receive the initial observation in a new episode/trajectory/session:"
   ]
  },
  {
   "cell_type": "code",
   "execution_count": 3,
   "id": "913d34a6-fac6-4436-b1d5-9292ebf88006",
   "metadata": {},
   "outputs": [
    {
     "name": "stdout",
     "output_type": "stream",
     "text": [
      "OrderedDict([('user', array([], dtype=float32)),\n",
      "             ('doc',\n",
      "              {'0': array([0.5488135], dtype=float32),\n",
      "               '1': array([0.71518934], dtype=float32),\n",
      "               '2': array([0.60276335], dtype=float32),\n",
      "               '3': array([0.5448832], dtype=float32),\n",
      "               '4': array([0.4236548], dtype=float32),\n",
      "               '5': array([0.6458941], dtype=float32),\n",
      "               '6': array([0.4375872], dtype=float32),\n",
      "               '7': array([0.891773], dtype=float32),\n",
      "               '8': array([0.96366274], dtype=float32),\n",
      "               '9': array([0.3834415], dtype=float32)}),\n",
      "             ('response',\n",
      "              (OrderedDict([('click', 1),\n",
      "                            ('engagement',\n",
      "                             array(26.661245, dtype=float32))]),))])\n"
     ]
    }
   ],
   "source": [
    "# Start a new episode and look at initial observation.\n",
    "obs = lts_10_1_env.reset()\n",
    "pprint(obs)"
   ]
  },
  {
   "cell_type": "markdown",
   "id": "e9857197-f79f-4f9d-8e3f-68eee20daf94",
   "metadata": {},
   "source": [
    "Now let's play RL agent ourselves and recommend some items (pick some actions) via the environment's `step()` method:\n",
    "\n",
    "**Task:** Execute the following cell a couple of times chosing different actions (from 0 - 9) to be sent into the environment's `step()` method. Each time, look at the returned next observation, reward, and `done` flag and write down what you find interesting about the dynamics and observations of this environment."
   ]
  },
  {
   "cell_type": "code",
   "execution_count": 4,
   "id": "1f10b83e-993f-4c59-8e13-4e1074bfd7af",
   "metadata": {},
   "outputs": [
    {
     "name": "stdout",
     "output_type": "stream",
     "text": [
      "OrderedDict([('user', array([], dtype=float32)),\n",
      "             ('doc',\n",
      "              {'0': array([0.5488135], dtype=float32),\n",
      "               '1': array([0.71518934], dtype=float32),\n",
      "               '2': array([0.60276335], dtype=float32),\n",
      "               '3': array([0.5448832], dtype=float32),\n",
      "               '4': array([0.4236548], dtype=float32),\n",
      "               '5': array([0.6458941], dtype=float32),\n",
      "               '6': array([0.4375872], dtype=float32),\n",
      "               '7': array([0.891773], dtype=float32),\n",
      "               '8': array([0.96366274], dtype=float32),\n",
      "               '9': array([0.3834415], dtype=float32)}),\n",
      "             ('response',\n",
      "              ({'click': 1, 'engagement': array(7.7331085, dtype=float32)},))])\n",
      "reward = 7.73; done = False\n"
     ]
    }
   ],
   "source": [
    "# Let's send our first action (1-slate back into the env) using the env's `step()` method.\n",
    "action = 8  # Discrete(10): 0-9 are all valid actions\n",
    "\n",
    "# This method returns 4 items:\n",
    "# - next observation (after having applied the action)\n",
    "# - reward (after having applied the action)\n",
    "# - `done` flag; if True, the episode is terminated and the environment needs to be `reset()` again.\n",
    "# - info dict (we'll ignore this)\n",
    "next_obs, reward, done, _ = lts_10_1_env.step(action)\n",
    "\n",
    "# Print out the next observation.\n",
    "# We expect the \"doc\" and \"user\" items to be the same as in the previous observation\n",
    "# b/c we set \"resample_documents\" to False.\n",
    "pprint(next_obs)\n",
    "# Print out rewards and the vlaue of the `done` flag.\n",
    "print(f\"reward = {reward:.2f}; done = {done}\")"
   ]
  },
  {
   "cell_type": "markdown",
   "id": "444c7982-b372-4fe9-806a-18a29101c094",
   "metadata": {},
   "source": [
    "<br />.<br />.<br />.<br />.<br />.\n",
    "<br />.<br />.<br />.<br />.<br />.\n",
    "<br />.<br />.<br />.<br />.<br />.\n",
    "<br />.<br />.<br />.<br />.<br />.\n",
    "<br />..<br />.<br />.<br />.<br />.\n",
    "\n",
    "\n",
    "### What have we learnt from experimenting with the environment?\n",
    "\n",
    "* User's state (if any) is hidden to agent (not part of observation).\n",
    "* Episodes seem to last at least n timesteps -> user seems to have some time budget to spend.\n",
    "* User always seems to click, no matter what we recommend.\n",
    "* Reward seems to be always identical to the \"engagement\" value (of the clicked item). These values range somewhere between 0.0 and 20.0+.\n",
    "* Weak suspicion: If we always recommend the item with the highest feature value, rewards seem to taper off over time - in most of the episodes.\n",
    "* Weak suspicion: If we always recommend the item with the lowest feature value, rewards seem to increase over time."
   ]
  },
  {
   "cell_type": "markdown",
   "id": "8a05210c-69ea-4c09-acf8-831fffca5f8c",
   "metadata": {},
   "source": [
    "### What the environment actually does under the hood\n",
    "\n",
    "Let's take a quick look at a pre-configured RecSim environment: \"Long Term Satisfaction\".\n",
    "\n",
    "<img src=\"images/long_term_satisfaction_env.png\" width=1200>"
   ]
  },
  {
   "cell_type": "markdown",
   "id": "5958ff84-f7d0-45c9-aa43-b807243b8452",
   "metadata": {},
   "source": [
    "Now that we know, that there is a double objective built into the env (a. sweetness -> engagement; b. sweetness -> unhappyness; unhappyness -> low engagement), let's make this effect a tiny bit stronger by slightly modifying the environment. As said above, the effect is very weak and almost not measurable, which is a problem on the env's side. We can use this following `gym.ObservationWrapper` class in the cell below to \"fix\" that problem:"
   ]
  },
  {
   "cell_type": "code",
   "execution_count": 5,
   "id": "375a469e-aa46-4038-9df7-02cabccdad50",
   "metadata": {},
   "outputs": [
    {
     "name": "stdout",
     "output_type": "stream",
     "text": [
      "ok; registered the string 'modified_lts' to be used in RLlib configs (see below)\n"
     ]
    }
   ],
   "source": [
    "# Modifying wrapper around the LTS (Long Term Satisfaction) env:\n",
    "# - allows us to tweak the user model (and thus: reward behavior)\n",
    "# - adds user's current satisfaction value to observation\n",
    "\n",
    "class LTSWithStrongerDissatisfactionEffect(gym.ObservationWrapper):\n",
    "\n",
    "    def __init__(self, env):\n",
    "        # Tweak incoming environment.\n",
    "        env.environment._user_model._user_sampler._state_parameters.update({\n",
    "            \"sensitivity\": 0.058,\n",
    "            \"time_budget\": 120,\n",
    "            \"choc_stddev\": 0.1,\n",
    "            \"kale_stddev\": 0.1,\n",
    "            #\"innovation_stddev\": 0.01,\n",
    "            #\"choc_mean\": 1.25,\n",
    "            #\"kale_mean\": 1.0,\n",
    "            #\"memory_discount\": 0.9,\n",
    "        })\n",
    "\n",
    "        super().__init__(env)\n",
    "\n",
    "        # Adjust observation space.\n",
    "        if \"response\" in self.observation_space.spaces:\n",
    "            self.observation_space.spaces[\"user\"] = gym.spaces.Box(0.0, 1.0, (1, ), dtype=np.float32)\n",
    "            for r in self.observation_space[\"response\"]:\n",
    "                if \"engagement\" in r.spaces:\n",
    "                    r.spaces[\"watch_time\"] = r.spaces[\"engagement\"]\n",
    "                    del r.spaces[\"engagement\"]\n",
    "                    break\n",
    "\n",
    "    def observation(self, observation):\n",
    "        if \"response\" in self.observation_space.spaces:\n",
    "            observation[\"user\"] = np.array([self.env.environment._user_model._user_state.satisfaction])\n",
    "            for r in observation[\"response\"]:\n",
    "                if \"engagement\" in r:\n",
    "                    r[\"watch_time\"] = r[\"engagement\"]\n",
    "                    del r[\"engagement\"]\n",
    "        return observation\n",
    "\n",
    "\n",
    "# Add the wrapping around \n",
    "tune.register_env(\"modified_lts\", lambda env_config: LTSWithStrongerDissatisfactionEffect(LongTermSatisfactionRecSimEnv(env_config)))\n",
    "\n",
    "print(\"ok; registered the string 'modified_lts' to be used in RLlib configs (see below)\")"
   ]
  },
  {
   "cell_type": "markdown",
   "id": "dbce752b-68a3-4a84-aada-97810039e4e8",
   "metadata": {},
   "source": [
    "Now that we have a stronger effect of the user's satisfaction value on the long-term rewards, we may be able to measure this effect reliably\n",
    "using the following utility code:"
   ]
  },
  {
   "cell_type": "code",
   "execution_count": 6,
   "id": "3b1f1ab8-6b08-47c7-9dfa-3fe9bd672c14",
   "metadata": {},
   "outputs": [
    {
     "name": "stdout",
     "output_type": "stream",
     "text": [
      "0.0005778935923778612\n"
     ]
    }
   ],
   "source": [
    "# This cell should help you with your own analysis of the two above \"suspicions\":\n",
    "# Always chosing the highest/lowest-valued action will lead to a decrease/increase in rewards over the course of an episode.\n",
    "modified_lts_10_1_env = LTSWithStrongerDissatisfactionEffect(lts_10_1_env)\n",
    "\n",
    "# Capture slopes of all trendlines over all episodes.\n",
    "slopes = []\n",
    "# Run 1000 episodes.\n",
    "for _ in range(1000):\n",
    "    obs = modified_lts_10_1_env.reset()  # Reset environment to get initial observation:\n",
    "\n",
    "    # Compute actions that pick doc with highest/lowest feature value.\n",
    "    action_sweetest = np.argmax([value for _, value in obs[\"doc\"].items()])\n",
    "    action_kaleiest = np.argmin([value for _, value in obs[\"doc\"].items()])\n",
    "\n",
    "    # Play one episode.\n",
    "    done = False\n",
    "    rewards = []\n",
    "    while not done:\n",
    "        #action = action_sweetest\n",
    "        action = action_kaleiest\n",
    "        #action = np.random.choice([action_kaleiest, action_sweetest])\n",
    "\n",
    "        obs, reward, done, _ = modified_lts_10_1_env.step(action)\n",
    "        rewards.append(reward)\n",
    "\n",
    "    # Create linear model of rewards over time.\n",
    "    reward_linreg = linregress(np.array((range(len(rewards)))), np.array(rewards))\n",
    "    slopes.append(reward_linreg.slope)\n",
    "\n",
    "print(np.mean(slopes))"
   ]
  },
  {
   "cell_type": "markdown",
   "id": "be848212-87b8-4eb1-9353-74e09ae72310",
   "metadata": {},
   "source": [
    "## Measuring random baseline of our environment\n",
    "\n",
    "In the cells above, we created a new environment instance (`lts_10_1_env`). As we have seen above, in order to start \"walking\" through a recommender system episode, we need to perform `reset()` and then several `step()` calls (with different actions) until the returned `done` flag is True.\n",
    "\n",
    "Let's find out how well a randomly acting agent performs in this environment:"
   ]
  },
  {
   "cell_type": "code",
   "execution_count": 7,
   "id": "spatial-geography",
   "metadata": {},
   "outputs": [],
   "source": [
    "# Function that measures and outputs the random baseline reward.\n",
    "# This is the expected accumulated reward per episode, if we act randomly (recommend random items) at each time step.\n",
    "def measure_random_performance_for_env(env, episodes=1000, verbose=False):\n",
    "\n",
    "    # Reset the env.\n",
    "    env.reset()\n",
    "\n",
    "    # Number of episodes already done.\n",
    "    num_episodes = 0\n",
    "    # Current episode's accumulated reward.\n",
    "    episode_reward = 0.0\n",
    "    # Collect all episode rewards here to be able to calculate a random baseline reward.\n",
    "    episode_rewards = []\n",
    "\n",
    "    # Enter while loop (to step through the episode).\n",
    "    while num_episodes < episodes:\n",
    "        # Produce a random action.\n",
    "        action = env.action_space.sample()\n",
    "\n",
    "        # Send the action to the env's `step()` method to receive: obs, reward, done, and info.\n",
    "        obs, reward, done, _ = env.step(action)\n",
    "        episode_reward += reward\n",
    "\n",
    "        # Check, whether the episde is done, if yes, reset and increase episode counter.\n",
    "        if done:\n",
    "            if verbose:\n",
    "                print(f\"Episode done - accumulated reward={episode_reward}\")\n",
    "            elif num_episodes % 100 == 0:\n",
    "                print(f\" {num_episodes} \", end=\"\")\n",
    "            elif num_episodes % 10 == 0:\n",
    "                print(\".\", end=\"\")\n",
    "            num_episodes += 1\n",
    "            env.reset()\n",
    "            episode_rewards.append(episode_reward)\n",
    "            episode_reward = 0.0\n",
    "\n",
    "    # Print out and return mean episode reward (and standard error of the mean).\n",
    "    env_mean_random_reward = np.mean(episode_rewards)\n",
    "\n",
    "    print(f\"\\n\\nMean episode reward when acting randomly: {env_mean_random_reward:.2f}+/-{sem(episode_rewards):.2f}\")\n",
    "\n",
    "    return env_mean_random_reward, sem(episode_rewards)\n"
   ]
  },
  {
   "cell_type": "code",
   "execution_count": 8,
   "id": "0e6e63e6-d030-4a45-af5b-ab88eaef3969",
   "metadata": {},
   "outputs": [
    {
     "name": "stdout",
     "output_type": "stream",
     "text": [
      " 0 ......... 100 ......... 200 ......... 300 ......... 400 ......... 500 ......... 600 ......... 700 ......... 800 ......... 900 .........\n",
      "\n",
      "Mean episode reward when acting randomly: 1157.89+/-0.36\n"
     ]
    }
   ],
   "source": [
    "# Let's create a somewhat tougher version of this with 20 candidates (instead of 10) and a slate-size of 2.\n",
    "# We'll also keep using our wrapper from above to strengthen the dissatisfaction effect on the engagement:\n",
    "lts_20_2_env = LTSWithStrongerDissatisfactionEffect(LongTermSatisfactionRecSimEnv(config={\n",
    "    \"num_candidates\": 20,\n",
    "    \"slate_size\": 2,  # MultiDiscrete([20, 20]) -> Discrete(400)\n",
    "    \"resample_documents\": True,\n",
    "    # Convert to Discrete action space.\n",
    "    \"convert_to_discrete_action_space\": True,\n",
    "    # Wrap observations for RLlib bandit: Only changes dict keys (\"item\" instead of \"doc\").\n",
    "    \"wrap_for_bandits\": True,\n",
    "}))\n",
    "\n",
    "lts_20_2_env_mean_random_reward, _ = measure_random_performance_for_env(lts_20_2_env, episodes=1000)"
   ]
  },
  {
   "cell_type": "markdown",
   "id": "5b20ac75-f3e6-4975-a209-2bf110b4ee13",
   "metadata": {},
   "source": [
    "# Plugging in RLlib\n",
    "<a id='rllib'></a>"
   ]
  },
  {
   "cell_type": "markdown",
   "id": "8a76f02f-ef66-484d-8a1a-074a6e25c84a",
   "metadata": {},
   "source": [
    "## Picking an RLlib algorithm (\"Trainer\")"
   ]
  },
  {
   "cell_type": "markdown",
   "id": "65aa24b2-ac17-44a3-b7b1-274ce2f50a87",
   "metadata": {},
   "source": [
    "https://docs.ray.io/en/master/rllib-algorithms.html#available-algorithms-overview"
   ]
  },
  {
   "cell_type": "markdown",
   "id": "0194b33a-e031-49ce-9ff2-b32e328f9955",
   "metadata": {},
   "source": [
    "<img src=\"images/rllib_algorithms_bandits.png\">"
   ]
  },
  {
   "cell_type": "markdown",
   "id": "62b1b0b3-ec96-41c0-9d5b-93db1c5ce021",
   "metadata": {},
   "source": [
    "### Trying a \"Contextual n-armed Bandit\" on our environment"
   ]
  },
  {
   "cell_type": "code",
   "execution_count": 9,
   "id": "4a26e094-9887-4fc6-88b6-d1448e931526",
   "metadata": {},
   "outputs": [],
   "source": [
    "# In order to use one of the above algorithms, you may instantiate its associated Trainer class.\n",
    "# For example, to import a Bandit Trainer w/ Upper Confidence Bound (UCB) exploration, do:\n",
    "\n",
    "from ray.rllib.agents.bandit import BanditLinUCBTrainer"
   ]
  },
  {
   "cell_type": "code",
   "execution_count": 10,
   "id": "0911f212-523e-4a75-846d-342dd2a681a6",
   "metadata": {},
   "outputs": [
    {
     "name": "stdout",
     "output_type": "stream",
     "text": [
      "Bandit's default config is:\n",
      "{'_disable_action_flattening': False,\n",
      " '_disable_execution_plan_api': False,\n",
      " '_disable_preprocessor_api': False,\n",
      " '_fake_gpus': False,\n",
      " '_tf_policy_handles_more_than_one_loss': False,\n",
      " 'action_space': None,\n",
      " 'actions_in_input_normalized': False,\n",
      " 'always_attach_evaluation_results': False,\n",
      " 'batch_mode': 'truncate_episodes',\n",
      " 'callbacks': <class 'ray.rllib.agents.callbacks.DefaultCallbacks'>,\n",
      " 'clip_actions': False,\n",
      " 'clip_rewards': None,\n",
      " 'collect_metrics_timeout': -1,\n",
      " 'compress_observations': False,\n",
      " 'create_env_on_driver': False,\n",
      " 'custom_eval_function': None,\n",
      " 'custom_resources_per_worker': {},\n",
      " 'disable_env_checking': False,\n",
      " 'eager_max_retraces': 20,\n",
      " 'eager_tracing': False,\n",
      " 'env': None,\n",
      " 'env_config': {},\n",
      " 'env_task_fn': None,\n",
      " 'evaluation_config': {},\n",
      " 'evaluation_duration': 10,\n",
      " 'evaluation_duration_unit': 'episodes',\n",
      " 'evaluation_interval': None,\n",
      " 'evaluation_num_episodes': -1,\n",
      " 'evaluation_num_workers': 0,\n",
      " 'evaluation_parallel_to_training': False,\n",
      " 'exploration_config': {'type': 'StochasticSampling'},\n",
      " 'explore': True,\n",
      " 'extra_python_environs_for_driver': {},\n",
      " 'extra_python_environs_for_worker': {},\n",
      " 'fake_sampler': False,\n",
      " 'framework': 'torch',\n",
      " 'gamma': 0.99,\n",
      " 'horizon': None,\n",
      " 'ignore_worker_failures': False,\n",
      " 'in_evaluation': False,\n",
      " 'input': 'sampler',\n",
      " 'input_config': {},\n",
      " 'input_evaluation': ['is', 'wis'],\n",
      " 'keep_per_episode_custom_metrics': False,\n",
      " 'local_tf_session_args': {'inter_op_parallelism_threads': 8,\n",
      "                           'intra_op_parallelism_threads': 8},\n",
      " 'log_level': 'WARN',\n",
      " 'log_sys_usage': True,\n",
      " 'logger_config': None,\n",
      " 'lr': 0.0001,\n",
      " 'metrics_episode_collection_timeout_s': 180,\n",
      " 'metrics_num_episodes_for_smoothing': 100,\n",
      " 'metrics_smoothing_episodes': -1,\n",
      " 'min_iter_time_s': -1,\n",
      " 'min_sample_timesteps_per_reporting': None,\n",
      " 'min_time_s_per_reporting': None,\n",
      " 'min_train_timesteps_per_reporting': None,\n",
      " 'model': {'_disable_action_flattening': False,\n",
      "           '_disable_preprocessor_api': False,\n",
      "           '_time_major': False,\n",
      "           '_use_default_native_models': False,\n",
      "           'attention_dim': 64,\n",
      "           'attention_head_dim': 32,\n",
      "           'attention_init_gru_gate_bias': 2.0,\n",
      "           'attention_memory_inference': 50,\n",
      "           'attention_memory_training': 50,\n",
      "           'attention_num_heads': 1,\n",
      "           'attention_num_transformer_units': 1,\n",
      "           'attention_position_wise_mlp_dim': 32,\n",
      "           'attention_use_n_prev_actions': 0,\n",
      "           'attention_use_n_prev_rewards': 0,\n",
      "           'conv_activation': 'relu',\n",
      "           'conv_filters': None,\n",
      "           'custom_action_dist': None,\n",
      "           'custom_model': None,\n",
      "           'custom_model_config': {},\n",
      "           'custom_preprocessor': None,\n",
      "           'dim': 84,\n",
      "           'fcnet_activation': 'tanh',\n",
      "           'fcnet_hiddens': [256, 256],\n",
      "           'framestack': True,\n",
      "           'free_log_std': False,\n",
      "           'grayscale': False,\n",
      "           'lstm_cell_size': 256,\n",
      "           'lstm_use_prev_action': False,\n",
      "           'lstm_use_prev_action_reward': -1,\n",
      "           'lstm_use_prev_reward': False,\n",
      "           'max_seq_len': 20,\n",
      "           'no_final_linear': False,\n",
      "           'post_fcnet_activation': 'relu',\n",
      "           'post_fcnet_hiddens': [],\n",
      "           'use_attention': False,\n",
      "           'use_lstm': False,\n",
      "           'vf_share_layers': True,\n",
      "           'zero_mean': True},\n",
      " 'monitor': -1,\n",
      " 'multiagent': {'count_steps_by': 'env_steps',\n",
      "                'observation_fn': None,\n",
      "                'policies': {},\n",
      "                'policies_to_train': None,\n",
      "                'policy_map_cache': None,\n",
      "                'policy_map_capacity': 100,\n",
      "                'policy_mapping_fn': None,\n",
      "                'replay_mode': 'independent'},\n",
      " 'no_done_at_end': False,\n",
      " 'normalize_actions': True,\n",
      " 'num_cpus_for_driver': 1,\n",
      " 'num_cpus_per_worker': 1,\n",
      " 'num_envs_per_worker': 1,\n",
      " 'num_gpus': 0,\n",
      " 'num_gpus_per_worker': 0,\n",
      " 'num_workers': 0,\n",
      " 'observation_filter': 'NoFilter',\n",
      " 'observation_space': None,\n",
      " 'optimizer': {},\n",
      " 'output': None,\n",
      " 'output_compress_columns': ['obs', 'new_obs'],\n",
      " 'output_config': {},\n",
      " 'output_max_file_size': 67108864,\n",
      " 'placement_strategy': 'PACK',\n",
      " 'postprocess_inputs': False,\n",
      " 'preprocessor_pref': 'deepmind',\n",
      " 'record_env': False,\n",
      " 'remote_env_batch_wait_ms': 0,\n",
      " 'remote_worker_envs': False,\n",
      " 'render_env': False,\n",
      " 'rollout_fragment_length': 1,\n",
      " 'sample_async': False,\n",
      " 'sample_collector': <class 'ray.rllib.evaluation.collectors.simple_list_collector.SimpleListCollector'>,\n",
      " 'seed': None,\n",
      " 'shuffle_buffer_size': 0,\n",
      " 'simple_optimizer': -1,\n",
      " 'soft_horizon': False,\n",
      " 'synchronize_filters': True,\n",
      " 'tf_session_args': {'allow_soft_placement': True,\n",
      "                     'device_count': {'CPU': 1},\n",
      "                     'gpu_options': {'allow_growth': True},\n",
      "                     'inter_op_parallelism_threads': 2,\n",
      "                     'intra_op_parallelism_threads': 2,\n",
      "                     'log_device_placement': False},\n",
      " 'timesteps_per_iteration': 100,\n",
      " 'train_batch_size': 1}\n"
     ]
    }
   ],
   "source": [
    "# Configuration dicts for RLlib Trainers.\n",
    "# Where are the default configuration dicts stored?\n",
    "\n",
    "# E.g. Bandit algorithms:\n",
    "from ray.rllib.agents.bandit.bandit import DEFAULT_CONFIG as BANDIT_DEFAULT_CONFIG\n",
    "print(f\"Bandit's default config is:\")\n",
    "pprint(BANDIT_DEFAULT_CONFIG)\n",
    "\n",
    "# DQN algorithm:\n",
    "#from ray.rllib.agents.dqn import DEFAULT_CONFIG as DQN_DEFAULT_CONFIG\n",
    "#print(f\"DQN's default config is:\")\n",
    "#pprint(DQN_DEFAULT_CONFIG)\n",
    "\n",
    "# Common (all algorithms).\n",
    "#from ray.rllib.agents.trainer import COMMON_CONFIG\n",
    "#print(f\"RLlib Trainer's default config is:\")\n",
    "#pprint(COMMON_CONFIG)"
   ]
  },
  {
   "cell_type": "code",
   "execution_count": 11,
   "id": "c9bd9775-f2bb-41d9-8ff6-20be9abd68db",
   "metadata": {},
   "outputs": [
    {
     "name": "stderr",
     "output_type": "stream",
     "text": [
      "2022-05-30 01:02:05,534\tWARNING rollout_worker.py:498 -- We've added a module for checking environments that are used in experiments. It will cause your environment to fail if your environment is not set upcorrectly. You can disable check env by setting `disable_env_checking` to True in your experiment config dictionary. You can run the environment checking module standalone by calling ray.rllib.utils.check_env(env).\n",
      "2022-05-30 01:02:05,535\tWARNING env.py:120 -- Your env doesn't have a .spec.max_episode_steps attribute. This is fine if you have set 'horizon' in your config dictionary, or `soft_horizon`. However, if you haven't, 'horizon' will default to infinity, and your environment will not be reset.\n",
      "WARNING:ray.tune.utils.util:Install gputil for GPU system monitoring.\n"
     ]
    },
    {
     "data": {
      "text/plain": [
       "BanditLinUCBTrainer"
      ]
     },
     "execution_count": 11,
     "metadata": {},
     "output_type": "execute_result"
    }
   ],
   "source": [
    "bandit_config = {\n",
    "    \"env\": \"modified_lts\",\n",
    "    \"env_config\": {\n",
    "        \"num_candidates\": 20,  # 20x19 = ~400 unique slates (arms)\n",
    "        \"slate_size\": 2,\n",
    "        \"resample_documents\": True,\n",
    "\n",
    "        # Bandit-specific flags:\n",
    "        \"convert_to_discrete_action_space\": True,\n",
    "        # Convert \"doc\" key into \"item\" key.\n",
    "        \"wrap_for_bandits\": True,\n",
    "        # Use consistent seeds for the environment ...\n",
    "        \"seed\": 0,\n",
    "    },\n",
    "    # ... and the Trainer itself.\n",
    "    \"seed\": 0,\n",
    "\n",
    "    # The following settings are affecting the reporting only:\n",
    "    # ---\n",
    "    # Generate a result dict every single time step.\n",
    "    \"timesteps_per_iteration\": 1,\n",
    "    # Report rewards as smoothed mean over this many episodes.\n",
    "    \"metrics_num_episodes_for_smoothing\": 200,\n",
    "}\n",
    "\n",
    "# Create the RLlib Trainer using above config.\n",
    "bandit_trainer = BanditLinUCBTrainer(config=bandit_config)\n",
    "bandit_trainer"
   ]
  },
  {
   "cell_type": "markdown",
   "id": "46a22cc0-0efb-40be-85fe-720e62a7a419",
   "metadata": {},
   "source": [
    "#### Running a single training iteration, by calling the `.train()` method:\n",
    "\n",
    "One iteration for most algos involves:\n",
    "\n",
    "1. Sampling from the environment(s)\n",
    "1. Using the sampled data (observations, actions taken, rewards) to update the policy model (e.g. a neural network), such that it would pick better actions in the future, leading to higher rewards.\n",
    "\n",
    "Let's try it out:"
   ]
  },
  {
   "cell_type": "code",
   "execution_count": 12,
   "id": "ddd18251-2a1a-4822-8744-ca6df4a14787",
   "metadata": {},
   "outputs": [
    {
     "name": "stderr",
     "output_type": "stream",
     "text": [
      "2022-05-30 01:02:05,642\tWARNING bandit_torch_policy.py:48 -- The env did not report `regret` values in its `info` return, ignoring.\n"
     ]
    },
    {
     "name": "stdout",
     "output_type": "stream",
     "text": [
      "{'agent_timesteps_total': 1,\n",
      " 'custom_metrics': {},\n",
      " 'date': '2022-05-30_01-02-05',\n",
      " 'done': False,\n",
      " 'episode_len_mean': nan,\n",
      " 'episode_media': {},\n",
      " 'episode_reward_max': nan,\n",
      " 'episode_reward_mean': nan,\n",
      " 'episode_reward_min': nan,\n",
      " 'episodes_this_iter': 0,\n",
      " 'episodes_total': 0,\n",
      " 'experiment_id': '610838db815349cf94ed5cd4832086db',\n",
      " 'hist_stats': {'episode_lengths': [], 'episode_reward': []},\n",
      " 'hostname': 'bruno-Dell-G15-5511-Mint',\n",
      " 'info': {'learner': {'default_policy': {'learner_stats': {'update_latency': 0.001922607421875}}},\n",
      "          'num_agent_steps_sampled': 1,\n",
      "          'num_agent_steps_trained': 1,\n",
      "          'num_steps_sampled': 1,\n",
      "          'num_steps_trained': 1,\n",
      "          'num_steps_trained_this_iter': 1},\n",
      " 'iterations_since_restore': 1,\n",
      " 'node_ip': '192.168.1.6',\n",
      " 'num_healthy_workers': 0,\n",
      " 'off_policy_estimator': {},\n",
      " 'perf': {'cpu_util_percent': 32.0, 'ram_util_percent': 81.0},\n",
      " 'pid': 21693,\n",
      " 'policy_reward_max': {},\n",
      " 'policy_reward_mean': {},\n",
      " 'policy_reward_min': {},\n",
      " 'sampler_perf': {},\n",
      " 'time_since_restore': 0.015468597412109375,\n",
      " 'time_this_iter_s': 0.015468597412109375,\n",
      " 'time_total_s': 0.015468597412109375,\n",
      " 'timers': {'learn_throughput': 379.06,\n",
      "            'learn_time_ms': 2.638,\n",
      "            'load_throughput': 4228.129,\n",
      "            'load_time_ms': 0.237,\n",
      "            'sample_throughput': 16.293,\n",
      "            'sample_time_ms': 61.376},\n",
      " 'timestamp': 1653883325,\n",
      " 'timesteps_since_restore': 1,\n",
      " 'timesteps_this_iter': 1,\n",
      " 'timesteps_total': 1,\n",
      " 'training_iteration': 1,\n",
      " 'trial_id': 'default',\n",
      " 'warmup_time': 0.10677456855773926}\n"
     ]
    }
   ],
   "source": [
    "# Perform single `.train()` call.\n",
    "result = bandit_trainer.train()\n",
    "# Erase config dict from result (for better overview).\n",
    "del result[\"config\"]\n",
    "# Print out training iteration results.\n",
    "pprint(result)"
   ]
  },
  {
   "cell_type": "code",
   "execution_count": 13,
   "id": "6d6f089b-e0cc-47de-af9b-dc05a71e102f",
   "metadata": {},
   "outputs": [
    {
     "name": "stdout",
     "output_type": "stream",
     "text": [
      " 0 .... 500 .... 1000 .... 1500 .... 2000 .... 2500 .... 3000 .... 3500 .... 4000 .... 4500 .... 5000 .... 5500 .... 6000 .... 6500 .... 7000 .... 7500 .... 8000 .... 8500 .... 9000 .... 9500 .... 10000 .... 10500 .... 11000 .... 11500 ...."
     ]
    },
    {
     "name": "stderr",
     "output_type": "stream",
     "text": [
      "/tmp/ipykernel_21693/1398439977.py:20: RuntimeWarning: Mean of empty slice\n",
      "  y = [np.nanmean(rewards[max(i - smoothing_win, 0):i + 1]) for i in range(start_at, len(rewards))]\n"
     ]
    },
    {
     "data": {
      "image/png": "[encoded data removed]",
      "text/plain": [
       "<Figure size 720x504 with 1 Axes>"
      ]
     },
     "metadata": {
      "needs_background": "light"
     },
     "output_type": "display_data"
    }
   ],
   "source": [
    "# Train for n more iterations (timesteps) and collect n-arm rewards.\n",
    "rewards = []\n",
    "for i in range(12000):\n",
    "    # Run a single timestep in the environment and update\n",
    "    # the model immediately on the received reward.\n",
    "    result = bandit_trainer.train()\n",
    "    # Extract reward from results.\n",
    "    #rewards.extend(result[\"hist_stats\"][\"episode_reward\"]\n",
    "    rewards.append(result[\"episode_reward_mean\"])\n",
    "    if i % 500 == 0:\n",
    "        print(f\" {i} \", end=\"\")\n",
    "    elif i % 100 == 0:\n",
    "        print(\".\", end=\"\")\n",
    "\n",
    "# Plot per-timestep (episode) rewards.\n",
    "plt.figure(figsize=(10,7))\n",
    "start_at = 0\n",
    "smoothing_win = 200\n",
    "x = list(range(start_at, len(rewards)))\n",
    "y = [np.nanmean(rewards[max(i - smoothing_win, 0):i + 1]) for i in range(start_at, len(rewards))]\n",
    "plt.plot(x, y)\n",
    "plt.title(\"Mean reward\")\n",
    "plt.xlabel(\"Time/Training steps\")\n",
    "\n",
    "# Add mean random baseline reward (red line).\n",
    "plt.axhline(y=lts_20_2_env_mean_random_reward, color=\"r\", linestyle=\"-\")\n",
    "\n",
    "plt.show()"
   ]
  },
  {
   "cell_type": "markdown",
   "id": "8b77c3cf-226c-4cab-82c6-7d8a54bfe9ea",
   "metadata": {},
   "source": [
    "<a id='bandit_results'></a>\n",
    "### What does our trained Bandit actually recommend?\n",
    "\n",
    "The first method of the RLlib Trainer API we used above was `train()`.\n",
    "We'll now use another method of the Trainer, `compute_single_action(input_dict={})`.\n",
    "It takes a input_dict keyword arg, into which you may pass a single (unbatched!) observation to receive an action for:"
   ]
  },
  {
   "cell_type": "code",
   "execution_count": 14,
   "id": "6eb62acb-0a16-4412-949a-4851201620bf",
   "metadata": {},
   "outputs": [
    {
     "name": "stdout",
     "output_type": "stream",
     "text": [
      "action's feature value=0.8916457295417786; max-choc-feature=0.8916457295417786; \n",
      "action's feature value=0.9777311682701111; max-choc-feature=0.9777311682701111; \n",
      "action's feature value=0.9989755749702454; max-choc-feature=0.9989755749702454; \n",
      "action's feature value=0.8999373912811279; max-choc-feature=0.8999373912811279; \n",
      "action's feature value=0.9658776521682739; max-choc-feature=0.9658776521682739; \n",
      "action's feature value=0.9644351601600647; max-choc-feature=0.9644351601600647; \n",
      "action's feature value=0.9434471726417542; max-choc-feature=0.9434471726417542; \n",
      "action's feature value=0.974498987197876; max-choc-feature=0.974498987197876; \n",
      "action's feature value=0.9987043142318726; max-choc-feature=0.9987043142318726; \n",
      "action's feature value=0.9603764414787292; max-choc-feature=0.9603764414787292; \n",
      "action's feature value=0.9986302256584167; max-choc-feature=0.9986302256584167; \n",
      "action's feature value=0.9272821545600891; max-choc-feature=0.9272821545600891; \n",
      "action's feature value=0.9550436735153198; max-choc-feature=0.9550436735153198; \n",
      "action's feature value=0.9447901844978333; max-choc-feature=0.9447901844978333; \n",
      "action's feature value=0.9695131778717041; max-choc-feature=0.9695131778717041; \n",
      "action's feature value=0.965463399887085; max-choc-feature=0.965463399887085; \n",
      "action's feature value=0.8990983963012695; max-choc-feature=0.8990983963012695; \n",
      "action's feature value=0.9040490984916687; max-choc-feature=0.9040490984916687; \n",
      "action's feature value=0.9543625116348267; max-choc-feature=0.9543625116348267; \n",
      "action's feature value=0.9245824813842773; max-choc-feature=0.9245824813842773; \n",
      "action's feature value=0.9099351763725281; max-choc-feature=0.9099351763725281; \n",
      "action's feature value=0.9679779410362244; max-choc-feature=0.9679779410362244; \n",
      "action's feature value=0.9706671833992004; max-choc-feature=0.9706671833992004; \n",
      "action's feature value=0.995324432849884; max-choc-feature=0.995324432849884; \n",
      "action's feature value=0.9396806955337524; max-choc-feature=0.9396806955337524; \n",
      "action's feature value=0.8787536025047302; max-choc-feature=0.8787536025047302; \n",
      "action's feature value=0.9149923920631409; max-choc-feature=0.9149923920631409; \n",
      "action's feature value=0.9406102895736694; max-choc-feature=0.9406102895736694; \n",
      "action's feature value=0.9478465914726257; max-choc-feature=0.9478465914726257; \n",
      "action's feature value=0.9911457300186157; max-choc-feature=0.9911457300186157; \n",
      "action's feature value=0.8890330791473389; max-choc-feature=0.8890330791473389; \n",
      "action's feature value=0.9480608701705933; max-choc-feature=0.9480608701705933; \n",
      "action's feature value=0.9916664958000183; max-choc-feature=0.9916664958000183; \n",
      "action's feature value=0.9847033619880676; max-choc-feature=0.9847033619880676; \n",
      "action's feature value=0.9915906190872192; max-choc-feature=0.9915906190872192; \n",
      "action's feature value=0.9487980008125305; max-choc-feature=0.9487980008125305; \n",
      "action's feature value=0.9980818629264832; max-choc-feature=0.9980818629264832; \n",
      "action's feature value=0.9360242486000061; max-choc-feature=0.9360242486000061; \n",
      "action's feature value=0.9260164499282837; max-choc-feature=0.9260164499282837; \n",
      "action's feature value=0.9987164735794067; max-choc-feature=0.9987164735794067; \n",
      "action's feature value=0.8080435991287231; max-choc-feature=0.8080435991287231; \n",
      "action's feature value=0.9191829562187195; max-choc-feature=0.9191829562187195; \n",
      "action's feature value=0.9863934516906738; max-choc-feature=0.9863934516906738; \n",
      "action's feature value=0.9714748859405518; max-choc-feature=0.9714748859405518; \n",
      "action's feature value=0.9963867664337158; max-choc-feature=0.9963867664337158; \n",
      "action's feature value=0.9447032809257507; max-choc-feature=0.9447032809257507; \n",
      "action's feature value=0.9920045733451843; max-choc-feature=0.9920045733451843; \n",
      "action's feature value=0.9945886731147766; max-choc-feature=0.9945886731147766; \n",
      "action's feature value=0.9901645183563232; max-choc-feature=0.9901645183563232; \n",
      "action's feature value=0.9611482620239258; max-choc-feature=0.9611482620239258; \n",
      "action's feature value=0.8877958059310913; max-choc-feature=0.8877958059310913; \n",
      "action's feature value=0.980872392654419; max-choc-feature=0.980872392654419; \n",
      "action's feature value=0.9676306247711182; max-choc-feature=0.9676306247711182; \n",
      "action's feature value=0.7901422381401062; max-choc-feature=0.7901422381401062; \n",
      "action's feature value=0.9796108603477478; max-choc-feature=0.9796108603477478; \n",
      "action's feature value=0.9665442705154419; max-choc-feature=0.9665442705154419; \n",
      "action's feature value=0.9356783032417297; max-choc-feature=0.9356783032417297; \n",
      "action's feature value=0.971942126750946; max-choc-feature=0.971942126750946; \n",
      "action's feature value=0.9433143734931946; max-choc-feature=0.9433143734931946; \n",
      "action's feature value=0.9321243166923523; max-choc-feature=0.9321243166923523; \n",
      "action's feature value=0.8538448810577393; max-choc-feature=0.8538448810577393; \n",
      "action's feature value=0.9785804152488708; max-choc-feature=0.9785804152488708; \n",
      "action's feature value=0.9912826418876648; max-choc-feature=0.9912826418876648; \n",
      "action's feature value=0.8888525366783142; max-choc-feature=0.8888525366783142; \n",
      "action's feature value=0.9974634051322937; max-choc-feature=0.9974634051322937; \n",
      "action's feature value=0.9976392984390259; max-choc-feature=0.9976392984390259; \n",
      "action's feature value=0.9779126048088074; max-choc-feature=0.9779126048088074; \n",
      "action's feature value=0.9817178249359131; max-choc-feature=0.9817178249359131; \n",
      "action's feature value=0.9769214987754822; max-choc-feature=0.9769214987754822; \n",
      "action's feature value=0.9773058891296387; max-choc-feature=0.9773058891296387; \n",
      "action's feature value=0.9939188361167908; max-choc-feature=0.9939188361167908; \n",
      "action's feature value=0.9815660715103149; max-choc-feature=0.9815660715103149; \n",
      "action's feature value=0.9989805817604065; max-choc-feature=0.9989805817604065; \n",
      "action's feature value=0.9938614368438721; max-choc-feature=0.9938614368438721; \n",
      "action's feature value=0.9548345804214478; max-choc-feature=0.9548345804214478; \n",
      "action's feature value=0.9095875024795532; max-choc-feature=0.9095875024795532; \n",
      "action's feature value=0.9673813581466675; max-choc-feature=0.9673813581466675; \n",
      "action's feature value=0.931671142578125; max-choc-feature=0.931671142578125; \n",
      "action's feature value=0.9167065024375916; max-choc-feature=0.9167065024375916; \n",
      "action's feature value=0.9021305441856384; max-choc-feature=0.9021305441856384; \n",
      "action's feature value=0.999610185623169; max-choc-feature=0.999610185623169; \n",
      "action's feature value=0.8620670437812805; max-choc-feature=0.8620670437812805; \n",
      "action's feature value=0.9598987698554993; max-choc-feature=0.9598987698554993; \n",
      "action's feature value=0.9733729362487793; max-choc-feature=0.9733729362487793; \n",
      "action's feature value=0.9917956590652466; max-choc-feature=0.9917956590652466; \n",
      "action's feature value=0.919234573841095; max-choc-feature=0.919234573841095; \n",
      "action's feature value=0.9918598532676697; max-choc-feature=0.9918598532676697; \n",
      "action's feature value=0.9960801005363464; max-choc-feature=0.9960801005363464; \n",
      "action's feature value=0.9754700064659119; max-choc-feature=0.9754700064659119; \n",
      "action's feature value=0.9660402536392212; max-choc-feature=0.9660402536392212; \n",
      "action's feature value=0.996029257774353; max-choc-feature=0.996029257774353; \n",
      "action's feature value=0.9930408000946045; max-choc-feature=0.9930408000946045; \n",
      "action's feature value=0.9743787050247192; max-choc-feature=0.9743787050247192; \n",
      "action's feature value=0.9861087203025818; max-choc-feature=0.9861087203025818; \n",
      "action's feature value=0.9269380569458008; max-choc-feature=0.9269380569458008; \n",
      "action's feature value=0.9651040434837341; max-choc-feature=0.9651040434837341; \n",
      "action's feature value=0.9919588565826416; max-choc-feature=0.9919588565826416; \n",
      "action's feature value=0.946600079536438; max-choc-feature=0.946600079536438; \n",
      "action's feature value=0.9954290986061096; max-choc-feature=0.9954290986061096; \n",
      "action's feature value=0.916007399559021; max-choc-feature=0.916007399559021; \n",
      "action's feature value=0.9317758679389954; max-choc-feature=0.9317758679389954; \n",
      "action's feature value=0.9713598489761353; max-choc-feature=0.9713598489761353; \n",
      "action's feature value=0.9755606651306152; max-choc-feature=0.9755606651306152; \n",
      "action's feature value=0.986943781375885; max-choc-feature=0.986943781375885; \n",
      "action's feature value=0.9602279663085938; max-choc-feature=0.9602279663085938; \n",
      "action's feature value=0.8469273447990417; max-choc-feature=0.8469273447990417; \n",
      "action's feature value=0.9099560379981995; max-choc-feature=0.9099560379981995; \n",
      "action's feature value=0.9875852465629578; max-choc-feature=0.9875852465629578; \n",
      "action's feature value=0.9507820010185242; max-choc-feature=0.9507820010185242; \n",
      "action's feature value=0.9826569557189941; max-choc-feature=0.9826569557189941; \n",
      "action's feature value=0.9213010668754578; max-choc-feature=0.9213010668754578; \n",
      "action's feature value=0.9418420791625977; max-choc-feature=0.9418420791625977; \n",
      "action's feature value=0.9259132742881775; max-choc-feature=0.9259132742881775; \n",
      "action's feature value=0.9294229745864868; max-choc-feature=0.9294229745864868; \n",
      "action's feature value=0.9663825035095215; max-choc-feature=0.9663825035095215; \n",
      "action's feature value=0.9695129990577698; max-choc-feature=0.9695129990577698; \n",
      "action's feature value=0.9583300948143005; max-choc-feature=0.9583300948143005; \n",
      "action's feature value=0.9953047037124634; max-choc-feature=0.9953047037124634; \n",
      "action's feature value=0.9923339486122131; max-choc-feature=0.9923339486122131; \n",
      "action's feature value=0.9950851202011108; max-choc-feature=0.9950851202011108; \n"
     ]
    }
   ],
   "source": [
    "# Let's see what items our bandit recommends now that it has been trained and achieves good (>> random) rewards.\n",
    "obs = lts_20_2_env.reset()\n",
    "\n",
    "# Run a single episode.\n",
    "done = False\n",
    "while not done:\n",
    "    # Pass the single (unbatched) observation into the `compute_single_action` method of our Trainer.\n",
    "    # This is one way to perform inference on a learned policy.\n",
    "    action = bandit_trainer.compute_single_action(input_dict={\"obs\": obs})\n",
    "    feat_value_of_action = obs[\"item\"][action][0]\n",
    "    max_choc_feat = obs['item'][np.argmax(obs[\"item\"])][0]\n",
    "\n",
    "    # Print out the picked document's feature value and compare that to the highest possible feature value.\n",
    "    print(f\"action's feature value={feat_value_of_action}; max-choc-feature={max_choc_feat}; \")\n",
    "\n",
    "    # Apply the computed action in the environment and continue.\n",
    "    obs, r, done, _ = lts_20_2_env.step(action)\n"
   ]
  },
  {
   "cell_type": "markdown",
   "id": "c9355c1b-f0f7-4690-a7fe-332b01a651c4",
   "metadata": {},
   "source": [
    "### Ok, Bandits want Chocolate! :)\n",
    "#### Why is that?\n",
    "\n",
    "<img src=\"images/contextual_bandit.png\" width=1000>"
   ]
  },
  {
   "cell_type": "markdown",
   "id": "84291b69-050f-489a-b822-239294bb3a2e",
   "metadata": {},
   "source": [
    "### Recap: Advantages and Disatvantages of Bandits:\n",
    "#### Advantages:\n",
    "* Very fast\n",
    "* Very sample-efficient\n",
    "* Easy to understand learning process\n",
    "\n",
    "#### Disadvantages\n",
    "* Need immediate reward (not capable of solving long-horizon credit assignment problem)\n",
    "* Models user -> If > 1 user, must train separate bandit per user\n",
    "* Not able to handle components of MultiDiscrete action space separately (works only on flattened Discrete action space)"
   ]
  },
  {
   "cell_type": "markdown",
   "id": "108a830b-cc5f-454c-b986-75c59d40df89",
   "metadata": {},
   "source": [
    "<a id='slateq'></a>\n",
    "### Switching to Slate-Q\n",
    "\n",
    "<img src=\"images/rllib_algorithms_slateq.png\" width=800>\n",
    "\n",
    "RLlib offers another algorithm - Slate-Q - designed for k-slate, long time horizon, and dynamic user recommendation problems. Let's take a quick look:\n",
    "\n",
    "<img src=\"images/slateq.png\" width=1000>"
   ]
  },
  {
   "cell_type": "code",
   "execution_count": 15,
   "id": "49c258f2-60db-4ed2-8c4f-8f83809d1d73",
   "metadata": {
    "tags": []
   },
   "outputs": [
    {
     "name": "stderr",
     "output_type": "stream",
     "text": [
      "2022-05-30 01:03:28,994\tWARNING rollout_worker.py:498 -- We've added a module for checking environments that are used in experiments. It will cause your environment to fail if your environment is not set upcorrectly. You can disable check env by setting `disable_env_checking` to True in your experiment config dictionary. You can run the environment checking module standalone by calling ray.rllib.utils.check_env(env).\n",
      "2022-05-30 01:03:28,995\tWARNING env.py:120 -- Your env doesn't have a .spec.max_episode_steps attribute. This is fine if you have set 'horizon' in your config dictionary, or `soft_horizon`. However, if you haven't, 'horizon' will default to infinity, and your environment will not be reset.\n"
     ]
    },
    {
     "name": "stdout",
     "output_type": "stream",
     "text": [
      "WARNING:tensorflow:From /home/bruno/anaconda3/envs/rllib_tutorial/lib/python3.9/site-packages/tensorflow/python/util/deprecation.py:629: calling map_fn_v2 (from tensorflow.python.ops.map_fn) with dtype is deprecated and will be removed in a future version.\n",
      "Instructions for updating:\n",
      "Use fn_output_signature instead\n"
     ]
    },
    {
     "name": "stderr",
     "output_type": "stream",
     "text": [
      "WARNING:tensorflow:From /home/bruno/anaconda3/envs/rllib_tutorial/lib/python3.9/site-packages/tensorflow/python/util/deprecation.py:629: calling map_fn_v2 (from tensorflow.python.ops.map_fn) with dtype is deprecated and will be removed in a future version.\n",
      "Instructions for updating:\n",
      "Use fn_output_signature instead\n"
     ]
    },
    {
     "ename": "TypeError",
     "evalue": "unsupported operand type(s) for +: 'int' and 'dict'",
     "output_type": "error",
     "traceback": [
      "\u001b[0;31m---------------------------------------------------------------------------\u001b[0m",
      "\u001b[0;31mNotImplementedError\u001b[0m                       Traceback (most recent call last)",
      "File \u001b[0;32m~/anaconda3/envs/rllib_tutorial/lib/python3.9/site-packages/ray/rllib/agents/trainer.py:896\u001b[0m, in \u001b[0;36mTrainer.setup\u001b[0;34m(self, config)\u001b[0m\n\u001b[1;32m    <a href='file:///home/bruno/anaconda3/envs/rllib_tutorial/lib/python3.9/site-packages/ray/rllib/agents/trainer.py?line=894'>895</a>\u001b[0m \u001b[39mtry\u001b[39;00m:\n\u001b[0;32m--> <a href='file:///home/bruno/anaconda3/envs/rllib_tutorial/lib/python3.9/site-packages/ray/rllib/agents/trainer.py?line=895'>896</a>\u001b[0m     \u001b[39mself\u001b[39;49m\u001b[39m.\u001b[39;49m_init(\u001b[39mself\u001b[39;49m\u001b[39m.\u001b[39;49mconfig, \u001b[39mself\u001b[39;49m\u001b[39m.\u001b[39;49menv_creator)\n\u001b[1;32m    <a href='file:///home/bruno/anaconda3/envs/rllib_tutorial/lib/python3.9/site-packages/ray/rllib/agents/trainer.py?line=896'>897</a>\u001b[0m \u001b[39m# New design: Override `Trainable.setup()` (as indented by Trainable)\u001b[39;00m\n\u001b[1;32m    <a href='file:///home/bruno/anaconda3/envs/rllib_tutorial/lib/python3.9/site-packages/ray/rllib/agents/trainer.py?line=897'>898</a>\u001b[0m \u001b[39m# and do or don't call super().setup() from within your override.\u001b[39;00m\n\u001b[1;32m    <a href='file:///home/bruno/anaconda3/envs/rllib_tutorial/lib/python3.9/site-packages/ray/rllib/agents/trainer.py?line=898'>899</a>\u001b[0m \u001b[39m# By default, `super().setup()` will create both worker sets:\u001b[39;00m\n\u001b[0;32m   (...)\u001b[0m\n\u001b[1;32m    <a href='file:///home/bruno/anaconda3/envs/rllib_tutorial/lib/python3.9/site-packages/ray/rllib/agents/trainer.py?line=901'>902</a>\u001b[0m \u001b[39m# parallel to training.\u001b[39;00m\n\u001b[1;32m    <a href='file:///home/bruno/anaconda3/envs/rllib_tutorial/lib/python3.9/site-packages/ray/rllib/agents/trainer.py?line=902'>903</a>\u001b[0m \u001b[39m# TODO: Deprecate `_init()` and remove this try/except block.\u001b[39;00m\n",
      "File \u001b[0;32m~/anaconda3/envs/rllib_tutorial/lib/python3.9/site-packages/ray/rllib/agents/trainer.py:1035\u001b[0m, in \u001b[0;36mTrainer._init\u001b[0;34m(self, config, env_creator)\u001b[0m\n\u001b[1;32m   <a href='file:///home/bruno/anaconda3/envs/rllib_tutorial/lib/python3.9/site-packages/ray/rllib/agents/trainer.py?line=1033'>1034</a>\u001b[0m \u001b[39mdef\u001b[39;00m \u001b[39m_init\u001b[39m(\u001b[39mself\u001b[39m, config: TrainerConfigDict, env_creator: EnvCreator) \u001b[39m-\u001b[39m\u001b[39m>\u001b[39m \u001b[39mNone\u001b[39;00m:\n\u001b[0;32m-> <a href='file:///home/bruno/anaconda3/envs/rllib_tutorial/lib/python3.9/site-packages/ray/rllib/agents/trainer.py?line=1034'>1035</a>\u001b[0m     \u001b[39mraise\u001b[39;00m \u001b[39mNotImplementedError\u001b[39;00m\n",
      "\u001b[0;31mNotImplementedError\u001b[0m: ",
      "\nDuring handling of the above exception, another exception occurred:\n",
      "\u001b[0;31mTypeError\u001b[0m                                 Traceback (most recent call last)",
      "\u001b[1;32m/home/bruno/Workspace/ray_anyscale_summit_rllib_tutorials/production_rl_2022/my_tutorial_notebook.ipynb Cell 36'\u001b[0m in \u001b[0;36m<cell line: 27>\u001b[0;34m()\u001b[0m\n\u001b[1;32m      <a href='vscode-notebook-cell:/home/bruno/Workspace/ray_anyscale_summit_rllib_tutorials/production_rl_2022/my_tutorial_notebook.ipynb#ch0000035?line=2'>3</a>\u001b[0m slateq_config \u001b[39m=\u001b[39m {\n\u001b[1;32m      <a href='vscode-notebook-cell:/home/bruno/Workspace/ray_anyscale_summit_rllib_tutorials/production_rl_2022/my_tutorial_notebook.ipynb#ch0000035?line=3'>4</a>\u001b[0m     \u001b[39m\"\u001b[39m\u001b[39menv\u001b[39m\u001b[39m\"\u001b[39m: \u001b[39m\"\u001b[39m\u001b[39mmodified_lts\u001b[39m\u001b[39m\"\u001b[39m,\n\u001b[1;32m      <a href='vscode-notebook-cell:/home/bruno/Workspace/ray_anyscale_summit_rllib_tutorials/production_rl_2022/my_tutorial_notebook.ipynb#ch0000035?line=4'>5</a>\u001b[0m     \u001b[39m\"\u001b[39m\u001b[39menv_config\u001b[39m\u001b[39m\"\u001b[39m: {\n\u001b[0;32m   (...)\u001b[0m\n\u001b[1;32m     <a href='vscode-notebook-cell:/home/bruno/Workspace/ray_anyscale_summit_rllib_tutorials/production_rl_2022/my_tutorial_notebook.ipynb#ch0000035?line=22'>23</a>\u001b[0m     \u001b[39m\"\u001b[39m\u001b[39mmetrics_num_episodes_for_smoothing\u001b[39m\u001b[39m\"\u001b[39m: \u001b[39m200\u001b[39m,\n\u001b[1;32m     <a href='vscode-notebook-cell:/home/bruno/Workspace/ray_anyscale_summit_rllib_tutorials/production_rl_2022/my_tutorial_notebook.ipynb#ch0000035?line=23'>24</a>\u001b[0m }\n\u001b[1;32m     <a href='vscode-notebook-cell:/home/bruno/Workspace/ray_anyscale_summit_rllib_tutorials/production_rl_2022/my_tutorial_notebook.ipynb#ch0000035?line=25'>26</a>\u001b[0m \u001b[39m# Instantiate the Trainer object using the exact same config as in our Bandit experiment above.\u001b[39;00m\n\u001b[0;32m---> <a href='vscode-notebook-cell:/home/bruno/Workspace/ray_anyscale_summit_rllib_tutorials/production_rl_2022/my_tutorial_notebook.ipynb#ch0000035?line=26'>27</a>\u001b[0m slateq_trainer \u001b[39m=\u001b[39m SlateQTrainer(config\u001b[39m=\u001b[39;49mslateq_config)\n\u001b[1;32m     <a href='vscode-notebook-cell:/home/bruno/Workspace/ray_anyscale_summit_rllib_tutorials/production_rl_2022/my_tutorial_notebook.ipynb#ch0000035?line=27'>28</a>\u001b[0m slateq_trainer\n",
      "File \u001b[0;32m~/anaconda3/envs/rllib_tutorial/lib/python3.9/site-packages/ray/rllib/agents/trainer.py:830\u001b[0m, in \u001b[0;36mTrainer.__init__\u001b[0;34m(self, config, env, logger_creator, remote_checkpoint_dir, sync_function_tpl)\u001b[0m\n\u001b[1;32m    <a href='file:///home/bruno/anaconda3/envs/rllib_tutorial/lib/python3.9/site-packages/ray/rllib/agents/trainer.py?line=817'>818</a>\u001b[0m \u001b[39m# Initialize common evaluation_metrics to nan, before they become\u001b[39;00m\n\u001b[1;32m    <a href='file:///home/bruno/anaconda3/envs/rllib_tutorial/lib/python3.9/site-packages/ray/rllib/agents/trainer.py?line=818'>819</a>\u001b[0m \u001b[39m# available. We want to make sure the metrics are always present\u001b[39;00m\n\u001b[1;32m    <a href='file:///home/bruno/anaconda3/envs/rllib_tutorial/lib/python3.9/site-packages/ray/rllib/agents/trainer.py?line=819'>820</a>\u001b[0m \u001b[39m# (although their values may be nan), so that Tune does not complain\u001b[39;00m\n\u001b[1;32m    <a href='file:///home/bruno/anaconda3/envs/rllib_tutorial/lib/python3.9/site-packages/ray/rllib/agents/trainer.py?line=820'>821</a>\u001b[0m \u001b[39m# when we use these as stopping criteria.\u001b[39;00m\n\u001b[1;32m    <a href='file:///home/bruno/anaconda3/envs/rllib_tutorial/lib/python3.9/site-packages/ray/rllib/agents/trainer.py?line=821'>822</a>\u001b[0m \u001b[39mself\u001b[39m\u001b[39m.\u001b[39mevaluation_metrics \u001b[39m=\u001b[39m {\n\u001b[1;32m    <a href='file:///home/bruno/anaconda3/envs/rllib_tutorial/lib/python3.9/site-packages/ray/rllib/agents/trainer.py?line=822'>823</a>\u001b[0m     \u001b[39m\"\u001b[39m\u001b[39mevaluation\u001b[39m\u001b[39m\"\u001b[39m: {\n\u001b[1;32m    <a href='file:///home/bruno/anaconda3/envs/rllib_tutorial/lib/python3.9/site-packages/ray/rllib/agents/trainer.py?line=823'>824</a>\u001b[0m         \u001b[39m\"\u001b[39m\u001b[39mepisode_reward_max\u001b[39m\u001b[39m\"\u001b[39m: np\u001b[39m.\u001b[39mnan,\n\u001b[0;32m   (...)\u001b[0m\n\u001b[1;32m    <a href='file:///home/bruno/anaconda3/envs/rllib_tutorial/lib/python3.9/site-packages/ray/rllib/agents/trainer.py?line=826'>827</a>\u001b[0m     }\n\u001b[1;32m    <a href='file:///home/bruno/anaconda3/envs/rllib_tutorial/lib/python3.9/site-packages/ray/rllib/agents/trainer.py?line=827'>828</a>\u001b[0m }\n\u001b[0;32m--> <a href='file:///home/bruno/anaconda3/envs/rllib_tutorial/lib/python3.9/site-packages/ray/rllib/agents/trainer.py?line=829'>830</a>\u001b[0m \u001b[39msuper\u001b[39;49m()\u001b[39m.\u001b[39;49m\u001b[39m__init__\u001b[39;49m(\n\u001b[1;32m    <a href='file:///home/bruno/anaconda3/envs/rllib_tutorial/lib/python3.9/site-packages/ray/rllib/agents/trainer.py?line=830'>831</a>\u001b[0m     config, logger_creator, remote_checkpoint_dir, sync_function_tpl\n\u001b[1;32m    <a href='file:///home/bruno/anaconda3/envs/rllib_tutorial/lib/python3.9/site-packages/ray/rllib/agents/trainer.py?line=831'>832</a>\u001b[0m )\n",
      "File \u001b[0;32m~/anaconda3/envs/rllib_tutorial/lib/python3.9/site-packages/ray/tune/trainable.py:149\u001b[0m, in \u001b[0;36mTrainable.__init__\u001b[0;34m(self, config, logger_creator, remote_checkpoint_dir, sync_function_tpl)\u001b[0m\n\u001b[1;32m    <a href='file:///home/bruno/anaconda3/envs/rllib_tutorial/lib/python3.9/site-packages/ray/tune/trainable.py?line=146'>147</a>\u001b[0m start_time \u001b[39m=\u001b[39m time\u001b[39m.\u001b[39mtime()\n\u001b[1;32m    <a href='file:///home/bruno/anaconda3/envs/rllib_tutorial/lib/python3.9/site-packages/ray/tune/trainable.py?line=147'>148</a>\u001b[0m \u001b[39mself\u001b[39m\u001b[39m.\u001b[39m_local_ip \u001b[39m=\u001b[39m \u001b[39mself\u001b[39m\u001b[39m.\u001b[39mget_current_ip()\n\u001b[0;32m--> <a href='file:///home/bruno/anaconda3/envs/rllib_tutorial/lib/python3.9/site-packages/ray/tune/trainable.py?line=148'>149</a>\u001b[0m \u001b[39mself\u001b[39;49m\u001b[39m.\u001b[39;49msetup(copy\u001b[39m.\u001b[39;49mdeepcopy(\u001b[39mself\u001b[39;49m\u001b[39m.\u001b[39;49mconfig))\n\u001b[1;32m    <a href='file:///home/bruno/anaconda3/envs/rllib_tutorial/lib/python3.9/site-packages/ray/tune/trainable.py?line=149'>150</a>\u001b[0m setup_time \u001b[39m=\u001b[39m time\u001b[39m.\u001b[39mtime() \u001b[39m-\u001b[39m start_time\n\u001b[1;32m    <a href='file:///home/bruno/anaconda3/envs/rllib_tutorial/lib/python3.9/site-packages/ray/tune/trainable.py?line=150'>151</a>\u001b[0m \u001b[39mif\u001b[39;00m setup_time \u001b[39m>\u001b[39m SETUP_TIME_THRESHOLD:\n",
      "File \u001b[0;32m~/anaconda3/envs/rllib_tutorial/lib/python3.9/site-packages/ray/rllib/agents/trainer.py:911\u001b[0m, in \u001b[0;36mTrainer.setup\u001b[0;34m(self, config)\u001b[0m\n\u001b[1;32m    <a href='file:///home/bruno/anaconda3/envs/rllib_tutorial/lib/python3.9/site-packages/ray/rllib/agents/trainer.py?line=896'>897</a>\u001b[0m \u001b[39m# New design: Override `Trainable.setup()` (as indented by Trainable)\u001b[39;00m\n\u001b[1;32m    <a href='file:///home/bruno/anaconda3/envs/rllib_tutorial/lib/python3.9/site-packages/ray/rllib/agents/trainer.py?line=897'>898</a>\u001b[0m \u001b[39m# and do or don't call super().setup() from within your override.\u001b[39;00m\n\u001b[1;32m    <a href='file:///home/bruno/anaconda3/envs/rllib_tutorial/lib/python3.9/site-packages/ray/rllib/agents/trainer.py?line=898'>899</a>\u001b[0m \u001b[39m# By default, `super().setup()` will create both worker sets:\u001b[39;00m\n\u001b[0;32m   (...)\u001b[0m\n\u001b[1;32m    <a href='file:///home/bruno/anaconda3/envs/rllib_tutorial/lib/python3.9/site-packages/ray/rllib/agents/trainer.py?line=901'>902</a>\u001b[0m \u001b[39m# parallel to training.\u001b[39;00m\n\u001b[1;32m    <a href='file:///home/bruno/anaconda3/envs/rllib_tutorial/lib/python3.9/site-packages/ray/rllib/agents/trainer.py?line=902'>903</a>\u001b[0m \u001b[39m# TODO: Deprecate `_init()` and remove this try/except block.\u001b[39;00m\n\u001b[1;32m    <a href='file:///home/bruno/anaconda3/envs/rllib_tutorial/lib/python3.9/site-packages/ray/rllib/agents/trainer.py?line=903'>904</a>\u001b[0m \u001b[39mexcept\u001b[39;00m \u001b[39mNotImplementedError\u001b[39;00m:\n\u001b[1;32m    <a href='file:///home/bruno/anaconda3/envs/rllib_tutorial/lib/python3.9/site-packages/ray/rllib/agents/trainer.py?line=904'>905</a>\u001b[0m     \u001b[39m# Only if user did not override `_init()`:\u001b[39;00m\n\u001b[1;32m    <a href='file:///home/bruno/anaconda3/envs/rllib_tutorial/lib/python3.9/site-packages/ray/rllib/agents/trainer.py?line=905'>906</a>\u001b[0m     \u001b[39m# - Create rollout workers here automatically.\u001b[39;00m\n\u001b[0;32m   (...)\u001b[0m\n\u001b[1;32m    <a href='file:///home/bruno/anaconda3/envs/rllib_tutorial/lib/python3.9/site-packages/ray/rllib/agents/trainer.py?line=908'>909</a>\u001b[0m     \u001b[39m# This matches the behavior of using `build_trainer()`, which\u001b[39;00m\n\u001b[1;32m    <a href='file:///home/bruno/anaconda3/envs/rllib_tutorial/lib/python3.9/site-packages/ray/rllib/agents/trainer.py?line=909'>910</a>\u001b[0m     \u001b[39m# should no longer be used.\u001b[39;00m\n\u001b[0;32m--> <a href='file:///home/bruno/anaconda3/envs/rllib_tutorial/lib/python3.9/site-packages/ray/rllib/agents/trainer.py?line=910'>911</a>\u001b[0m     \u001b[39mself\u001b[39m\u001b[39m.\u001b[39mworkers \u001b[39m=\u001b[39m WorkerSet(\n\u001b[1;32m    <a href='file:///home/bruno/anaconda3/envs/rllib_tutorial/lib/python3.9/site-packages/ray/rllib/agents/trainer.py?line=911'>912</a>\u001b[0m         env_creator\u001b[39m=\u001b[39;49m\u001b[39mself\u001b[39;49m\u001b[39m.\u001b[39;49menv_creator,\n\u001b[1;32m    <a href='file:///home/bruno/anaconda3/envs/rllib_tutorial/lib/python3.9/site-packages/ray/rllib/agents/trainer.py?line=912'>913</a>\u001b[0m         validate_env\u001b[39m=\u001b[39;49m\u001b[39mself\u001b[39;49m\u001b[39m.\u001b[39;49mvalidate_env,\n\u001b[1;32m    <a href='file:///home/bruno/anaconda3/envs/rllib_tutorial/lib/python3.9/site-packages/ray/rllib/agents/trainer.py?line=913'>914</a>\u001b[0m         policy_class\u001b[39m=\u001b[39;49m\u001b[39mself\u001b[39;49m\u001b[39m.\u001b[39;49mget_default_policy_class(\u001b[39mself\u001b[39;49m\u001b[39m.\u001b[39;49mconfig),\n\u001b[1;32m    <a href='file:///home/bruno/anaconda3/envs/rllib_tutorial/lib/python3.9/site-packages/ray/rllib/agents/trainer.py?line=914'>915</a>\u001b[0m         trainer_config\u001b[39m=\u001b[39;49m\u001b[39mself\u001b[39;49m\u001b[39m.\u001b[39;49mconfig,\n\u001b[1;32m    <a href='file:///home/bruno/anaconda3/envs/rllib_tutorial/lib/python3.9/site-packages/ray/rllib/agents/trainer.py?line=915'>916</a>\u001b[0m         num_workers\u001b[39m=\u001b[39;49m\u001b[39mself\u001b[39;49m\u001b[39m.\u001b[39;49mconfig[\u001b[39m\"\u001b[39;49m\u001b[39mnum_workers\u001b[39;49m\u001b[39m\"\u001b[39;49m],\n\u001b[1;32m    <a href='file:///home/bruno/anaconda3/envs/rllib_tutorial/lib/python3.9/site-packages/ray/rllib/agents/trainer.py?line=916'>917</a>\u001b[0m         local_worker\u001b[39m=\u001b[39;49m\u001b[39mTrue\u001b[39;49;00m,\n\u001b[1;32m    <a href='file:///home/bruno/anaconda3/envs/rllib_tutorial/lib/python3.9/site-packages/ray/rllib/agents/trainer.py?line=917'>918</a>\u001b[0m         logdir\u001b[39m=\u001b[39;49m\u001b[39mself\u001b[39;49m\u001b[39m.\u001b[39;49mlogdir,\n\u001b[1;32m    <a href='file:///home/bruno/anaconda3/envs/rllib_tutorial/lib/python3.9/site-packages/ray/rllib/agents/trainer.py?line=918'>919</a>\u001b[0m     )\n\u001b[1;32m    <a href='file:///home/bruno/anaconda3/envs/rllib_tutorial/lib/python3.9/site-packages/ray/rllib/agents/trainer.py?line=920'>921</a>\u001b[0m     \u001b[39m# Function defining one single training iteration's behavior.\u001b[39;00m\n\u001b[1;32m    <a href='file:///home/bruno/anaconda3/envs/rllib_tutorial/lib/python3.9/site-packages/ray/rllib/agents/trainer.py?line=921'>922</a>\u001b[0m     \u001b[39mif\u001b[39;00m \u001b[39mself\u001b[39m\u001b[39m.\u001b[39mconfig[\u001b[39m\"\u001b[39m\u001b[39m_disable_execution_plan_api\u001b[39m\u001b[39m\"\u001b[39m]:\n\u001b[1;32m    <a href='file:///home/bruno/anaconda3/envs/rllib_tutorial/lib/python3.9/site-packages/ray/rllib/agents/trainer.py?line=922'>923</a>\u001b[0m         \u001b[39m# TODO: Ensure remote workers are initially in sync with the\u001b[39;00m\n\u001b[1;32m    <a href='file:///home/bruno/anaconda3/envs/rllib_tutorial/lib/python3.9/site-packages/ray/rllib/agents/trainer.py?line=923'>924</a>\u001b[0m         \u001b[39m# local worker.\u001b[39;00m\n\u001b[1;32m    <a href='file:///home/bruno/anaconda3/envs/rllib_tutorial/lib/python3.9/site-packages/ray/rllib/agents/trainer.py?line=924'>925</a>\u001b[0m         \u001b[39m# self.workers.sync_weights()\u001b[39;00m\n",
      "File \u001b[0;32m~/anaconda3/envs/rllib_tutorial/lib/python3.9/site-packages/ray/rllib/evaluation/worker_set.py:162\u001b[0m, in \u001b[0;36mWorkerSet.__init__\u001b[0;34m(self, env_creator, validate_env, policy_class, trainer_config, num_workers, local_worker, logdir, _setup)\u001b[0m\n\u001b[1;32m    <a href='file:///home/bruno/anaconda3/envs/rllib_tutorial/lib/python3.9/site-packages/ray/rllib/evaluation/worker_set.py?line=158'>159</a>\u001b[0m     spaces \u001b[39m=\u001b[39m \u001b[39mNone\u001b[39;00m\n\u001b[1;32m    <a href='file:///home/bruno/anaconda3/envs/rllib_tutorial/lib/python3.9/site-packages/ray/rllib/evaluation/worker_set.py?line=160'>161</a>\u001b[0m \u001b[39mif\u001b[39;00m local_worker:\n\u001b[0;32m--> <a href='file:///home/bruno/anaconda3/envs/rllib_tutorial/lib/python3.9/site-packages/ray/rllib/evaluation/worker_set.py?line=161'>162</a>\u001b[0m     \u001b[39mself\u001b[39m\u001b[39m.\u001b[39m_local_worker \u001b[39m=\u001b[39m \u001b[39mself\u001b[39;49m\u001b[39m.\u001b[39;49m_make_worker(\n\u001b[1;32m    <a href='file:///home/bruno/anaconda3/envs/rllib_tutorial/lib/python3.9/site-packages/ray/rllib/evaluation/worker_set.py?line=162'>163</a>\u001b[0m         \u001b[39mcls\u001b[39;49m\u001b[39m=\u001b[39;49mRolloutWorker,\n\u001b[1;32m    <a href='file:///home/bruno/anaconda3/envs/rllib_tutorial/lib/python3.9/site-packages/ray/rllib/evaluation/worker_set.py?line=163'>164</a>\u001b[0m         env_creator\u001b[39m=\u001b[39;49menv_creator,\n\u001b[1;32m    <a href='file:///home/bruno/anaconda3/envs/rllib_tutorial/lib/python3.9/site-packages/ray/rllib/evaluation/worker_set.py?line=164'>165</a>\u001b[0m         validate_env\u001b[39m=\u001b[39;49mvalidate_env,\n\u001b[1;32m    <a href='file:///home/bruno/anaconda3/envs/rllib_tutorial/lib/python3.9/site-packages/ray/rllib/evaluation/worker_set.py?line=165'>166</a>\u001b[0m         policy_cls\u001b[39m=\u001b[39;49m\u001b[39mself\u001b[39;49m\u001b[39m.\u001b[39;49m_policy_class,\n\u001b[1;32m    <a href='file:///home/bruno/anaconda3/envs/rllib_tutorial/lib/python3.9/site-packages/ray/rllib/evaluation/worker_set.py?line=166'>167</a>\u001b[0m         worker_index\u001b[39m=\u001b[39;49m\u001b[39m0\u001b[39;49m,\n\u001b[1;32m    <a href='file:///home/bruno/anaconda3/envs/rllib_tutorial/lib/python3.9/site-packages/ray/rllib/evaluation/worker_set.py?line=167'>168</a>\u001b[0m         num_workers\u001b[39m=\u001b[39;49mnum_workers,\n\u001b[1;32m    <a href='file:///home/bruno/anaconda3/envs/rllib_tutorial/lib/python3.9/site-packages/ray/rllib/evaluation/worker_set.py?line=168'>169</a>\u001b[0m         config\u001b[39m=\u001b[39;49m\u001b[39mself\u001b[39;49m\u001b[39m.\u001b[39;49m_local_config,\n\u001b[1;32m    <a href='file:///home/bruno/anaconda3/envs/rllib_tutorial/lib/python3.9/site-packages/ray/rllib/evaluation/worker_set.py?line=169'>170</a>\u001b[0m         spaces\u001b[39m=\u001b[39;49mspaces,\n\u001b[1;32m    <a href='file:///home/bruno/anaconda3/envs/rllib_tutorial/lib/python3.9/site-packages/ray/rllib/evaluation/worker_set.py?line=170'>171</a>\u001b[0m     )\n",
      "File \u001b[0;32m~/anaconda3/envs/rllib_tutorial/lib/python3.9/site-packages/ray/rllib/evaluation/worker_set.py:567\u001b[0m, in \u001b[0;36mWorkerSet._make_worker\u001b[0;34m(self, cls, env_creator, validate_env, policy_cls, worker_index, num_workers, config, spaces)\u001b[0m\n\u001b[1;32m    <a href='file:///home/bruno/anaconda3/envs/rllib_tutorial/lib/python3.9/site-packages/ray/rllib/evaluation/worker_set.py?line=563'>564</a>\u001b[0m \u001b[39melse\u001b[39;00m:\n\u001b[1;32m    <a href='file:///home/bruno/anaconda3/envs/rllib_tutorial/lib/python3.9/site-packages/ray/rllib/evaluation/worker_set.py?line=564'>565</a>\u001b[0m     extra_python_environs \u001b[39m=\u001b[39m config\u001b[39m.\u001b[39mget(\u001b[39m\"\u001b[39m\u001b[39mextra_python_environs_for_worker\u001b[39m\u001b[39m\"\u001b[39m, \u001b[39mNone\u001b[39;00m)\n\u001b[0;32m--> <a href='file:///home/bruno/anaconda3/envs/rllib_tutorial/lib/python3.9/site-packages/ray/rllib/evaluation/worker_set.py?line=566'>567</a>\u001b[0m worker \u001b[39m=\u001b[39m \u001b[39mcls\u001b[39;49m(\n\u001b[1;32m    <a href='file:///home/bruno/anaconda3/envs/rllib_tutorial/lib/python3.9/site-packages/ray/rllib/evaluation/worker_set.py?line=567'>568</a>\u001b[0m     env_creator\u001b[39m=\u001b[39;49menv_creator,\n\u001b[1;32m    <a href='file:///home/bruno/anaconda3/envs/rllib_tutorial/lib/python3.9/site-packages/ray/rllib/evaluation/worker_set.py?line=568'>569</a>\u001b[0m     validate_env\u001b[39m=\u001b[39;49mvalidate_env,\n\u001b[1;32m    <a href='file:///home/bruno/anaconda3/envs/rllib_tutorial/lib/python3.9/site-packages/ray/rllib/evaluation/worker_set.py?line=569'>570</a>\u001b[0m     policy_spec\u001b[39m=\u001b[39;49mpolicies,\n\u001b[1;32m    <a href='file:///home/bruno/anaconda3/envs/rllib_tutorial/lib/python3.9/site-packages/ray/rllib/evaluation/worker_set.py?line=570'>571</a>\u001b[0m     policy_mapping_fn\u001b[39m=\u001b[39;49mconfig[\u001b[39m\"\u001b[39;49m\u001b[39mmultiagent\u001b[39;49m\u001b[39m\"\u001b[39;49m][\u001b[39m\"\u001b[39;49m\u001b[39mpolicy_mapping_fn\u001b[39;49m\u001b[39m\"\u001b[39;49m],\n\u001b[1;32m    <a href='file:///home/bruno/anaconda3/envs/rllib_tutorial/lib/python3.9/site-packages/ray/rllib/evaluation/worker_set.py?line=571'>572</a>\u001b[0m     policies_to_train\u001b[39m=\u001b[39;49mconfig[\u001b[39m\"\u001b[39;49m\u001b[39mmultiagent\u001b[39;49m\u001b[39m\"\u001b[39;49m][\u001b[39m\"\u001b[39;49m\u001b[39mpolicies_to_train\u001b[39;49m\u001b[39m\"\u001b[39;49m],\n\u001b[1;32m    <a href='file:///home/bruno/anaconda3/envs/rllib_tutorial/lib/python3.9/site-packages/ray/rllib/evaluation/worker_set.py?line=572'>573</a>\u001b[0m     tf_session_creator\u001b[39m=\u001b[39;49m(session_creator \u001b[39mif\u001b[39;49;00m config[\u001b[39m\"\u001b[39;49m\u001b[39mtf_session_args\u001b[39;49m\u001b[39m\"\u001b[39;49m] \u001b[39melse\u001b[39;49;00m \u001b[39mNone\u001b[39;49;00m),\n\u001b[1;32m    <a href='file:///home/bruno/anaconda3/envs/rllib_tutorial/lib/python3.9/site-packages/ray/rllib/evaluation/worker_set.py?line=573'>574</a>\u001b[0m     rollout_fragment_length\u001b[39m=\u001b[39;49mconfig[\u001b[39m\"\u001b[39;49m\u001b[39mrollout_fragment_length\u001b[39;49m\u001b[39m\"\u001b[39;49m],\n\u001b[1;32m    <a href='file:///home/bruno/anaconda3/envs/rllib_tutorial/lib/python3.9/site-packages/ray/rllib/evaluation/worker_set.py?line=574'>575</a>\u001b[0m     count_steps_by\u001b[39m=\u001b[39;49mconfig[\u001b[39m\"\u001b[39;49m\u001b[39mmultiagent\u001b[39;49m\u001b[39m\"\u001b[39;49m][\u001b[39m\"\u001b[39;49m\u001b[39mcount_steps_by\u001b[39;49m\u001b[39m\"\u001b[39;49m],\n\u001b[1;32m    <a href='file:///home/bruno/anaconda3/envs/rllib_tutorial/lib/python3.9/site-packages/ray/rllib/evaluation/worker_set.py?line=575'>576</a>\u001b[0m     batch_mode\u001b[39m=\u001b[39;49mconfig[\u001b[39m\"\u001b[39;49m\u001b[39mbatch_mode\u001b[39;49m\u001b[39m\"\u001b[39;49m],\n\u001b[1;32m    <a href='file:///home/bruno/anaconda3/envs/rllib_tutorial/lib/python3.9/site-packages/ray/rllib/evaluation/worker_set.py?line=576'>577</a>\u001b[0m     episode_horizon\u001b[39m=\u001b[39;49mconfig[\u001b[39m\"\u001b[39;49m\u001b[39mhorizon\u001b[39;49m\u001b[39m\"\u001b[39;49m],\n\u001b[1;32m    <a href='file:///home/bruno/anaconda3/envs/rllib_tutorial/lib/python3.9/site-packages/ray/rllib/evaluation/worker_set.py?line=577'>578</a>\u001b[0m     preprocessor_pref\u001b[39m=\u001b[39;49mconfig[\u001b[39m\"\u001b[39;49m\u001b[39mpreprocessor_pref\u001b[39;49m\u001b[39m\"\u001b[39;49m],\n\u001b[1;32m    <a href='file:///home/bruno/anaconda3/envs/rllib_tutorial/lib/python3.9/site-packages/ray/rllib/evaluation/worker_set.py?line=578'>579</a>\u001b[0m     sample_async\u001b[39m=\u001b[39;49mconfig[\u001b[39m\"\u001b[39;49m\u001b[39msample_async\u001b[39;49m\u001b[39m\"\u001b[39;49m],\n\u001b[1;32m    <a href='file:///home/bruno/anaconda3/envs/rllib_tutorial/lib/python3.9/site-packages/ray/rllib/evaluation/worker_set.py?line=579'>580</a>\u001b[0m     compress_observations\u001b[39m=\u001b[39;49mconfig[\u001b[39m\"\u001b[39;49m\u001b[39mcompress_observations\u001b[39;49m\u001b[39m\"\u001b[39;49m],\n\u001b[1;32m    <a href='file:///home/bruno/anaconda3/envs/rllib_tutorial/lib/python3.9/site-packages/ray/rllib/evaluation/worker_set.py?line=580'>581</a>\u001b[0m     num_envs\u001b[39m=\u001b[39;49mconfig[\u001b[39m\"\u001b[39;49m\u001b[39mnum_envs_per_worker\u001b[39;49m\u001b[39m\"\u001b[39;49m],\n\u001b[1;32m    <a href='file:///home/bruno/anaconda3/envs/rllib_tutorial/lib/python3.9/site-packages/ray/rllib/evaluation/worker_set.py?line=581'>582</a>\u001b[0m     observation_fn\u001b[39m=\u001b[39;49mconfig[\u001b[39m\"\u001b[39;49m\u001b[39mmultiagent\u001b[39;49m\u001b[39m\"\u001b[39;49m][\u001b[39m\"\u001b[39;49m\u001b[39mobservation_fn\u001b[39;49m\u001b[39m\"\u001b[39;49m],\n\u001b[1;32m    <a href='file:///home/bruno/anaconda3/envs/rllib_tutorial/lib/python3.9/site-packages/ray/rllib/evaluation/worker_set.py?line=582'>583</a>\u001b[0m     observation_filter\u001b[39m=\u001b[39;49mconfig[\u001b[39m\"\u001b[39;49m\u001b[39mobservation_filter\u001b[39;49m\u001b[39m\"\u001b[39;49m],\n\u001b[1;32m    <a href='file:///home/bruno/anaconda3/envs/rllib_tutorial/lib/python3.9/site-packages/ray/rllib/evaluation/worker_set.py?line=583'>584</a>\u001b[0m     clip_rewards\u001b[39m=\u001b[39;49mconfig[\u001b[39m\"\u001b[39;49m\u001b[39mclip_rewards\u001b[39;49m\u001b[39m\"\u001b[39;49m],\n\u001b[1;32m    <a href='file:///home/bruno/anaconda3/envs/rllib_tutorial/lib/python3.9/site-packages/ray/rllib/evaluation/worker_set.py?line=584'>585</a>\u001b[0m     normalize_actions\u001b[39m=\u001b[39;49mconfig[\u001b[39m\"\u001b[39;49m\u001b[39mnormalize_actions\u001b[39;49m\u001b[39m\"\u001b[39;49m],\n\u001b[1;32m    <a href='file:///home/bruno/anaconda3/envs/rllib_tutorial/lib/python3.9/site-packages/ray/rllib/evaluation/worker_set.py?line=585'>586</a>\u001b[0m     clip_actions\u001b[39m=\u001b[39;49mconfig[\u001b[39m\"\u001b[39;49m\u001b[39mclip_actions\u001b[39;49m\u001b[39m\"\u001b[39;49m],\n\u001b[1;32m    <a href='file:///home/bruno/anaconda3/envs/rllib_tutorial/lib/python3.9/site-packages/ray/rllib/evaluation/worker_set.py?line=586'>587</a>\u001b[0m     env_config\u001b[39m=\u001b[39;49mconfig[\u001b[39m\"\u001b[39;49m\u001b[39menv_config\u001b[39;49m\u001b[39m\"\u001b[39;49m],\n\u001b[1;32m    <a href='file:///home/bruno/anaconda3/envs/rllib_tutorial/lib/python3.9/site-packages/ray/rllib/evaluation/worker_set.py?line=587'>588</a>\u001b[0m     policy_config\u001b[39m=\u001b[39;49mconfig,\n\u001b[1;32m    <a href='file:///home/bruno/anaconda3/envs/rllib_tutorial/lib/python3.9/site-packages/ray/rllib/evaluation/worker_set.py?line=588'>589</a>\u001b[0m     worker_index\u001b[39m=\u001b[39;49mworker_index,\n\u001b[1;32m    <a href='file:///home/bruno/anaconda3/envs/rllib_tutorial/lib/python3.9/site-packages/ray/rllib/evaluation/worker_set.py?line=589'>590</a>\u001b[0m     num_workers\u001b[39m=\u001b[39;49mnum_workers,\n\u001b[1;32m    <a href='file:///home/bruno/anaconda3/envs/rllib_tutorial/lib/python3.9/site-packages/ray/rllib/evaluation/worker_set.py?line=590'>591</a>\u001b[0m     record_env\u001b[39m=\u001b[39;49mconfig[\u001b[39m\"\u001b[39;49m\u001b[39mrecord_env\u001b[39;49m\u001b[39m\"\u001b[39;49m],\n\u001b[1;32m    <a href='file:///home/bruno/anaconda3/envs/rllib_tutorial/lib/python3.9/site-packages/ray/rllib/evaluation/worker_set.py?line=591'>592</a>\u001b[0m     log_dir\u001b[39m=\u001b[39;49m\u001b[39mself\u001b[39;49m\u001b[39m.\u001b[39;49m_logdir,\n\u001b[1;32m    <a href='file:///home/bruno/anaconda3/envs/rllib_tutorial/lib/python3.9/site-packages/ray/rllib/evaluation/worker_set.py?line=592'>593</a>\u001b[0m     log_level\u001b[39m=\u001b[39;49mconfig[\u001b[39m\"\u001b[39;49m\u001b[39mlog_level\u001b[39;49m\u001b[39m\"\u001b[39;49m],\n\u001b[1;32m    <a href='file:///home/bruno/anaconda3/envs/rllib_tutorial/lib/python3.9/site-packages/ray/rllib/evaluation/worker_set.py?line=593'>594</a>\u001b[0m     callbacks\u001b[39m=\u001b[39;49mconfig[\u001b[39m\"\u001b[39;49m\u001b[39mcallbacks\u001b[39;49m\u001b[39m\"\u001b[39;49m],\n\u001b[1;32m    <a href='file:///home/bruno/anaconda3/envs/rllib_tutorial/lib/python3.9/site-packages/ray/rllib/evaluation/worker_set.py?line=594'>595</a>\u001b[0m     input_creator\u001b[39m=\u001b[39;49minput_creator,\n\u001b[1;32m    <a href='file:///home/bruno/anaconda3/envs/rllib_tutorial/lib/python3.9/site-packages/ray/rllib/evaluation/worker_set.py?line=595'>596</a>\u001b[0m     input_evaluation\u001b[39m=\u001b[39;49minput_evaluation,\n\u001b[1;32m    <a href='file:///home/bruno/anaconda3/envs/rllib_tutorial/lib/python3.9/site-packages/ray/rllib/evaluation/worker_set.py?line=596'>597</a>\u001b[0m     output_creator\u001b[39m=\u001b[39;49moutput_creator,\n\u001b[1;32m    <a href='file:///home/bruno/anaconda3/envs/rllib_tutorial/lib/python3.9/site-packages/ray/rllib/evaluation/worker_set.py?line=597'>598</a>\u001b[0m     remote_worker_envs\u001b[39m=\u001b[39;49mconfig[\u001b[39m\"\u001b[39;49m\u001b[39mremote_worker_envs\u001b[39;49m\u001b[39m\"\u001b[39;49m],\n\u001b[1;32m    <a href='file:///home/bruno/anaconda3/envs/rllib_tutorial/lib/python3.9/site-packages/ray/rllib/evaluation/worker_set.py?line=598'>599</a>\u001b[0m     remote_env_batch_wait_ms\u001b[39m=\u001b[39;49mconfig[\u001b[39m\"\u001b[39;49m\u001b[39mremote_env_batch_wait_ms\u001b[39;49m\u001b[39m\"\u001b[39;49m],\n\u001b[1;32m    <a href='file:///home/bruno/anaconda3/envs/rllib_tutorial/lib/python3.9/site-packages/ray/rllib/evaluation/worker_set.py?line=599'>600</a>\u001b[0m     soft_horizon\u001b[39m=\u001b[39;49mconfig[\u001b[39m\"\u001b[39;49m\u001b[39msoft_horizon\u001b[39;49m\u001b[39m\"\u001b[39;49m],\n\u001b[1;32m    <a href='file:///home/bruno/anaconda3/envs/rllib_tutorial/lib/python3.9/site-packages/ray/rllib/evaluation/worker_set.py?line=600'>601</a>\u001b[0m     no_done_at_end\u001b[39m=\u001b[39;49mconfig[\u001b[39m\"\u001b[39;49m\u001b[39mno_done_at_end\u001b[39;49m\u001b[39m\"\u001b[39;49m],\n\u001b[1;32m    <a href='file:///home/bruno/anaconda3/envs/rllib_tutorial/lib/python3.9/site-packages/ray/rllib/evaluation/worker_set.py?line=601'>602</a>\u001b[0m     seed\u001b[39m=\u001b[39;49m(config[\u001b[39m\"\u001b[39;49m\u001b[39mseed\u001b[39;49m\u001b[39m\"\u001b[39;49m] \u001b[39m+\u001b[39;49m worker_index)\n\u001b[1;32m    <a href='file:///home/bruno/anaconda3/envs/rllib_tutorial/lib/python3.9/site-packages/ray/rllib/evaluation/worker_set.py?line=602'>603</a>\u001b[0m     \u001b[39mif\u001b[39;49;00m config[\u001b[39m\"\u001b[39;49m\u001b[39mseed\u001b[39;49m\u001b[39m\"\u001b[39;49m] \u001b[39mis\u001b[39;49;00m \u001b[39mnot\u001b[39;49;00m \u001b[39mNone\u001b[39;49;00m\n\u001b[1;32m    <a href='file:///home/bruno/anaconda3/envs/rllib_tutorial/lib/python3.9/site-packages/ray/rllib/evaluation/worker_set.py?line=603'>604</a>\u001b[0m     \u001b[39melse\u001b[39;49;00m \u001b[39mNone\u001b[39;49;00m,\n\u001b[1;32m    <a href='file:///home/bruno/anaconda3/envs/rllib_tutorial/lib/python3.9/site-packages/ray/rllib/evaluation/worker_set.py?line=604'>605</a>\u001b[0m     fake_sampler\u001b[39m=\u001b[39;49mconfig[\u001b[39m\"\u001b[39;49m\u001b[39mfake_sampler\u001b[39;49m\u001b[39m\"\u001b[39;49m],\n\u001b[1;32m    <a href='file:///home/bruno/anaconda3/envs/rllib_tutorial/lib/python3.9/site-packages/ray/rllib/evaluation/worker_set.py?line=605'>606</a>\u001b[0m     extra_python_environs\u001b[39m=\u001b[39;49mextra_python_environs,\n\u001b[1;32m    <a href='file:///home/bruno/anaconda3/envs/rllib_tutorial/lib/python3.9/site-packages/ray/rllib/evaluation/worker_set.py?line=606'>607</a>\u001b[0m     spaces\u001b[39m=\u001b[39;49mspaces,\n\u001b[1;32m    <a href='file:///home/bruno/anaconda3/envs/rllib_tutorial/lib/python3.9/site-packages/ray/rllib/evaluation/worker_set.py?line=607'>608</a>\u001b[0m     disable_env_checking\u001b[39m=\u001b[39;49mconfig[\u001b[39m\"\u001b[39;49m\u001b[39mdisable_env_checking\u001b[39;49m\u001b[39m\"\u001b[39;49m],\n\u001b[1;32m    <a href='file:///home/bruno/anaconda3/envs/rllib_tutorial/lib/python3.9/site-packages/ray/rllib/evaluation/worker_set.py?line=608'>609</a>\u001b[0m )\n\u001b[1;32m    <a href='file:///home/bruno/anaconda3/envs/rllib_tutorial/lib/python3.9/site-packages/ray/rllib/evaluation/worker_set.py?line=610'>611</a>\u001b[0m \u001b[39mreturn\u001b[39;00m worker\n",
      "File \u001b[0;32m~/anaconda3/envs/rllib_tutorial/lib/python3.9/site-packages/ray/rllib/evaluation/rollout_worker.py:626\u001b[0m, in \u001b[0;36mRolloutWorker.__init__\u001b[0;34m(self, env_creator, validate_env, policy_spec, policy_mapping_fn, policies_to_train, tf_session_creator, rollout_fragment_length, count_steps_by, batch_mode, episode_horizon, preprocessor_pref, sample_async, compress_observations, num_envs, observation_fn, observation_filter, clip_rewards, normalize_actions, clip_actions, env_config, model_config, policy_config, worker_index, num_workers, record_env, log_dir, log_level, callbacks, input_creator, input_evaluation, output_creator, remote_worker_envs, remote_env_batch_wait_ms, soft_horizon, no_done_at_end, seed, extra_python_environs, fake_sampler, spaces, policy, monitor_path, disable_env_checking)\u001b[0m\n\u001b[1;32m    <a href='file:///home/bruno/anaconda3/envs/rllib_tutorial/lib/python3.9/site-packages/ray/rllib/evaluation/rollout_worker.py?line=612'>613</a>\u001b[0m \u001b[39melif\u001b[39;00m (\n\u001b[1;32m    <a href='file:///home/bruno/anaconda3/envs/rllib_tutorial/lib/python3.9/site-packages/ray/rllib/evaluation/rollout_worker.py?line=613'>614</a>\u001b[0m     ray\u001b[39m.\u001b[39mis_initialized()\n\u001b[1;32m    <a href='file:///home/bruno/anaconda3/envs/rllib_tutorial/lib/python3.9/site-packages/ray/rllib/evaluation/rollout_worker.py?line=614'>615</a>\u001b[0m     \u001b[39mand\u001b[39;00m ray\u001b[39m.\u001b[39mworker\u001b[39m.\u001b[39m_mode() \u001b[39m==\u001b[39m ray\u001b[39m.\u001b[39mworker\u001b[39m.\u001b[39mLOCAL_MODE\n\u001b[1;32m    <a href='file:///home/bruno/anaconda3/envs/rllib_tutorial/lib/python3.9/site-packages/ray/rllib/evaluation/rollout_worker.py?line=615'>616</a>\u001b[0m     \u001b[39mand\u001b[39;00m num_gpus \u001b[39m>\u001b[39m \u001b[39m0\u001b[39m\n\u001b[1;32m    <a href='file:///home/bruno/anaconda3/envs/rllib_tutorial/lib/python3.9/site-packages/ray/rllib/evaluation/rollout_worker.py?line=616'>617</a>\u001b[0m     \u001b[39mand\u001b[39;00m \u001b[39mnot\u001b[39;00m policy_config\u001b[39m.\u001b[39mget(\u001b[39m\"\u001b[39m\u001b[39m_fake_gpus\u001b[39m\u001b[39m\"\u001b[39m)\n\u001b[1;32m    <a href='file:///home/bruno/anaconda3/envs/rllib_tutorial/lib/python3.9/site-packages/ray/rllib/evaluation/rollout_worker.py?line=617'>618</a>\u001b[0m ):\n\u001b[1;32m    <a href='file:///home/bruno/anaconda3/envs/rllib_tutorial/lib/python3.9/site-packages/ray/rllib/evaluation/rollout_worker.py?line=618'>619</a>\u001b[0m     logger\u001b[39m.\u001b[39mwarning(\n\u001b[1;32m    <a href='file:///home/bruno/anaconda3/envs/rllib_tutorial/lib/python3.9/site-packages/ray/rllib/evaluation/rollout_worker.py?line=619'>620</a>\u001b[0m         \u001b[39m\"\u001b[39m\u001b[39mYou are running ray with `local_mode=True`, but have \u001b[39m\u001b[39m\"\u001b[39m\n\u001b[1;32m    <a href='file:///home/bruno/anaconda3/envs/rllib_tutorial/lib/python3.9/site-packages/ray/rllib/evaluation/rollout_worker.py?line=620'>621</a>\u001b[0m         \u001b[39mf\u001b[39m\u001b[39m\"\u001b[39m\u001b[39mconfigured \u001b[39m\u001b[39m{\u001b[39;00mnum_gpus\u001b[39m}\u001b[39;00m\u001b[39m GPUs to be used! In local mode, \u001b[39m\u001b[39m\"\u001b[39m\n\u001b[1;32m    <a href='file:///home/bruno/anaconda3/envs/rllib_tutorial/lib/python3.9/site-packages/ray/rllib/evaluation/rollout_worker.py?line=621'>622</a>\u001b[0m         \u001b[39mf\u001b[39m\u001b[39m\"\u001b[39m\u001b[39mPolicies are placed on the CPU and the `num_gpus` setting \u001b[39m\u001b[39m\"\u001b[39m\n\u001b[1;32m    <a href='file:///home/bruno/anaconda3/envs/rllib_tutorial/lib/python3.9/site-packages/ray/rllib/evaluation/rollout_worker.py?line=622'>623</a>\u001b[0m         \u001b[39mf\u001b[39m\u001b[39m\"\u001b[39m\u001b[39mis ignored.\u001b[39m\u001b[39m\"\u001b[39m\n\u001b[1;32m    <a href='file:///home/bruno/anaconda3/envs/rllib_tutorial/lib/python3.9/site-packages/ray/rllib/evaluation/rollout_worker.py?line=623'>624</a>\u001b[0m     )\n\u001b[0;32m--> <a href='file:///home/bruno/anaconda3/envs/rllib_tutorial/lib/python3.9/site-packages/ray/rllib/evaluation/rollout_worker.py?line=625'>626</a>\u001b[0m \u001b[39mself\u001b[39;49m\u001b[39m.\u001b[39;49m_build_policy_map(\n\u001b[1;32m    <a href='file:///home/bruno/anaconda3/envs/rllib_tutorial/lib/python3.9/site-packages/ray/rllib/evaluation/rollout_worker.py?line=626'>627</a>\u001b[0m     \u001b[39mself\u001b[39;49m\u001b[39m.\u001b[39;49mpolicy_dict,\n\u001b[1;32m    <a href='file:///home/bruno/anaconda3/envs/rllib_tutorial/lib/python3.9/site-packages/ray/rllib/evaluation/rollout_worker.py?line=627'>628</a>\u001b[0m     policy_config,\n\u001b[1;32m    <a href='file:///home/bruno/anaconda3/envs/rllib_tutorial/lib/python3.9/site-packages/ray/rllib/evaluation/rollout_worker.py?line=628'>629</a>\u001b[0m     session_creator\u001b[39m=\u001b[39;49mtf_session_creator,\n\u001b[1;32m    <a href='file:///home/bruno/anaconda3/envs/rllib_tutorial/lib/python3.9/site-packages/ray/rllib/evaluation/rollout_worker.py?line=629'>630</a>\u001b[0m     seed\u001b[39m=\u001b[39;49mseed,\n\u001b[1;32m    <a href='file:///home/bruno/anaconda3/envs/rllib_tutorial/lib/python3.9/site-packages/ray/rllib/evaluation/rollout_worker.py?line=630'>631</a>\u001b[0m )\n\u001b[1;32m    <a href='file:///home/bruno/anaconda3/envs/rllib_tutorial/lib/python3.9/site-packages/ray/rllib/evaluation/rollout_worker.py?line=632'>633</a>\u001b[0m \u001b[39m# Update Policy's view requirements from Model, only if Policy directly\u001b[39;00m\n\u001b[1;32m    <a href='file:///home/bruno/anaconda3/envs/rllib_tutorial/lib/python3.9/site-packages/ray/rllib/evaluation/rollout_worker.py?line=633'>634</a>\u001b[0m \u001b[39m# inherited from base `Policy` class. At this point here, the Policy\u001b[39;00m\n\u001b[1;32m    <a href='file:///home/bruno/anaconda3/envs/rllib_tutorial/lib/python3.9/site-packages/ray/rllib/evaluation/rollout_worker.py?line=634'>635</a>\u001b[0m \u001b[39m# must have it's Model (if any) defined and ready to output an initial\u001b[39;00m\n\u001b[1;32m    <a href='file:///home/bruno/anaconda3/envs/rllib_tutorial/lib/python3.9/site-packages/ray/rllib/evaluation/rollout_worker.py?line=635'>636</a>\u001b[0m \u001b[39m# state.\u001b[39;00m\n\u001b[1;32m    <a href='file:///home/bruno/anaconda3/envs/rllib_tutorial/lib/python3.9/site-packages/ray/rllib/evaluation/rollout_worker.py?line=636'>637</a>\u001b[0m \u001b[39mfor\u001b[39;00m pol \u001b[39min\u001b[39;00m \u001b[39mself\u001b[39m\u001b[39m.\u001b[39mpolicy_map\u001b[39m.\u001b[39mvalues():\n",
      "File \u001b[0;32m~/anaconda3/envs/rllib_tutorial/lib/python3.9/site-packages/ray/rllib/evaluation/rollout_worker.py:1722\u001b[0m, in \u001b[0;36mRolloutWorker._build_policy_map\u001b[0;34m(self, policy_dict, policy_config, session_creator, seed)\u001b[0m\n\u001b[1;32m   <a href='file:///home/bruno/anaconda3/envs/rllib_tutorial/lib/python3.9/site-packages/ray/rllib/evaluation/rollout_worker.py?line=1719'>1720</a>\u001b[0m         \u001b[39mself\u001b[39m\u001b[39m.\u001b[39mpreprocessors[name] \u001b[39m=\u001b[39m \u001b[39mNone\u001b[39;00m\n\u001b[1;32m   <a href='file:///home/bruno/anaconda3/envs/rllib_tutorial/lib/python3.9/site-packages/ray/rllib/evaluation/rollout_worker.py?line=1720'>1721</a>\u001b[0m     \u001b[39m# Create the actual policy object.\u001b[39;00m\n\u001b[0;32m-> <a href='file:///home/bruno/anaconda3/envs/rllib_tutorial/lib/python3.9/site-packages/ray/rllib/evaluation/rollout_worker.py?line=1721'>1722</a>\u001b[0m     \u001b[39mself\u001b[39;49m\u001b[39m.\u001b[39;49mpolicy_map\u001b[39m.\u001b[39;49mcreate_policy(\n\u001b[1;32m   <a href='file:///home/bruno/anaconda3/envs/rllib_tutorial/lib/python3.9/site-packages/ray/rllib/evaluation/rollout_worker.py?line=1722'>1723</a>\u001b[0m         name, orig_cls, obs_space, act_space, conf, merged_conf\n\u001b[1;32m   <a href='file:///home/bruno/anaconda3/envs/rllib_tutorial/lib/python3.9/site-packages/ray/rllib/evaluation/rollout_worker.py?line=1723'>1724</a>\u001b[0m     )\n\u001b[1;32m   <a href='file:///home/bruno/anaconda3/envs/rllib_tutorial/lib/python3.9/site-packages/ray/rllib/evaluation/rollout_worker.py?line=1725'>1726</a>\u001b[0m \u001b[39mif\u001b[39;00m \u001b[39mself\u001b[39m\u001b[39m.\u001b[39mworker_index \u001b[39m==\u001b[39m \u001b[39m0\u001b[39m:\n\u001b[1;32m   <a href='file:///home/bruno/anaconda3/envs/rllib_tutorial/lib/python3.9/site-packages/ray/rllib/evaluation/rollout_worker.py?line=1726'>1727</a>\u001b[0m     logger\u001b[39m.\u001b[39minfo(\u001b[39mf\u001b[39m\u001b[39m\"\u001b[39m\u001b[39mBuilt policy map: \u001b[39m\u001b[39m{\u001b[39;00m\u001b[39mself\u001b[39m\u001b[39m.\u001b[39mpolicy_map\u001b[39m}\u001b[39;00m\u001b[39m\"\u001b[39m)\n",
      "File \u001b[0;32m~/anaconda3/envs/rllib_tutorial/lib/python3.9/site-packages/ray/rllib/policy/policy_map.py:140\u001b[0m, in \u001b[0;36mPolicyMap.create_policy\u001b[0;34m(self, policy_id, policy_cls, observation_space, action_space, config_override, merged_config)\u001b[0m\n\u001b[1;32m    <a href='file:///home/bruno/anaconda3/envs/rllib_tutorial/lib/python3.9/site-packages/ray/rllib/policy/policy_map.py?line=137'>138</a>\u001b[0m                 tf1\u001b[39m.\u001b[39mset_random_seed(\u001b[39mself\u001b[39m\u001b[39m.\u001b[39mseed)\n\u001b[1;32m    <a href='file:///home/bruno/anaconda3/envs/rllib_tutorial/lib/python3.9/site-packages/ray/rllib/policy/policy_map.py?line=138'>139</a>\u001b[0m             \u001b[39mwith\u001b[39;00m tf1\u001b[39m.\u001b[39mvariable_scope(var_scope):\n\u001b[0;32m--> <a href='file:///home/bruno/anaconda3/envs/rllib_tutorial/lib/python3.9/site-packages/ray/rllib/policy/policy_map.py?line=139'>140</a>\u001b[0m                 \u001b[39mself\u001b[39m[policy_id] \u001b[39m=\u001b[39m class_(\n\u001b[1;32m    <a href='file:///home/bruno/anaconda3/envs/rllib_tutorial/lib/python3.9/site-packages/ray/rllib/policy/policy_map.py?line=140'>141</a>\u001b[0m                     observation_space, action_space, merged_config\n\u001b[1;32m    <a href='file:///home/bruno/anaconda3/envs/rllib_tutorial/lib/python3.9/site-packages/ray/rllib/policy/policy_map.py?line=141'>142</a>\u001b[0m                 )\n\u001b[1;32m    <a href='file:///home/bruno/anaconda3/envs/rllib_tutorial/lib/python3.9/site-packages/ray/rllib/policy/policy_map.py?line=142'>143</a>\u001b[0m \u001b[39m# For tf-eager: no graph, no session.\u001b[39;00m\n\u001b[1;32m    <a href='file:///home/bruno/anaconda3/envs/rllib_tutorial/lib/python3.9/site-packages/ray/rllib/policy/policy_map.py?line=143'>144</a>\u001b[0m \u001b[39melse\u001b[39;00m:\n\u001b[1;32m    <a href='file:///home/bruno/anaconda3/envs/rllib_tutorial/lib/python3.9/site-packages/ray/rllib/policy/policy_map.py?line=144'>145</a>\u001b[0m     \u001b[39mwith\u001b[39;00m tf1\u001b[39m.\u001b[39mvariable_scope(var_scope):\n",
      "File \u001b[0;32m~/anaconda3/envs/rllib_tutorial/lib/python3.9/site-packages/ray/rllib/policy/tf_policy_template.py:256\u001b[0m, in \u001b[0;36mbuild_tf_policy.<locals>.policy_cls.__init__\u001b[0;34m(self, obs_space, action_space, config, existing_model, existing_inputs)\u001b[0m\n\u001b[1;32m    <a href='file:///home/bruno/anaconda3/envs/rllib_tutorial/lib/python3.9/site-packages/ray/rllib/policy/tf_policy_template.py?line=252'>253</a>\u001b[0m     \u001b[39melse\u001b[39;00m:\n\u001b[1;32m    <a href='file:///home/bruno/anaconda3/envs/rllib_tutorial/lib/python3.9/site-packages/ray/rllib/policy/tf_policy_template.py?line=253'>254</a>\u001b[0m         policy\u001b[39m.\u001b[39m_extra_action_fetches \u001b[39m=\u001b[39m extra_action_fetches\n\u001b[0;32m--> <a href='file:///home/bruno/anaconda3/envs/rllib_tutorial/lib/python3.9/site-packages/ray/rllib/policy/tf_policy_template.py?line=255'>256</a>\u001b[0m DynamicTFPolicy\u001b[39m.\u001b[39;49m\u001b[39m__init__\u001b[39;49m(\n\u001b[1;32m    <a href='file:///home/bruno/anaconda3/envs/rllib_tutorial/lib/python3.9/site-packages/ray/rllib/policy/tf_policy_template.py?line=256'>257</a>\u001b[0m     \u001b[39mself\u001b[39;49m,\n\u001b[1;32m    <a href='file:///home/bruno/anaconda3/envs/rllib_tutorial/lib/python3.9/site-packages/ray/rllib/policy/tf_policy_template.py?line=257'>258</a>\u001b[0m     obs_space\u001b[39m=\u001b[39;49mobs_space,\n\u001b[1;32m    <a href='file:///home/bruno/anaconda3/envs/rllib_tutorial/lib/python3.9/site-packages/ray/rllib/policy/tf_policy_template.py?line=258'>259</a>\u001b[0m     action_space\u001b[39m=\u001b[39;49maction_space,\n\u001b[1;32m    <a href='file:///home/bruno/anaconda3/envs/rllib_tutorial/lib/python3.9/site-packages/ray/rllib/policy/tf_policy_template.py?line=259'>260</a>\u001b[0m     config\u001b[39m=\u001b[39;49mconfig,\n\u001b[1;32m    <a href='file:///home/bruno/anaconda3/envs/rllib_tutorial/lib/python3.9/site-packages/ray/rllib/policy/tf_policy_template.py?line=260'>261</a>\u001b[0m     loss_fn\u001b[39m=\u001b[39;49mloss_fn,\n\u001b[1;32m    <a href='file:///home/bruno/anaconda3/envs/rllib_tutorial/lib/python3.9/site-packages/ray/rllib/policy/tf_policy_template.py?line=261'>262</a>\u001b[0m     stats_fn\u001b[39m=\u001b[39;49mstats_fn,\n\u001b[1;32m    <a href='file:///home/bruno/anaconda3/envs/rllib_tutorial/lib/python3.9/site-packages/ray/rllib/policy/tf_policy_template.py?line=262'>263</a>\u001b[0m     grad_stats_fn\u001b[39m=\u001b[39;49mgrad_stats_fn,\n\u001b[1;32m    <a href='file:///home/bruno/anaconda3/envs/rllib_tutorial/lib/python3.9/site-packages/ray/rllib/policy/tf_policy_template.py?line=263'>264</a>\u001b[0m     before_loss_init\u001b[39m=\u001b[39;49mbefore_loss_init_wrapper,\n\u001b[1;32m    <a href='file:///home/bruno/anaconda3/envs/rllib_tutorial/lib/python3.9/site-packages/ray/rllib/policy/tf_policy_template.py?line=264'>265</a>\u001b[0m     make_model\u001b[39m=\u001b[39;49mmake_model,\n\u001b[1;32m    <a href='file:///home/bruno/anaconda3/envs/rllib_tutorial/lib/python3.9/site-packages/ray/rllib/policy/tf_policy_template.py?line=265'>266</a>\u001b[0m     action_sampler_fn\u001b[39m=\u001b[39;49maction_sampler_fn,\n\u001b[1;32m    <a href='file:///home/bruno/anaconda3/envs/rllib_tutorial/lib/python3.9/site-packages/ray/rllib/policy/tf_policy_template.py?line=266'>267</a>\u001b[0m     action_distribution_fn\u001b[39m=\u001b[39;49maction_distribution_fn,\n\u001b[1;32m    <a href='file:///home/bruno/anaconda3/envs/rllib_tutorial/lib/python3.9/site-packages/ray/rllib/policy/tf_policy_template.py?line=267'>268</a>\u001b[0m     existing_inputs\u001b[39m=\u001b[39;49mexisting_inputs,\n\u001b[1;32m    <a href='file:///home/bruno/anaconda3/envs/rllib_tutorial/lib/python3.9/site-packages/ray/rllib/policy/tf_policy_template.py?line=268'>269</a>\u001b[0m     existing_model\u001b[39m=\u001b[39;49mexisting_model,\n\u001b[1;32m    <a href='file:///home/bruno/anaconda3/envs/rllib_tutorial/lib/python3.9/site-packages/ray/rllib/policy/tf_policy_template.py?line=269'>270</a>\u001b[0m     get_batch_divisibility_req\u001b[39m=\u001b[39;49mget_batch_divisibility_req,\n\u001b[1;32m    <a href='file:///home/bruno/anaconda3/envs/rllib_tutorial/lib/python3.9/site-packages/ray/rllib/policy/tf_policy_template.py?line=270'>271</a>\u001b[0m )\n\u001b[1;32m    <a href='file:///home/bruno/anaconda3/envs/rllib_tutorial/lib/python3.9/site-packages/ray/rllib/policy/tf_policy_template.py?line=272'>273</a>\u001b[0m \u001b[39mif\u001b[39;00m after_init:\n\u001b[1;32m    <a href='file:///home/bruno/anaconda3/envs/rllib_tutorial/lib/python3.9/site-packages/ray/rllib/policy/tf_policy_template.py?line=273'>274</a>\u001b[0m     after_init(\u001b[39mself\u001b[39m, obs_space, action_space, config)\n",
      "File \u001b[0;32m~/anaconda3/envs/rllib_tutorial/lib/python3.9/site-packages/ray/rllib/policy/dynamic_tf_policy.py:291\u001b[0m, in \u001b[0;36mDynamicTFPolicy.__init__\u001b[0;34m(self, obs_space, action_space, config, loss_fn, stats_fn, grad_stats_fn, before_loss_init, make_model, action_sampler_fn, action_distribution_fn, existing_inputs, existing_model, get_batch_divisibility_req, obs_include_prev_action_reward)\u001b[0m\n\u001b[1;32m    <a href='file:///home/bruno/anaconda3/envs/rllib_tutorial/lib/python3.9/site-packages/ray/rllib/policy/dynamic_tf_policy.py?line=287'>288</a>\u001b[0m \u001b[39mself\u001b[39m\u001b[39m.\u001b[39m_state_out \u001b[39m=\u001b[39m \u001b[39mNone\u001b[39;00m\n\u001b[1;32m    <a href='file:///home/bruno/anaconda3/envs/rllib_tutorial/lib/python3.9/site-packages/ray/rllib/policy/dynamic_tf_policy.py?line=288'>289</a>\u001b[0m \u001b[39mif\u001b[39;00m \u001b[39mnot\u001b[39;00m \u001b[39mself\u001b[39m\u001b[39m.\u001b[39m_is_tower:\n\u001b[1;32m    <a href='file:///home/bruno/anaconda3/envs/rllib_tutorial/lib/python3.9/site-packages/ray/rllib/policy/dynamic_tf_policy.py?line=289'>290</a>\u001b[0m     \u001b[39m# Create the Exploration object to use for this Policy.\u001b[39;00m\n\u001b[0;32m--> <a href='file:///home/bruno/anaconda3/envs/rllib_tutorial/lib/python3.9/site-packages/ray/rllib/policy/dynamic_tf_policy.py?line=290'>291</a>\u001b[0m     \u001b[39mself\u001b[39m\u001b[39m.\u001b[39mexploration \u001b[39m=\u001b[39m \u001b[39mself\u001b[39;49m\u001b[39m.\u001b[39;49m_create_exploration()\n\u001b[1;32m    <a href='file:///home/bruno/anaconda3/envs/rllib_tutorial/lib/python3.9/site-packages/ray/rllib/policy/dynamic_tf_policy.py?line=292'>293</a>\u001b[0m     \u001b[39m# Fully customized action generation (e.g., custom policy).\u001b[39;00m\n\u001b[1;32m    <a href='file:///home/bruno/anaconda3/envs/rllib_tutorial/lib/python3.9/site-packages/ray/rllib/policy/dynamic_tf_policy.py?line=293'>294</a>\u001b[0m     \u001b[39mif\u001b[39;00m action_sampler_fn:\n",
      "File \u001b[0;32m~/anaconda3/envs/rllib_tutorial/lib/python3.9/site-packages/ray/rllib/policy/policy.py:811\u001b[0m, in \u001b[0;36mPolicy._create_exploration\u001b[0;34m(self)\u001b[0m\n\u001b[1;32m    <a href='file:///home/bruno/anaconda3/envs/rllib_tutorial/lib/python3.9/site-packages/ray/rllib/policy/policy.py?line=807'>808</a>\u001b[0m \u001b[39mif\u001b[39;00m \u001b[39mgetattr\u001b[39m(\u001b[39mself\u001b[39m, \u001b[39m\"\u001b[39m\u001b[39mexploration\u001b[39m\u001b[39m\"\u001b[39m, \u001b[39mNone\u001b[39;00m) \u001b[39mis\u001b[39;00m \u001b[39mnot\u001b[39;00m \u001b[39mNone\u001b[39;00m:\n\u001b[1;32m    <a href='file:///home/bruno/anaconda3/envs/rllib_tutorial/lib/python3.9/site-packages/ray/rllib/policy/policy.py?line=808'>809</a>\u001b[0m     \u001b[39mreturn\u001b[39;00m \u001b[39mself\u001b[39m\u001b[39m.\u001b[39mexploration\n\u001b[0;32m--> <a href='file:///home/bruno/anaconda3/envs/rllib_tutorial/lib/python3.9/site-packages/ray/rllib/policy/policy.py?line=810'>811</a>\u001b[0m exploration \u001b[39m=\u001b[39m from_config(\n\u001b[1;32m    <a href='file:///home/bruno/anaconda3/envs/rllib_tutorial/lib/python3.9/site-packages/ray/rllib/policy/policy.py?line=811'>812</a>\u001b[0m     Exploration,\n\u001b[1;32m    <a href='file:///home/bruno/anaconda3/envs/rllib_tutorial/lib/python3.9/site-packages/ray/rllib/policy/policy.py?line=812'>813</a>\u001b[0m     \u001b[39mself\u001b[39;49m\u001b[39m.\u001b[39;49mconfig\u001b[39m.\u001b[39;49mget(\u001b[39m\"\u001b[39;49m\u001b[39mexploration_config\u001b[39;49m\u001b[39m\"\u001b[39;49m, {\u001b[39m\"\u001b[39;49m\u001b[39mtype\u001b[39;49m\u001b[39m\"\u001b[39;49m: \u001b[39m\"\u001b[39;49m\u001b[39mStochasticSampling\u001b[39;49m\u001b[39m\"\u001b[39;49m}),\n\u001b[1;32m    <a href='file:///home/bruno/anaconda3/envs/rllib_tutorial/lib/python3.9/site-packages/ray/rllib/policy/policy.py?line=813'>814</a>\u001b[0m     action_space\u001b[39m=\u001b[39;49m\u001b[39mself\u001b[39;49m\u001b[39m.\u001b[39;49maction_space,\n\u001b[1;32m    <a href='file:///home/bruno/anaconda3/envs/rllib_tutorial/lib/python3.9/site-packages/ray/rllib/policy/policy.py?line=814'>815</a>\u001b[0m     policy_config\u001b[39m=\u001b[39;49m\u001b[39mself\u001b[39;49m\u001b[39m.\u001b[39;49mconfig,\n\u001b[1;32m    <a href='file:///home/bruno/anaconda3/envs/rllib_tutorial/lib/python3.9/site-packages/ray/rllib/policy/policy.py?line=815'>816</a>\u001b[0m     model\u001b[39m=\u001b[39;49m\u001b[39mgetattr\u001b[39;49m(\u001b[39mself\u001b[39;49m, \u001b[39m\"\u001b[39;49m\u001b[39mmodel\u001b[39;49m\u001b[39m\"\u001b[39;49m, \u001b[39mNone\u001b[39;49;00m),\n\u001b[1;32m    <a href='file:///home/bruno/anaconda3/envs/rllib_tutorial/lib/python3.9/site-packages/ray/rllib/policy/policy.py?line=816'>817</a>\u001b[0m     num_workers\u001b[39m=\u001b[39;49m\u001b[39mself\u001b[39;49m\u001b[39m.\u001b[39;49mconfig\u001b[39m.\u001b[39;49mget(\u001b[39m\"\u001b[39;49m\u001b[39mnum_workers\u001b[39;49m\u001b[39m\"\u001b[39;49m, \u001b[39m0\u001b[39;49m),\n\u001b[1;32m    <a href='file:///home/bruno/anaconda3/envs/rllib_tutorial/lib/python3.9/site-packages/ray/rllib/policy/policy.py?line=817'>818</a>\u001b[0m     worker_index\u001b[39m=\u001b[39;49m\u001b[39mself\u001b[39;49m\u001b[39m.\u001b[39;49mconfig\u001b[39m.\u001b[39;49mget(\u001b[39m\"\u001b[39;49m\u001b[39mworker_index\u001b[39;49m\u001b[39m\"\u001b[39;49m, \u001b[39m0\u001b[39;49m),\n\u001b[1;32m    <a href='file:///home/bruno/anaconda3/envs/rllib_tutorial/lib/python3.9/site-packages/ray/rllib/policy/policy.py?line=818'>819</a>\u001b[0m     framework\u001b[39m=\u001b[39;49m\u001b[39mgetattr\u001b[39;49m(\u001b[39mself\u001b[39;49m, \u001b[39m\"\u001b[39;49m\u001b[39mframework\u001b[39;49m\u001b[39m\"\u001b[39;49m, \u001b[39mself\u001b[39;49m\u001b[39m.\u001b[39;49mconfig\u001b[39m.\u001b[39;49mget(\u001b[39m\"\u001b[39;49m\u001b[39mframework\u001b[39;49m\u001b[39m\"\u001b[39;49m, \u001b[39m\"\u001b[39;49m\u001b[39mtf\u001b[39;49m\u001b[39m\"\u001b[39;49m)),\n\u001b[1;32m    <a href='file:///home/bruno/anaconda3/envs/rllib_tutorial/lib/python3.9/site-packages/ray/rllib/policy/policy.py?line=819'>820</a>\u001b[0m )\n\u001b[1;32m    <a href='file:///home/bruno/anaconda3/envs/rllib_tutorial/lib/python3.9/site-packages/ray/rllib/policy/policy.py?line=820'>821</a>\u001b[0m \u001b[39mreturn\u001b[39;00m exploration\n",
      "File \u001b[0;32m~/anaconda3/envs/rllib_tutorial/lib/python3.9/site-packages/ray/rllib/utils/from_config.py:200\u001b[0m, in \u001b[0;36mfrom_config\u001b[0;34m(cls, config, **kwargs)\u001b[0m\n\u001b[1;32m    <a href='file:///home/bruno/anaconda3/envs/rllib_tutorial/lib/python3.9/site-packages/ray/rllib/utils/from_config.py?line=197'>198</a>\u001b[0m     \u001b[39mif\u001b[39;00m re\u001b[39m.\u001b[39mmatch(\u001b[39m\"\u001b[39m\u001b[39mCan\u001b[39m\u001b[39m'\u001b[39m\u001b[39mt instantiate abstract class\u001b[39m\u001b[39m\"\u001b[39m, e\u001b[39m.\u001b[39margs[\u001b[39m0\u001b[39m]):\n\u001b[1;32m    <a href='file:///home/bruno/anaconda3/envs/rllib_tutorial/lib/python3.9/site-packages/ray/rllib/utils/from_config.py?line=198'>199</a>\u001b[0m         \u001b[39mreturn\u001b[39;00m \u001b[39mNone\u001b[39;00m\n\u001b[0;32m--> <a href='file:///home/bruno/anaconda3/envs/rllib_tutorial/lib/python3.9/site-packages/ray/rllib/utils/from_config.py?line=199'>200</a>\u001b[0m     \u001b[39mraise\u001b[39;00m e  \u001b[39m# Re-raise\u001b[39;00m\n\u001b[1;32m    <a href='file:///home/bruno/anaconda3/envs/rllib_tutorial/lib/python3.9/site-packages/ray/rllib/utils/from_config.py?line=200'>201</a>\u001b[0m \u001b[39m# No sanity check for fake (lambda)-\"constructors\".\u001b[39;00m\n\u001b[1;32m    <a href='file:///home/bruno/anaconda3/envs/rllib_tutorial/lib/python3.9/site-packages/ray/rllib/utils/from_config.py?line=201'>202</a>\u001b[0m \u001b[39mif\u001b[39;00m \u001b[39mtype\u001b[39m(constructor)\u001b[39m.\u001b[39m\u001b[39m__name__\u001b[39m \u001b[39m!=\u001b[39m \u001b[39m\"\u001b[39m\u001b[39mfunction\u001b[39m\u001b[39m\"\u001b[39m:\n",
      "File \u001b[0;32m~/anaconda3/envs/rllib_tutorial/lib/python3.9/site-packages/ray/rllib/utils/from_config.py:195\u001b[0m, in \u001b[0;36mfrom_config\u001b[0;34m(cls, config, **kwargs)\u001b[0m\n\u001b[1;32m    <a href='file:///home/bruno/anaconda3/envs/rllib_tutorial/lib/python3.9/site-packages/ray/rllib/utils/from_config.py?line=192'>193</a>\u001b[0m \u001b[39m# Create object with inferred constructor.\u001b[39;00m\n\u001b[1;32m    <a href='file:///home/bruno/anaconda3/envs/rllib_tutorial/lib/python3.9/site-packages/ray/rllib/utils/from_config.py?line=193'>194</a>\u001b[0m \u001b[39mtry\u001b[39;00m:\n\u001b[0;32m--> <a href='file:///home/bruno/anaconda3/envs/rllib_tutorial/lib/python3.9/site-packages/ray/rllib/utils/from_config.py?line=194'>195</a>\u001b[0m     object_ \u001b[39m=\u001b[39m constructor(\u001b[39m*\u001b[39;49mctor_args, \u001b[39m*\u001b[39;49m\u001b[39m*\u001b[39;49mctor_kwargs)\n\u001b[1;32m    <a href='file:///home/bruno/anaconda3/envs/rllib_tutorial/lib/python3.9/site-packages/ray/rllib/utils/from_config.py?line=195'>196</a>\u001b[0m \u001b[39m# Catch attempts to construct from an abstract class and return None.\u001b[39;00m\n\u001b[1;32m    <a href='file:///home/bruno/anaconda3/envs/rllib_tutorial/lib/python3.9/site-packages/ray/rllib/utils/from_config.py?line=196'>197</a>\u001b[0m \u001b[39mexcept\u001b[39;00m \u001b[39mTypeError\u001b[39;00m \u001b[39mas\u001b[39;00m e:\n",
      "File \u001b[0;32m~/anaconda3/envs/rllib_tutorial/lib/python3.9/site-packages/ray/rllib/utils/exploration/epsilon_greedy.py:66\u001b[0m, in \u001b[0;36mEpsilonGreedy.__init__\u001b[0;34m(self, action_space, framework, initial_epsilon, final_epsilon, warmup_timesteps, epsilon_timesteps, epsilon_schedule, **kwargs)\u001b[0m\n\u001b[1;32m     <a href='file:///home/bruno/anaconda3/envs/rllib_tutorial/lib/python3.9/site-packages/ray/rllib/utils/exploration/epsilon_greedy.py?line=56'>57</a>\u001b[0m \u001b[39massert\u001b[39;00m framework \u001b[39mis\u001b[39;00m \u001b[39mnot\u001b[39;00m \u001b[39mNone\u001b[39;00m\n\u001b[1;32m     <a href='file:///home/bruno/anaconda3/envs/rllib_tutorial/lib/python3.9/site-packages/ray/rllib/utils/exploration/epsilon_greedy.py?line=57'>58</a>\u001b[0m \u001b[39msuper\u001b[39m()\u001b[39m.\u001b[39m\u001b[39m__init__\u001b[39m(action_space\u001b[39m=\u001b[39maction_space, framework\u001b[39m=\u001b[39mframework, \u001b[39m*\u001b[39m\u001b[39m*\u001b[39mkwargs)\n\u001b[1;32m     <a href='file:///home/bruno/anaconda3/envs/rllib_tutorial/lib/python3.9/site-packages/ray/rllib/utils/exploration/epsilon_greedy.py?line=59'>60</a>\u001b[0m \u001b[39mself\u001b[39m\u001b[39m.\u001b[39mepsilon_schedule \u001b[39m=\u001b[39m from_config(\n\u001b[1;32m     <a href='file:///home/bruno/anaconda3/envs/rllib_tutorial/lib/python3.9/site-packages/ray/rllib/utils/exploration/epsilon_greedy.py?line=60'>61</a>\u001b[0m     Schedule, epsilon_schedule, framework\u001b[39m=\u001b[39mframework\n\u001b[1;32m     <a href='file:///home/bruno/anaconda3/envs/rllib_tutorial/lib/python3.9/site-packages/ray/rllib/utils/exploration/epsilon_greedy.py?line=61'>62</a>\u001b[0m ) \u001b[39mor\u001b[39;00m PiecewiseSchedule(\n\u001b[1;32m     <a href='file:///home/bruno/anaconda3/envs/rllib_tutorial/lib/python3.9/site-packages/ray/rllib/utils/exploration/epsilon_greedy.py?line=62'>63</a>\u001b[0m     endpoints\u001b[39m=\u001b[39m[\n\u001b[1;32m     <a href='file:///home/bruno/anaconda3/envs/rllib_tutorial/lib/python3.9/site-packages/ray/rllib/utils/exploration/epsilon_greedy.py?line=63'>64</a>\u001b[0m         (\u001b[39m0\u001b[39m, initial_epsilon),\n\u001b[1;32m     <a href='file:///home/bruno/anaconda3/envs/rllib_tutorial/lib/python3.9/site-packages/ray/rllib/utils/exploration/epsilon_greedy.py?line=64'>65</a>\u001b[0m         (warmup_timesteps, initial_epsilon),\n\u001b[0;32m---> <a href='file:///home/bruno/anaconda3/envs/rllib_tutorial/lib/python3.9/site-packages/ray/rllib/utils/exploration/epsilon_greedy.py?line=65'>66</a>\u001b[0m         (warmup_timesteps \u001b[39m+\u001b[39;49m epsilon_timesteps, final_epsilon),\n\u001b[1;32m     <a href='file:///home/bruno/anaconda3/envs/rllib_tutorial/lib/python3.9/site-packages/ray/rllib/utils/exploration/epsilon_greedy.py?line=66'>67</a>\u001b[0m     ],\n\u001b[1;32m     <a href='file:///home/bruno/anaconda3/envs/rllib_tutorial/lib/python3.9/site-packages/ray/rllib/utils/exploration/epsilon_greedy.py?line=67'>68</a>\u001b[0m     outside_value\u001b[39m=\u001b[39mfinal_epsilon,\n\u001b[1;32m     <a href='file:///home/bruno/anaconda3/envs/rllib_tutorial/lib/python3.9/site-packages/ray/rllib/utils/exploration/epsilon_greedy.py?line=68'>69</a>\u001b[0m     framework\u001b[39m=\u001b[39m\u001b[39mself\u001b[39m\u001b[39m.\u001b[39mframework,\n\u001b[1;32m     <a href='file:///home/bruno/anaconda3/envs/rllib_tutorial/lib/python3.9/site-packages/ray/rllib/utils/exploration/epsilon_greedy.py?line=69'>70</a>\u001b[0m )\n\u001b[1;32m     <a href='file:///home/bruno/anaconda3/envs/rllib_tutorial/lib/python3.9/site-packages/ray/rllib/utils/exploration/epsilon_greedy.py?line=71'>72</a>\u001b[0m \u001b[39m# The current timestep value (tf-var or python int).\u001b[39;00m\n\u001b[1;32m     <a href='file:///home/bruno/anaconda3/envs/rllib_tutorial/lib/python3.9/site-packages/ray/rllib/utils/exploration/epsilon_greedy.py?line=72'>73</a>\u001b[0m \u001b[39mself\u001b[39m\u001b[39m.\u001b[39mlast_timestep \u001b[39m=\u001b[39m get_variable(\n\u001b[1;32m     <a href='file:///home/bruno/anaconda3/envs/rllib_tutorial/lib/python3.9/site-packages/ray/rllib/utils/exploration/epsilon_greedy.py?line=73'>74</a>\u001b[0m     np\u001b[39m.\u001b[39marray(\u001b[39m0\u001b[39m, np\u001b[39m.\u001b[39mint64),\n\u001b[1;32m     <a href='file:///home/bruno/anaconda3/envs/rllib_tutorial/lib/python3.9/site-packages/ray/rllib/utils/exploration/epsilon_greedy.py?line=74'>75</a>\u001b[0m     framework\u001b[39m=\u001b[39mframework,\n\u001b[1;32m     <a href='file:///home/bruno/anaconda3/envs/rllib_tutorial/lib/python3.9/site-packages/ray/rllib/utils/exploration/epsilon_greedy.py?line=75'>76</a>\u001b[0m     tf_name\u001b[39m=\u001b[39m\u001b[39m\"\u001b[39m\u001b[39mtimestep\u001b[39m\u001b[39m\"\u001b[39m,\n\u001b[1;32m     <a href='file:///home/bruno/anaconda3/envs/rllib_tutorial/lib/python3.9/site-packages/ray/rllib/utils/exploration/epsilon_greedy.py?line=76'>77</a>\u001b[0m     dtype\u001b[39m=\u001b[39mnp\u001b[39m.\u001b[39mint64,\n\u001b[1;32m     <a href='file:///home/bruno/anaconda3/envs/rllib_tutorial/lib/python3.9/site-packages/ray/rllib/utils/exploration/epsilon_greedy.py?line=77'>78</a>\u001b[0m )\n",
      "\u001b[0;31mTypeError\u001b[0m: unsupported operand type(s) for +: 'int' and 'dict'"
     ]
    }
   ],
   "source": [
    "from ray.rllib.agents.slateq import SlateQTrainer\n",
    "\n",
    "slateq_config = {\n",
    "    \"env\": \"modified_lts\",\n",
    "    \"env_config\": {\n",
    "        \"num_candidates\": 20,  # MultiDiscrete([20, 20]) -> no flattening necessary (see `convert_to_discrete_action_space=False` below)\n",
    "        \"slate_size\": 2,\n",
    "        \"resample_documents\": True,\n",
    "        \"wrap_for_bandits\": False,  # SlateQ != Bandit (will keep \"doc\" key, instead of \"items\")\n",
    "        \"convert_to_discrete_action_space\": False,  # SlateQ handles MultiDiscrete action spaces (slate recommendations).\n",
    "    },\n",
    "    # Setup exploratory behavior: Implemented as \"epsilon greedy\" strategy:\n",
    "    # Act randomly `e` percent of the time; `e` gets reduced from 1.0 to almost 0.0 over\n",
    "    # the course of `epsilon_timesteps`.\n",
    "    \"exploration_config\": {\n",
    "        #\"warmup_timesteps\": 20000,  # default\n",
    "        \"epsilon_timesteps\": tune.grid_search([40000, 2000, 3000]),  # default: 250000\n",
    "    },\n",
    "    #\"learning_starts\": 20000,  # default\n",
    "    \"target_network_update_freq\": 3200,\n",
    "\n",
    "    # Report rewards as smoothed mean over this many episodes.\n",
    "    \"metrics_num_episodes_for_smoothing\": 200,\n",
    "}\n",
    "\n",
    "# Instantiate the Trainer object using the exact same config as in our Bandit experiment above.\n",
    "slateq_trainer = SlateQTrainer(config=slateq_config)\n",
    "slateq_trainer"
   ]
  },
  {
   "cell_type": "markdown",
   "id": "95395f1a-31c6-4933-b09a-d06959ad5714",
   "metadata": {},
   "source": [
    "<a id='slateq_experiment'></a>\n",
    "Now that we have confirmed we have setup the Trainer correctly, let's call `train()` on it several times:"
   ]
  },
  {
   "cell_type": "code",
   "execution_count": null,
   "id": "dc47c75f-4f6f-4806-995e-80ec974cfd86",
   "metadata": {},
   "outputs": [],
   "source": [
    "# Run `train()` n times. Repeatedly call `train()` now to see rewards increase.\n",
    "for _ in range(40):\n",
    "    results = slateq_trainer.train()\n",
    "    print(f\"Iteration={slateq_trainer.iteration}; ts={results['timesteps_total']}: R(\\\"return\\\")={results['episode_reward_mean']}\")"
   ]
  },
  {
   "cell_type": "markdown",
   "id": "7b86aecb-90ce-4be1-91a2-5c5391ab6adf",
   "metadata": {},
   "source": [
    "------------------\n",
    "## 15 min break :)\n",
    "\n",
    "while Slate-Q is (hopefully) leaning\n",
    "\n",
    "------------------\n",
    "\n",
    "<a id='slateq_results'></a>"
   ]
  },
  {
   "cell_type": "code",
   "execution_count": null,
   "id": "34bc1113-bd5e-45f5-bd8e-93931b8cee0b",
   "metadata": {},
   "outputs": [],
   "source": [
    "lts_20_2_env = LTSWithStrongerDissatisfactionEffect(LongTermSatisfactionRecSimEnv(config=slateq_config[\"env_config\"]))\n",
    "\n",
    "obs = lts_20_2_env.reset()\n",
    "done = False\n",
    "while not done:\n",
    "    action = slateq_trainer.compute_single_action(input_dict={\"obs\": obs})\n",
    "    feat_value_of_action = obs[\"doc\"][str(action[0])][0]\n",
    "    max_feat_action = np.argmax([value for _, value in obs[\"doc\"].items()])\n",
    "    max_choc_feat = obs['doc'][str(max_feat_action)][0]\n",
    "    # Print out the picked document's feature value and compare that to the highest possible feature value.\n",
    "    print(f\"action's feature value={feat_value_of_action} max-choc-feature={max_choc_feat}\")\n",
    "    \n",
    "    obs, r, done, _ = lts_20_2_env.step(action)"
   ]
  },
  {
   "cell_type": "markdown",
   "id": "f409efcd-9c5c-4d91-a1ae-121b1b2fa698",
   "metadata": {},
   "source": [
    "#### !OPTIONAL HACK!\n",
    "\n",
    "Feel free to play around with the following code in order to learn how RLlib - under the hood - calculates actions from the environment's observations using the SlateQ Policy and its NN models inside our Trainer object):"
   ]
  },
  {
   "cell_type": "code",
   "execution_count": null,
   "id": "b2b62d74-6392-453a-b25f-f8cbc90009d6",
   "metadata": {},
   "outputs": [],
   "source": [
    "# To get the policy inside the Trainer, use `Trainer.get_policy([policy ID]=\"default_policy\")`:\n",
    "policy = slateq_trainer.get_policy()\n",
    "print(f\"Our Policy right now is: {policy}\")\n",
    "\n",
    "# To get to the model inside any policy, do:\n",
    "model = policy.model\n",
    "#print(f\"Our Policy's model is: {model}\")\n",
    "\n",
    "# Print out the policy's action and observation spaces.\n",
    "print(f\"Our Policy's observation space is: {policy.observation_space}\\n\")\n",
    "print(f\"Our Policy's action space is: {policy.action_space}\\n\")\n",
    "\n",
    "# Produce a random obervation (B=1; batch of size 1).\n",
    "obs = lts_20_2_env.observation_space.sample()\n",
    "\n",
    "# tf-specific code: Use tf1.Session().\n",
    "sess = policy.get_session()\n",
    "\n",
    "# Get the action logits (as torch tensor).\n",
    "with sess.graph.as_default():\n",
    "    q_values_per_candidate = model.q_value_head([\n",
    "        np.expand_dims(obs[\"user\"], 0),\n",
    "        np.expand_dims(np.concatenate([value for value in obs[\"doc\"].values()]), 0),\n",
    "    ])\n",
    "print(f\"q_values_per_candidate={sess.run(q_values_per_candidate)}\")"
   ]
  },
  {
   "cell_type": "markdown",
   "id": "6ddf1390-bdea-412a-be31-ebbbc6f4ac72",
   "metadata": {},
   "source": [
    "#### !END: OPTIONAL HACK!"
   ]
  },
  {
   "cell_type": "markdown",
   "id": "de603d14-f0cb-4363-a72b-8f147c094071",
   "metadata": {},
   "source": [
    "In order to release all resources from a Trainer, you can use a Trainer's `stop()` method.\n",
    "You should definitley run this cell as it frees resources that we'll need later in this tutorial, when we'll do parallel hyperparameter sweeps."
   ]
  },
  {
   "cell_type": "code",
   "execution_count": null,
   "id": "737dca4f-942f-4fda-abcc-0052263a103b",
   "metadata": {},
   "outputs": [],
   "source": [
    "# In order to release resources that a Trainer uses, you can call its `stop()` method:\n",
    "slateq_trainer.stop()"
   ]
  },
  {
   "cell_type": "markdown",
   "id": "ecce74b8-20ed-43c5-ad88-54a2dec32f71",
   "metadata": {
    "tags": []
   },
   "source": [
    "### Recap: Advantages and Disadvantages of SlateQ:\n",
    "#### Advantages:\n",
    "* Decomposes MultiDiscrete action space (better understanding of items inside a k-slate)\n",
    "* Handles long-horizon credit assignment better than bandits (Q-learning)\n",
    "* Handles > 1 user problems\n",
    "* Sample efficient (due to replay buffer + off-policy DQN-style learning)\n",
    "\n",
    "#### Disadvantages\n",
    "* Uses larger (deep) model(s): One Q-value NN head per candidate\n",
    "* Slower and heavier feel to it\n",
    "* Requires careful hyperparameter-tuning, e.g. exploration timesteps."
   ]
  },
  {
   "cell_type": "markdown",
   "id": "bcc82057-6b4c-4075-bd32-93c3426a1700",
   "metadata": {
    "tags": []
   },
   "source": [
    "<a id='offline_rl'></a>\n",
    "## Introduction to Offline RL\n",
    "\n",
    "<img src=\"images/offline_rl.png\" width=800>"
   ]
  },
  {
   "cell_type": "code",
   "execution_count": null,
   "id": "f5114691-b74f-4b4e-8bdb-5df704bee067",
   "metadata": {
    "scrolled": true,
    "tags": []
   },
   "outputs": [],
   "source": [
    "# The previous tune.run (the one we did before the break) produced \"historic data\" output.\n",
    "# We will use this output in the following as input to a newly initialized, untrained offline RL algorithm.\n",
    "\n",
    "# Let's take a look at the generated file(s) first:\n",
    "output_dir = \"offline_rl/\"\n",
    "\n",
    "# Here is what the best log directory contains:\n",
    "print(\"\\n\\nThe logdir contains the following files:\")\n",
    "all_output_files = os.listdir(os.path.dirname(output_dir + \"/\"))\n",
    "pprint(all_output_files)\n",
    "\n",
    "json_output_file = os.path.join(output_dir, [f for f in all_output_files if re.match(\"^.*worker.*\\.json$\", f)][0])\n",
    "print(\"\\n\\nThe JSON file with all sampled trajectories is:\")\n",
    "print(json_output_file)"
   ]
  },
  {
   "cell_type": "markdown",
   "id": "75f4230f",
   "metadata": {},
   "source": [
    "### Using an (offline) input file with an offline RL algorithm.\n",
    "\n",
    "We will now pretend that we don't have a simulator for our problem (same recommender system problem as above) available, however, let's assume we possess a lot of pre-recorded, historic data from some legacy (non-RL) system.\n",
    "\n",
    "Assuming that this legacy system wrote some data into a JSON file (we'll simply use the same JSON file that our SlateQ algo produced above), how can we use this historic data to do RL either way?"
   ]
  },
  {
   "cell_type": "code",
   "execution_count": null,
   "id": "34a0aaea-b811-41e1-9e6c-532d9ce1b060",
   "metadata": {},
   "outputs": [],
   "source": [
    "# Let's take a look at the output file first:\n",
    "dataframe = pandas.read_json(json_output_file, lines=True)  # don't forget lines=True -> Each line in the json is one \"rollout\" of 4 timesteps.\n",
    "dataframe.head()\n"
   ]
  },
  {
   "cell_type": "markdown",
   "id": "48768f8f-25ad-4fee-92d2-5f99f34295f9",
   "metadata": {},
   "source": [
    "<a id='bc_and_marwil'></a>\n",
    "### Picking an offline RL algorithm\n",
    "\n",
    "RLlib offers different offline specialized algorithms, such as Behavior Cloning (imitation learning), MARWIL, or CQL.\n",
    "\n",
    "<img src=\"images/rllib_algorithms_offline_rl.png\" width=800>\n",
    "\n"
   ]
  },
  {
   "cell_type": "code",
   "execution_count": null,
   "id": "01e7b767-d11e-4b2d-bf86-bf88f06f8146",
   "metadata": {},
   "outputs": [],
   "source": [
    "# Let's configure a new RLlib Trainer, one that's capable of reading the JSON input described\n",
    "# above and able to learn from this input.\n",
    "\n",
    "# For simplicity, we'll start with a behavioral cloning (BC) trainer:\n",
    "from ray.rllib.agents.marwil import BCTrainer\n",
    "\n",
    "offline_rl_env = LongTermSatisfactionRecSimEnv({\n",
    "    \"num_candidates\": 20,\n",
    "    \"slate_size\": 2,\n",
    "    \"wrap_for_bandits\": False,  # SlateQ != Bandit\n",
    "    \"convert_to_discrete_action_space\": False,\n",
    "})\n",
    "\n",
    "\n",
    "# Configuring the BCTrainer:\n",
    "offline_rl_config = {\n",
    "    # Specify your offline RL algo's historic (JSON) inputs:\n",
    "    \"input\": [json_output_file],\n",
    "    \"actions_in_input_normalized\": True,\n",
    "    # Note: For non-offline RL algos, this is set to \"sampler\" by default.\n",
    "    #\"input\": \"sampler\",\n",
    "\n",
    "    # Since we don't have an environment and the obs/action-spaces are not defined in the JSON file,\n",
    "    # we need to provide these here manually.\n",
    "    \"env\": None,  # default\n",
    "    \"observation_space\": offline_rl_env.observation_space,\n",
    "    \"action_space\": offline_rl_env.action_space,\n",
    "\n",
    "    # Perform \"off-policy estimation\" (OPE) on train batches and report results.\n",
    "    \"input_evaluation\": [\"is\", \"wis\"],\n",
    "}\n",
    "\n",
    "# Create a behavior cloning (BC) Trainer from our config.\n",
    "bc_trainer = BCTrainer(config=offline_rl_config)\n",
    "bc_trainer"
   ]
  },
  {
   "cell_type": "code",
   "execution_count": null,
   "id": "d181dd19",
   "metadata": {},
   "outputs": [],
   "source": [
    "# Let's train our new behavioral cloning Trainer for some iterations:\n",
    "for _ in range(10):\n",
    "    results = bc_trainer.train()\n",
    "    print(f\"{results['info']['num_agent_steps_trained']} steps trained; reward = {results['episode_reward_mean']}\")"
   ]
  },
  {
   "cell_type": "code",
   "execution_count": null,
   "id": "3e48b13b-5b2d-4e75-9b50-c1a6b45c253b",
   "metadata": {},
   "outputs": [],
   "source": [
    "# Oh no! What happened?\n",
    "# We don't have an environment! No way to measure rewards per episode.\n",
    "\n",
    "# For behavior cloning, simply looking at the loss as a measurement of progress would be a good idea:\n",
    "for _ in range(10):\n",
    "    results = bc_trainer.train()\n",
    "    print(f\"{results['info']['num_agent_steps_trained']} steps trained; loss = {results['info']['learner']['default_policy']['learner_stats']['total_loss']}\")"
   ]
  },
  {
   "cell_type": "markdown",
   "id": "eb18e474-c5d0-45be-97e3-932482bc1cbb",
   "metadata": {},
   "source": [
    "<a id='ope'></a>\n",
    "### Off Policy Estimators\n",
    "Also: `results` still holds the last output of our non-evaluation BCTrainer.\n",
    "\n",
    "Extract off-policy estimator (OPE) results for the different methods:\n",
    "* 'is'=importance sampling\n",
    "<img src=\"images/ope.png\" width=400>\n",
    "\n",
    "* 'wis'=weighted importance sampling\n"
   ]
  },
  {
   "cell_type": "code",
   "execution_count": null,
   "id": "db41f0d5-7388-42b3-bd49-e82789011d90",
   "metadata": {},
   "outputs": [],
   "source": [
    "ope_results = results['off_policy_estimator']\n",
    "print(f\"IS off-policy estimation: {ope_results['is']}\")\n",
    "print(f\"WIS off-policy estimation: {ope_results['wis']}\")"
   ]
  },
  {
   "cell_type": "markdown",
   "id": "47dd66c3-f07a-4795-84ea-6b232ba6a047",
   "metadata": {},
   "source": [
    "### Saving and restoring a trained Trainer.\n",
    "Currently, `bc_trainer` is in an already trained state.\n",
    "It holds optimized weights in its Q-value/Policy's models that allow it to act\n",
    "already somewhat smart in our environment when given an observation.\n",
    "\n",
    "However, if we closed this notebook right now, all the effort would have been for nothing.\n",
    "Let's therefore save the state of our trainer to disk for later!"
   ]
  },
  {
   "cell_type": "code",
   "execution_count": null,
   "id": "57eae1e4-3cc4-4282-9a83-bc374bdad978",
   "metadata": {},
   "outputs": [],
   "source": [
    "# We use the `Trainer.save()` method to create a checkpoint.\n",
    "checkpoint_file = bc_trainer.save()\n",
    "print(f\"Trainer (at iteration {bc_trainer.iteration} was saved in '{checkpoint_file}'!\")\n",
    "\n",
    "# Here is what a checkpoint directory contains:\n",
    "print(\"The checkpoint directory contains the following files:\")\n",
    "os.listdir(os.path.dirname(checkpoint_file))"
   ]
  },
  {
   "cell_type": "markdown",
   "id": "5fc1e0ab-2c10-469a-97b1-4aadf1a1ec97",
   "metadata": {},
   "source": [
    "### Restoring and evaluating a Trainer\n",
    "In the following cell, we'll learn how to restore a saved Trainer from a checkpoint file.\n",
    "\n",
    "We'll also evaluate a completely new Trainer (should act more or less randomly) vs an already trained one (the one we just restored from the created checkpoint file)."
   ]
  },
  {
   "cell_type": "code",
   "execution_count": null,
   "id": "74ceedb9-c225-46f2-ad1d-f902c81d3256",
   "metadata": {},
   "outputs": [],
   "source": [
    "# Pretend, we wanted to pick up training from a previous run:\n",
    "new_bc_trainer = BCTrainer(config=offline_rl_config)\n",
    "\n",
    "# Restoring the trained state into the `new_trainer` object.\n",
    "print(f\"Before restoring: Trainer is at iteration={new_bc_trainer.iteration}\")\n",
    "new_bc_trainer.restore(checkpoint_file)\n",
    "print(f\"After restoring: Trainer is at iteration={new_bc_trainer.iteration}\")\n"
   ]
  },
  {
   "cell_type": "markdown",
   "id": "4147db25-4202-433e-aadb-c4fadbdfcbea",
   "metadata": {},
   "source": [
    "<a id='ray_serve'></a>\n",
    "### Deploying a trained policy via Ray Serve\n",
    "In the following cell, we'll learn how to use Ray Serve to deploy a trained policy, e.g. in your production for inference (computing actions; no further learning):\n"
   ]
  },
  {
   "cell_type": "code",
   "execution_count": null,
   "id": "adadb612-9578-46de-a9e8-67724045c801",
   "metadata": {},
   "outputs": [],
   "source": [
    "serve.start()\n",
    "\n",
    "@serve.deployment(route_prefix=\"/long-term-satisfaction\")\n",
    "class ServeModel:\n",
    "    def __init__(self, checkpoint_path) -> None:\n",
    "        self.trainer = BCTrainer(\n",
    "            config=offline_rl_config,\n",
    "        )\n",
    "        self.trainer.restore(checkpoint_path)\n",
    "\n",
    "    async def __call__(self, request: Request):\n",
    "        json_input = await request.json()\n",
    "        obs = json_input[\"observation\"]\n",
    "        # Translate obs back to np.arrays.\n",
    "        np_obs = OrderedDict(tree.map_structure(lambda s: np.array(s) if isinstance(s, list) else s, obs))\n",
    "        action = self.trainer.compute_single_action(np_obs, explore=False)\n",
    "        return {\"action\": action}\n",
    "\n",
    "\n",
    "ServeModel.deploy(checkpoint_file)"
   ]
  },
  {
   "cell_type": "code",
   "execution_count": null,
   "id": "1082340d-51f4-42a2-853a-508413a3d20d",
   "metadata": {},
   "outputs": [],
   "source": [
    "# Request 5 actions of an episode from served policy.\n",
    "obs = offline_rl_env.reset()\n",
    "\n",
    "for _ in range(5):\n",
    "    # Convert numpy arrays to lists (needed for transfer).\n",
    "    obs = tree.map_structure(lambda s: s.tolist() if isinstance(s, np.ndarray) else s, obs)\n",
    "\n",
    "    print(f\"-> Sending observation {obs}\")\n",
    "    resp = requests.get(\n",
    "        \"http://localhost:8000/long-term-satisfaction\", json={\"observation\": obs}\n",
    "    )\n",
    "    response_json = resp.json()\n",
    "    print(f\"<- got {response_json}\")\n",
    "    obs, _, _, _ = offline_rl_env.step(np.array(response_json[\"action\"]))\n"
   ]
  },
  {
   "cell_type": "markdown",
   "id": "e00f8e5a-d8a8-451d-bb97-b2000dbb2f9d",
   "metadata": {},
   "source": [
    "## Time for Q&A\n",
    "\n",
    "...\n",
    "\n",
    "## Thank you for listening and participating!\n",
    "\n",
    "### Here are a couple of links that you may find useful.\n",
    "\n",
    "- The <a href=\"https://github.com/sven1977/rllib_tutorials/tree/main/production_rl_2022\">github repo of this tutorial</a>.\n",
    "- <a href=\"https://docs.ray.io/en/latest/rllib/index.html\">RLlib's documentation main page</a>.\n",
    "- <a href=\"http://discuss.ray.io\">Our discourse forum</a> to ask questions on Ray and its libraries.\n",
    "- Our <a href=\"https://forms.gle/9TSdDYUgxYs8SA9e8\">Slack channel</a> for interacting with other Ray RLlib users.\n",
    "- The <a href=\"https://github.com/ray-project/ray/blob/master/rllib/examples/\">RLlib examples scripts folder</a> with tons of examples on how to do different stuff with RLlib.\n",
    "- A <a href=\"https://medium.com/distributed-computing-with-ray/reinforcement-learning-with-rllib-in-the-unity-game-engine-1a98080a7c0d\">blog post on training with RLlib inside a Unity3D environment</a>.\n"
   ]
  },
  {
   "cell_type": "code",
   "execution_count": null,
   "id": "dfac2bd7-8a01-4a89-a899-c5a33b7ada4c",
   "metadata": {},
   "outputs": [],
   "source": []
  }
 ],
 "metadata": {
  "interpreter": {
   "hash": "b3fb107eaebe84e4b639198a057d8922e95f826e1777630aa0e6eb5d8dd99ba0"
  },
  "kernelspec": {
   "display_name": "Python 3.9.12 ('rllib_tutorial')",
   "language": "python",
   "name": "python3"
  },
  "language_info": {
   "codemirror_mode": {
    "name": "ipython",
    "version": 3
   },
   "file_extension": ".py",
   "mimetype": "text/x-python",
   "name": "python",
   "nbconvert_exporter": "python",
   "pygments_lexer": "ipython3",
   "version": "3.9.12"
  }
 },
 "nbformat": 4,
 "nbformat_minor": 5
}
